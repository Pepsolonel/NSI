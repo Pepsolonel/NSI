{
 "cells": [
  {
   "cell_type": "markdown",
   "metadata": {},
   "source": [
    "# <center> Boucles non bornées : la boucle `while` </center>\n",
    "    \n",
    "### I - Introduction \n",
    "\n",
    "Parfois, les boucles bornées (boucles `for`) ne sont pas appropriées pour résoudre un problème, notamment lorsque le nombre de répétitions n’est pas connu à l’avance. On peut alors utiliser un autre type de boucle, qualifiée de boucle non bornée : la boucle `while` (boucle **Tant que**). \n",
    "\n",
    "Illustrons ces propos par un exemple. \n",
    "\n",
    "* **Situation 1 :**\n",
    "\n",
    "Hugo dépose 1 000 € sur un compte rémunéré à 5 %.  \n",
    "On souhaite déterminer le capital qui sera disponible dans 10 ans. \n",
    "\n",
    "\n",
    "* **Situation 2 :**\n",
    "\n",
    "Hugo dépose 1 000 € sur un compte rémunéré à 5 %.  \n",
    "On souhaite déterminer le nombre d'années nécessaires pour que le capital initial double. "
   ]
  },
  {
   "cell_type": "markdown",
   "metadata": {},
   "source": [
    "Voici un programme, écrit en Python, permettant d'apporter une réponse au problème de la situation 1."
   ]
  },
  {
   "cell_type": "code",
   "execution_count": null,
   "metadata": {},
   "outputs": [],
   "source": [
    "capital = 1000\n",
    "\n",
    "for i in range(10):\n",
    "    capital = capital * 1.05 # rappel : augmenter une quantité de 5 % revient à multiplier cette quantité par 1,05. \n",
    "\n",
    "print(\"Dans 10 ans, le capital disponible sera de\", round(capital, 2),\"euros.\")"
   ]
  },
  {
   "cell_type": "markdown",
   "metadata": {},
   "source": [
    "Dans cette situation, le nombre de répétitions de la boucle `for` est connu à l'avance : on sait que le capital va subir **10** augmentations successives de 5 %.  \n",
    "L'instruction `for i in range(10):` permet alors de répéter 10 fois l'instruction qui fait partie du corps de la boucle : `capital = capital * 1.05`.\n",
    "\n",
    "\n",
    "A contrario, dans la situation 2, le nombre d'augmentations successives de 5 % n'est pas connu à l'avance.  \n",
    "La boucle `for` n'est donc pas appropriée. \n",
    "\n",
    "Pour résoudre ce problème, il s'agit d'augmenter le capital de 5 % chaque année, **tant que** celui-ci n'a pas doublé, donc atteint la valeur de 2 000 €.  \n",
    "Le code suivant répond au problème posé : "
   ]
  },
  {
   "cell_type": "code",
   "execution_count": null,
   "metadata": {},
   "outputs": [],
   "source": [
    "capital = 1000   # Initialisation de la variable capital à 1000.\n",
    "cpt = 0          # cpt désigne le nombre d'années écoulées depuis le dépôt initial : cpt est donc initialisé à 0.\n",
    "\n",
    "while capital < 2000:\n",
    "    capital = capital * 1.05  \n",
    "    cpt = cpt + 1 # A chaque passage dans le corps de la boucle, il s'est écoulé une année de plus : cpt est incrémenté (augmente) de 1.\n",
    "    \n",
    "print(\"Le capital initial aura doublé dans\", cpt, \"ans.\")"
   ]
  },
  {
   "cell_type": "markdown",
   "metadata": {},
   "source": [
    "Les notions de **dès que**, **une fois que** ou de **tant que** peuvent être traduites dans le code Python par l’instruction `while`.\n",
    "\n",
    "### II - Construction d'une boucle `while`\n",
    "\n",
    "**Le principe de fonctionnement d'une boucle `while` est le suivant :** \n",
    "\n",
    "* Le programme arrive sur l’instruction `while booleen` : il évalue la valeur de `booleen` (qui peut être une simple variable mais qui est souvent une expression booléenne à évaluer, comme dans l'exemple précédent).\n",
    "\n",
    "<img src='images/img.jpg'>\n",
    "\n",
    "\n",
    "\n",
    "* Si la valeur de `booleen` est `True`, le programme exécute les instructions du corps de la boucle (`instruction 1, instruction 2, etc.`).  \n",
    "En Python, c'est l'indentation qui indique au programme si les instructions font partie ou non du corps de la boucle.  \n",
    "Dans d'autres langages de programmation, il peut y avoir une instruction qui indique la fin de la boucle, ou des accolades qui délimitent le bloc d'instructions. \n",
    "\n",
    "* Le programme retourne ensuite sur la ligne d’instructions `while booleen`, procède au même examen de `booleen`, et ainsi de suite…\n",
    "\n",
    "\n",
    "* La boucle s’arrête lorsque `booleen` prend la valeur `False`.  \n",
    "\n",
    "\n",
    "**La construction d’une boucle `while` comporte généralement trois éléments :** \n",
    "* une/des **initialisation(s) avant de commencer la boucle** : `capital = 1000` et `cpt = 0`.\n",
    "\n",
    "* un test qui permet de savoir si on continue la boucle (évaluation de l'expression booléenne à `True`) ou si on s’arrête (évaluation de l'expression booléenne à `False`) : `capital < 2000`.\n",
    "\n",
    "\n",
    "* une instruction qui, **à chaque tour de boucle**, **change la valeur d'au moins une variable intervenant dans le test**  : ici, `capital = capital * 1.05`.  \n",
    "En l'absence de cette instruction, l'évaluation de l'expression booléenne reste inchangée, égale à `True`, et le programme tourne à l'infini.  "
   ]
  },
  {
   "cell_type": "markdown",
   "metadata": {},
   "source": [
    "### IV - Un autre exemple\n",
    "\n",
    "Étant donné un entier `n`, on cherche un entier noté `m` qui soit le premier multiple de 10 supérieur ou égal à `n`. \n",
    "\n",
    "Si, par exemple, `n = 42` alors `m = 50` : en effet, 50 est bien un multiple de 10 et il n’y en pas d’autre entre 42 et 50. \n",
    "\n",
    "Voici d’autres exemples :\n",
    "<img src='images/img2.jpg' width = '200'>\n",
    "\n",
    "\n",
    "**L'idée à implémenter :**\n",
    "\n",
    "Les multiples de 10 sont les entiers : 0, 10, 20, 30 etc. \n",
    "\n",
    "Ils s’écrivent sous la forme $ 10 \\ k $ où $ k$ varie à partir de $0$.\n",
    "\n",
    "Pour trouver $m$, on parcourt les multiples de 10 depuis 0 et on s’arrête une fois qu’on a atteint ou dépassé l’entier $n$ donné. \n",
    "\n",
    "Autrement dit, on énumère les multiples $m$ de 10  **tant que** $m < n$.\n",
    "\n",
    "Le parcours est montré dans le tableau ci-dessous où on suppose que `n = 42`.\n",
    "\n",
    "<img src='images/img3.jpg' width = '500'>\n",
    "\n",
    "**Implémentation en Python**\n",
    "\n",
    "Le code suivant répond au problème posé :"
   ]
  },
  {
   "cell_type": "code",
   "execution_count": 1,
   "metadata": {},
   "outputs": [
    {
     "name": "stdout",
     "output_type": "stream",
     "text": [
      "Le premier multiple de 10 supérieuer ou égal à 54 est 60.\n"
     ]
    }
   ],
   "source": [
    "n=int(input('Saisir un nombre'))\n",
    "k=0\n",
    "m=0\n",
    "while m<n:\n",
    "    k+=1\n",
    "    m=10*k\n",
    "print('Le premier multiple de 10 supérieuer ou égal à '+str(n)+' est '+str(m)+'.')"
   ]
  },
  {
   "cell_type": "markdown",
   "metadata": {},
   "source": [
    "**Variable de contrôle**\n",
    "\n",
    "Une boucle `while` fait souvent appel à une **variable de contrôle** : ici `k`, qui évolue pendant la boucle. \n",
    "\n",
    "Ainsi,\n",
    "* cette variable est initialisée avant la boucle (instruction `k = 0`). \n",
    "\n",
    "\n",
    "* cette variable est réaffectée dans le corps de la boucle `while` (instruction `k = k + 1`).\n",
    "\n",
    "\n",
    "* La condition à tester, ici `multiple_de_10 < n` est différente d’un tour de boucle à l’autre car elle dépend de `k` qui, entre temps, a varié. \n",
    "\n",
    "**Analyse du code**\n",
    "\n",
    "\n",
    "Rendez-vous sur [Pythontutor](http://pythontutor.com/visualize.html#code=n%20%3D%2042%20%20%20%20%20%20%20%20%20%20%20%20%20%20%20%20%20%20%20%20%23%20Initialisation%20de%20la%20variable%20n%0Ak%20%3D%200%20%20%20%20%20%20%20%20%20%20%20%20%20%20%20%20%20%20%20%20%20%23%20Initialisation%20de%20la%20variable%20k%0A%0Amultiple_de_10%20%3D%2010%20*%20k%20%20%20%0A%0Awhile%20multiple_de_10%20%3C%20n%3A%0A%20%20%20%20k%20%3D%20k%20%2B%201%20%20%20%20%20%20%20%20%20%20%20%20%20%20%20%20%20%20%23%20R%C3%A9affectation%20de%20k%0A%20%20%20%20multiple_de_10%20%3D%2010%20*%20k%20%20%20%20%23%20Calcul%20du%20prochain%20multiple%20de%2010%0A%0Aprint%28%22Le%20premier%20multiple%20de%2010%20sup%C3%A9rieur%20ou%20%C3%A9gal%20%C3%A0%22,n,%22est%22,multiple_de_10,%22.%22%29&cumulative=false&curInstr=0&heapPrimitives=nevernest&mode=display&origin=opt-frontend.js&py=3&rawInputLstJSON=%5B%5D&textReferences=false). \n",
    "\n",
    "Visualisez l'exécution pas à pas de ce code : le résultat est affiché lorsque le test `multiple_de_10 < n` a échoué pour la première fois.  \n",
    "A ce moment-là, c'est donc que, pour la première fois, `multiple_de_10 >= n` : c'est bien ce que l'on cherchait. \n",
    "\n",
    "**Remarque :**\n",
    "\n",
    "Il se peut que l’exécution du code n’entre même pas dans le corps de la boucle `while`. \n",
    "\n",
    "Par exemple, observez ce qu'il se passe si on choisit `n = 0` au lieu de `n = 42` (sous pythontutor, le lien *Edit this code* permet de modifier le code) :  \n",
    "le test `multiple_de_10 < n` échoue immédiatement et donc le programme continue à la ligne 10 sans même passer par les lignes 7 et 8."
   ]
  },
  {
   "cell_type": "markdown",
   "metadata": {},
   "source": [
    "### IV - Une autre utilisation d'une boucle `while` : le contrôle de saisie\n",
    "\n",
    "* Prenons le cas d’une saisie au clavier où, par exemple, le programme pose une question à laquelle l’utilisateur doit répondre par O (Oui) ou N (Non). \n",
    "\n",
    "\n",
    "* Tôt ou tard, l’utilisateur, facétieux ou maladroit, risque de taper autre chose que la réponse attendue.\n",
    "\n",
    "\n",
    "* On met alors en place ce qu’on appelle un **contrôle de saisie**, afin de vérifier que les données entrées au clavier correspondent bien à celles attendues par le programme. \n",
    "\n",
    "**Exemple :**"
   ]
  },
  {
   "cell_type": "code",
   "execution_count": null,
   "metadata": {},
   "outputs": [],
   "source": [
    "rep = input(\"Voulez-vous un café ? (O/N)\")\n",
    "\n",
    "if ((rep != \"O\") and (rep != \"N\")):\n",
    "    print(\"Saisie erronnée. Recommencez.\")\n",
    "    rep=input(\"Voulez-vous un café ? (O/N)\")"
   ]
  },
  {
   "cell_type": "markdown",
   "metadata": {},
   "source": [
    "Ce programme est fonctionnel… \n",
    "\n",
    "Du moins, tant que l’utilisateur a le bon goût de ne se tromper qu’une seule fois et d’entrer une valeur correcte à la deuxième demande. \n",
    "\n",
    "\n",
    "Si l’on veut également prendre en compte une éventuelle deuxième erreur, il faudrait rajouter un `if`…  \n",
    "On pourrait rajouter des centaines de ` if` …   \n",
    "Mais on n’en sortira pas : il y aura toujours moyen de réussir à mettre en défaut le programme ! \n",
    "\n",
    "\n",
    "La seule issue est alors d’utiliser une boucle `while`.\n"
   ]
  },
  {
   "cell_type": "code",
   "execution_count": null,
   "metadata": {},
   "outputs": [],
   "source": [
    "rep = input(\"Voulez-vous un café ? (O/N)\")     #Initialisation\n",
    "\n",
    "while ((rep != \"O\") and (rep != \"N\")):         #Test de l'expression booléenne\n",
    "    print(\"Saisie erronnée. Recommencez.\")\n",
    "    rep = input()                              #Modification de la variable rep\n",
    "\n",
    "print(\"Saisie correcte\")"
   ]
  },
  {
   "cell_type": "markdown",
   "metadata": {},
   "source": [
    "**Exercice : Nombre impair**\n",
    "\n",
    "Ecrire un programme en Python qui demande à l'utilisateur de taper un nombre impair. Si l'utilisateur tape un nombre pair, le programme doit afficher \"*J'ai demandé un nombre impair ! Réessayez.*\" et ainsi de suite jusqu'à ce que l'utilisateur tape enfin un nombre impair. \n",
    "Lorsque c'est le cas, le programme affiche \"*Merci \"* et s'arrête.\n",
    "\n",
    "Exemples d'exécution :   \n",
    "\n",
    "<img src='images/image1.png' width = '400'>\n"
   ]
  },
  {
   "cell_type": "code",
   "execution_count": 4,
   "metadata": {},
   "outputs": [
    {
     "name": "stdout",
     "output_type": "stream",
     "text": [
      "J'ai demandé un nombre impair ! Réessayer.\n",
      "J'ai demandé un nombre impair ! Réessayer.\n",
      "J'ai demandé un nombre impair ! Réessayer.\n",
      "J'ai demandé un nombre impair ! Réessayer.\n",
      "J'ai demandé un nombre impair ! Réessayer.\n",
      "J'ai demandé un nombre impair ! Réessayer.\n",
      "J'ai demandé un nombre impair ! Réessayer.\n",
      "J'ai demandé un nombre impair ! Réessayer.\n",
      "J'ai demandé un nombre impair ! Réessayer.\n",
      "Merci\n"
     ]
    }
   ],
   "source": [
    "rep=int(input('Saisir un nombre impair'))\n",
    "while rep%2!=1:\n",
    "    print(\"J'ai demandé un nombre impair ! Réessayer.\")\n",
    "    rep=int(input('Saisir un nombre impair'))\n",
    "print('Merci')"
   ]
  },
  {
   "cell_type": "markdown",
   "metadata": {},
   "source": [
    "### V - Boucle `for` vs boucle `while` : précisions\n",
    "\n",
    "Python dispose donc de deux types de boucles : la boucle `for`et la boucle `while`. \n",
    "\n",
    "Elles ont chacune des usages spécifiques. \n",
    "\n",
    "**Usage de la boucle `for`**\n",
    "\n",
    "La boucle `for` s'emploie si : \n",
    "*  une action doit être effectuée un **nombre de fois connu** avant l’exécution de la boucle.  \n",
    "Par exemple, s’il faut afficher 42 fois un message, on utilise une boucle du type `for i in range(42)`.\n",
    "\n",
    "\n",
    "* on parcourt une chaîne de caractères ou une liste :\n",
    "  - ce peut être la totalité des éléments de la chaîne de caractères ou de la liste (on utilisera une boucle dont l'entête est du type `for x in chaine` ou encore `for i in range(len(chaine))`)\n",
    "  - ou un parcours des éléments de rang 4 à 8 (on utilisera alors une boucle dont l'entête sera du type `for i in range(4, 9)`).\n",
    "\n",
    "**Usage de la boucle `while`**\n",
    "\n",
    "La boucle `while` s’emploie si une action doit être répétée **tant qu’**une certaine condition reste vraie et **sans qu’on sache à l’avance combien de fois la boucle va être répétée**. \n",
    "\n",
    "Par exemple,\n",
    "* on a une liste d’entiers et on cherche le premier entier de la liste qui soit pair ;\n",
    "\n",
    "* on dépose un capital sur un compte en banque et on souhaite déterminer la durée nécessaire pour dépasser un certain seuil. \n",
    "\n",
    "**Usage inapproprié d'une boucle `while`**\n",
    "\n",
    "Le programme ci-dessous utilise une boucle `while` pour afficher les 5 premiers multiples de 10 :\n"
   ]
  },
  {
   "cell_type": "code",
   "execution_count": 3,
   "metadata": {},
   "outputs": [
    {
     "name": "stdout",
     "output_type": "stream",
     "text": [
      "0\n",
      "10\n",
      "20\n",
      "30\n",
      "40\n",
      "Fin\n"
     ]
    }
   ],
   "source": [
    "i = 0\n",
    "\n",
    "while i < 5:\n",
    "    print(10 * i)\n",
    "    i = i + 1\n",
    "\n",
    "print(\"Fin\")"
   ]
  },
  {
   "cell_type": "markdown",
   "metadata": {},
   "source": [
    "Ce code est un usage non recommandé de la boucle `while`. \n",
    "\n",
    "En effet, le code contient des instructions inutiles par rapport à une boucle `for` :\n",
    "* Instruction `i = 1` : initialisation inutile, c’est automatique avec une boucle `for`.\n",
    "\n",
    "* Instruction `while i <= 5:` : test de condition inutile, c'est automatique avec une boucle `for`.\n",
    "\n",
    "* Instruction `i = i + 1` : incrémentation inutile, c’est automatique avec une boucle `for`.\n",
    "\n",
    "Voici un code équivalent écrit avec une boucle `for` :\n"
   ]
  },
  {
   "cell_type": "code",
   "execution_count": 6,
   "metadata": {},
   "outputs": [
    {
     "name": "stdout",
     "output_type": "stream",
     "text": [
      "0\n",
      "10\n",
      "20\n",
      "30\n",
      "40\n",
      "Fin\n"
     ]
    }
   ],
   "source": [
    "for i in range(5):\n",
    "    print(10 * i)\n",
    "\n",
    "print(\"Fin\")"
   ]
  },
  {
   "cell_type": "markdown",
   "metadata": {},
   "source": [
    "**Boucle `for` vs boucle `while` : tableau récapitulatif**\n",
    "\n",
    "Utiliser une boucle `while` par rapport à une boucle `for` nécessite plus d'attention comme le résume le tableau ci-dessous. \n",
    "\n",
    "<img src='images/img4.jpg' width = '500'>\n",
    "\n",
    "\n",
    "\n"
   ]
  },
  {
   "cell_type": "markdown",
   "metadata": {},
   "source": [
    "### VI - Les exercices"
   ]
  },
  {
   "cell_type": "markdown",
   "metadata": {},
   "source": [
    "**Exercice 1 :**\n",
    "\n",
    "On considère le script Python suivant : \n",
    "\n",
    "```python\n",
    "nombre = int(input(\"Saisir un nombre entier : \"))\n",
    "quotient = 0\n",
    "while nombre != 0:\n",
    "    nombre = nombre - 2\n",
    "    quotient = quotient + 1\n",
    "print(quotient)\n",
    "```"
   ]
  },
  {
   "cell_type": "markdown",
   "metadata": {},
   "source": [
    "1. Quel résultat est affiché lorsque l'utilisateur saisit :\n",
    "   - le nombre 36 ?\n",
    "   - le nombre 60 ?\n",
    "\n",
    "**Vos réponses :** ..."
   ]
  },
  {
   "cell_type": "markdown",
   "metadata": {},
   "source": [
    "2. Que se passe-t-il lorsque l'utilisateur saisit le nombre 45 ? \n",
    "\n",
    "**Votre réponse :** La boucle tourne à l'infini car le nombre n'est jamais égal à 1 \n",
    "\n",
    "3. Saisir le script Python dans la cellule de code suivante et vérifier vos réponses aux deux questions précédentes (il est possible d'arrêter le script en appuyant sur le bouton \"stop\", à droite du bouton \"lecture\"). "
   ]
  },
  {
   "cell_type": "code",
   "execution_count": null,
   "metadata": {},
   "outputs": [
    {
     "ename": "KeyboardInterrupt",
     "evalue": "",
     "output_type": "error",
     "traceback": [
      "\u001b[0;31m---------------------------------------------------------------------------\u001b[0m",
      "\u001b[0;31mKeyboardInterrupt\u001b[0m                         Traceback (most recent call last)",
      "Cell \u001b[0;32mIn[9], line 3\u001b[0m\n\u001b[1;32m      1\u001b[0m nombre \u001b[38;5;241m=\u001b[39m \u001b[38;5;28mint\u001b[39m(\u001b[38;5;28minput\u001b[39m(\u001b[38;5;124m\"\u001b[39m\u001b[38;5;124mSaisir un nombre entier : \u001b[39m\u001b[38;5;124m\"\u001b[39m))\n\u001b[1;32m      2\u001b[0m quotient \u001b[38;5;241m=\u001b[39m \u001b[38;5;241m0\u001b[39m\n\u001b[0;32m----> 3\u001b[0m \u001b[38;5;28;01mwhile\u001b[39;00m nombre \u001b[38;5;241m!=\u001b[39m \u001b[38;5;241m0\u001b[39m:\n\u001b[1;32m      4\u001b[0m     nombre\u001b[38;5;241m-\u001b[39m\u001b[38;5;241m=\u001b[39m\u001b[38;5;241m2\u001b[39m\n\u001b[1;32m      5\u001b[0m     quotient \u001b[38;5;241m=\u001b[39m quotient \u001b[38;5;241m+\u001b[39m \u001b[38;5;241m1\u001b[39m\n",
      "\u001b[0;31mKeyboardInterrupt\u001b[0m: "
     ]
    }
   ],
   "source": [
    "nombre = int(input(\"Saisir un nombre entier : \"))\n",
    "quotient = 0\n",
    "while nombre != 0:\n",
    "    nombre-=2\n",
    "    quotient = quotient + 1\n",
    "print(quotient) "
   ]
  },
  {
   "cell_type": "markdown",
   "metadata": {},
   "source": [
    "4. Dans quelle situation générale le problème rencontré à la question 3 se pose-t-il ?\n",
    "\n",
    "**Votre réponse :** Quand le nombre est impair\n",
    "\n",
    "5. Modifier le script pour corriger le problème rencontré."
   ]
  },
  {
   "cell_type": "code",
   "execution_count": 10,
   "metadata": {},
   "outputs": [
    {
     "name": "stdout",
     "output_type": "stream",
     "text": [
      "3\n"
     ]
    }
   ],
   "source": [
    "nombre = int(input(\"Saisir un nombre entier : \"))\n",
    "quotient = 0\n",
    "while nombre >1:\n",
    "    nombre = nombre - 2\n",
    "    quotient = quotient + 1\n",
    "print(quotient)"
   ]
  },
  {
   "cell_type": "markdown",
   "metadata": {},
   "source": [
    "6. Modifier encore légèrement le script pour qu'il affiche à la fois le quotient et le reste de la division euclidienne par 2."
   ]
  },
  {
   "cell_type": "code",
   "execution_count": 2,
   "metadata": {},
   "outputs": [
    {
     "name": "stdout",
     "output_type": "stream",
     "text": [
      "le quotient est 28.\n",
      "le reste est 0.\n"
     ]
    }
   ],
   "source": [
    "nombre = int(input(\"Saisir un nombre entier : \"))\n",
    "reste=nombre\n",
    "quotient = 0\n",
    "while nombre >1:\n",
    "    nombre = nombre - 2\n",
    "    quotient+=1\n",
    "reste=reste-(quotient*2)\n",
    "print('le quotient est '+str(quotient)+'.')\n",
    "print('le reste est '+str(reste)+'.')"
   ]
  },
  {
   "cell_type": "markdown",
   "metadata": {},
   "source": [
    "**Exercice 2 : calculer le nombre de chiffres d'un entier**\n",
    "\n",
    "On donne un entier `n ≥ 0` et on cherche le nombre de chiffres de `n` (ce nombre de chiffres sera appelé `nb_chiffres`).   \n",
    "Par exemple, si `n = 2020`,  alors `nb_chiffres = 4` ou encore si `n = 42`, alors `nb_chiffres = 2`.  \n",
    "L’idée pour calculer `nb_chiffres` est de compter le nombre de divisions successives de `n` par 10 jusqu’à ce que le quotient (entier) soit nul. \n",
    "\n",
    "Par exemple, \n",
    "\n",
    "* le quotient entier de 2020 par 10 est 202 ; \n",
    "* le quotient entier de 202 par 10 est 20 ;\n",
    "* le quotient entier de 20 par 10 est 2 ;\n",
    "* le quotient entier de  2 par 10 est 0.\n",
    "\n",
    "C’est parce que `2020` a justement 4 chiffres qu’on a effectué 4 divisions successives par 10 avant d’obtenir un quotient nul. \n",
    "\n",
    "Le script incomplet suivant doit permettre de déterminer le nombre de chiffres d'un nombre entier.   \n",
    "Compléter ce script afin de le rendre fonctionnel. \n",
    "*On pourra commencer par faire fonctionner l'algorithme, à la main, sur quelques exemples.*\n"
   ]
  },
  {
   "cell_type": "code",
   "execution_count": 1,
   "metadata": {},
   "outputs": [
    {
     "name": "stdout",
     "output_type": "stream",
     "text": [
      "3\n"
     ]
    }
   ],
   "source": [
    "nombre=int(input(\"Saisir un nombre entier strictement positif\"))\n",
    "nb_chiffres=0\n",
    "while nombre>0:\n",
    "    nb_chiffres+=1      \n",
    "    nombre//=10\n",
    "print(nb_chiffres)"
   ]
  },
  {
   "cell_type": "markdown",
   "metadata": {},
   "source": [
    "**Exercice 3 : diviser par 2 ou retirer 1**\n",
    "\n",
    "Observez le motif ci-dessous formé de 10 entiers.  \n",
    "On part d’un entier $a \\geq 0$, ici `a = 81`, et on construit une suite d’entiers ainsi :\n",
    "<img src='images/img6.jpg' >\n",
    "\n",
    "Le procédé de construction est défini ainsi :\n",
    "*  si l’entier `x` est pair, le successeur de `x` dans la suite de nombres est la moitié de `x` ;\n",
    "*  sinon, ce successeur est `x − 1` ;\n",
    "*  la suite de nombre se termine dès qu’un élément vaut 0.\n",
    "\n",
    "Par exemple, dans la suite ci-dessus, le successeur de 80 est 40 car 80 est pair et que sa moitié est 40, et le successeur de 5 est 4 car 5 est impair et 4 = 5 − 1.\n",
    "\n",
    "**Travail à faire :**\n",
    "\n",
    "1) L'utilisateur choisit un entier `a ≥ 0`. Vous devez afficher la suite générée à partir de `a`\n",
    "\n",
    "Par exemple, si `a = 79`, vous devez afficher la suite suivante :\n",
    "\n",
    "<img src='images/img7.jpg' >\n",
    "\n",
    "2) Modifiez votre programme pour qu'il affiche le nombre d'étapes nécessaires pour atteindre 0.  \n",
    "Dans l'exemple ci-dessus (avec `a = 79`), le nombre d'étapes est 11.\n",
    "\n",
    "**Pour aller plus loin**  \n",
    "\n",
    "3) On considère toutes les suites dont le nombre de départ est un nombre entier compris entre 0 et 1000 (inclus).  \n",
    "Modifiez encore votre programme pour qu'il affiche le nombre d'étapes nécessaires pour atteindre 0. \n",
    "\n",
    "5) Modifiez encore votre programme pour qu'il réponde au problème suivant : \n",
    "\n",
    "*Parmi toutes les suites commençant par un entier entre 0 et 1000 (inclus), quelle est la longueur maximale d'une suite ? Y-a-t-il un ou plusieurs nombre(s) de départ concernés ?*\n"
   ]
  },
  {
   "cell_type": "code",
   "execution_count": 2,
   "metadata": {},
   "outputs": [
    {
     "name": "stdout",
     "output_type": "stream",
     "text": [
      "7\n",
      "6\n",
      "3\n",
      "2\n",
      "1\n",
      "0\n"
     ]
    }
   ],
   "source": [
    "nombre=int(input('Saisir un nombre'))\n",
    "print(nombre)\n",
    "while nombre>0:\n",
    "    if nombre%2==0:\n",
    "        nombre//=2\n",
    "    else:\n",
    "        nombre-=1\n",
    "    print(nombre)"
   ]
  },
  {
   "cell_type": "markdown",
   "metadata": {},
   "source": [
    "**Exercice 4 : la conjecture de Syracuse**   \n",
    "On appelle suite de Syracuse une suite d'entiers naturels définie de la manière suivante : on part d'un nombre entier strictement positif ; s’il est pair, on le divise par 2 ; s’il est impair, on le multiplie par 3 et on ajoute 1.   \n",
    "En répétant l’opération, on obtient une suite d'entiers strictement positifs dont chacun ne dépend que de son prédécesseur.</br>  \n",
    "\n",
    "Par exemple, à partir de 10, on construit la suite des nombres : 5, 16, 8, 4, 2, 1, 4, 2, 1, 4, 2 …  \n",
    "C'est ce qu'on appelle la suite de Syracuse du nombre 14. <br/>\n",
    "\n",
    "Après que le nombre 1 ait été atteint, la suite des valeurs (1, 4, 2, 1, 4, 2, …) se répète indéfiniment en un cycle de longueur 3.  \n",
    "\n",
    "La conjecture de Syracuse affirme que l'on finit par atteindre 1, quelle que soit la valeur de départ.   \n",
    "Il s'agit d'une des conjectures les plus célèbres des mathématiques, et elle n'a toujours pas été démontrée à ce jour.  \n",
    "On appelle \"temps de vol\" d'un entier n le nombre d'étapes nécessaires pour arriver à 1.  \n",
    "Ansi, le temps de vol de 10 est 6.<br/>\n",
    "    \n",
    " 1. Ecrire un script Python qui demande à l'utilisateur de saisir un entier strictement positif, puis calcule et affiche le temps de vol de cet entier. \n",
    " 2. Vérifier que :\n",
    "    - le temps de vol de l'entier 15 est 17 ; \n",
    "    - le temps de vol de l'entier 50 est 24 ;\n",
    "    - le temps de vol de l'entier 81 est 22.\n",
    " 3. Ecrire un programme qui détermine, parmi les entiers de 1 à 1000, celui qui a le temps de vol le plus long."
   ]
  },
  {
   "cell_type": "code",
   "execution_count": 12,
   "metadata": {},
   "outputs": [
    {
     "name": "stdout",
     "output_type": "stream",
     "text": [
      "Le temps de vol pour le nombre 871 est : 178.\n"
     ]
    }
   ],
   "source": [
    "nombre=int(input('Saisir un nombre entier supérieur à 1'))\n",
    "x=nombre\n",
    "assert nombre>1, \"Ce n'est pas un nombre entier supérieur à 1\"\n",
    "tvol=0\n",
    "while nombre>1:\n",
    "    if nombre%2==0:\n",
    "        nombre//=2\n",
    "        tvol+=1\n",
    "    else:\n",
    "        nombre=(nombre*3)+1\n",
    "        tvol+=1\n",
    "print('Le temps de vol pour le nombre '+str(x)+' est : '+str(tvol)+'.')"
   ]
  },
  {
   "cell_type": "code",
   "execution_count": null,
   "metadata": {},
   "outputs": [
    {
     "name": "stdout",
     "output_type": "stream",
     "text": [
      "Le temps de vol maximum est 178 pour le nombre 871.\n"
     ]
    }
   ],
   "source": [
    "tvolmax=0\n",
    "nb_tvolmax=0\n",
    "for nombre in range(2,1001):\n",
    "    x=nombre\n",
    "    tvol=0\n",
    "    while nombre>1:\n",
    "        if nombre%2==0:\n",
    "            nombre//=2\n",
    "            tvol+=1\n",
    "        else:\n",
    "            nombre=(nombre*3)+1\n",
    "            tvol+=1\n",
    "    if tvol>tvolmax:\n",
    "        tvolmax=tvol\n",
    "        nb_tvolmax=x\n",
    "print('Le temps de vol maximum est '+str(tvolmax)+' pour le nombre '+str(nb_tvolmax)+'.')\n"
   ]
  },
  {
   "cell_type": "markdown",
   "metadata": {},
   "source": [
    "**Exercice 5 : conversion en binaire**\n",
    "\n",
    "Pour rappel, la conversion d’un nombre entier positif en binaire peut s’effectuer à l’aide des divisions successives comme illustré ici :  \n",
    "\n",
    "\n",
    "<img src='images/conversion_binaire.jpg' width = '250'>\n",
    "\n",
    "Voici un script python, incomplet, basé sur la méthode des divisions successives permettant de convertir un nombre entier positif en binaire :"
   ]
  },
  {
   "cell_type": "code",
   "execution_count": 18,
   "metadata": {},
   "outputs": [
    {
     "name": "stdout",
     "output_type": "stream",
     "text": [
      "0\n"
     ]
    }
   ],
   "source": [
    "a = int(input(\"Veuillez saisir un nombre entier positif (ou nul) : \"))\n",
    "\n",
    "bin_a = str(a % 2)\n",
    "a = a // 2\n",
    "\n",
    "while a>0 :\n",
    "    bin_a = str(a % 2) + bin_a\n",
    "    a = a//2\n",
    "\n",
    "print(bin_a)"
   ]
  },
  {
   "cell_type": "markdown",
   "metadata": {},
   "source": [
    "Compléter ce script.  \n",
    "Vous pouvez visualiser ce que fait votre programme, pas à pas, grâce à l'application [Pythontutor](https://pythontutor.com/) \n",
    "\n",
    "Pour vérifier vos réponses, voici quelques résultats attendus :   \n",
    "* Si l'utilisateur saisit 0, le programme devra afficher 0 ;\n",
    "* Si l'utilisateur saisit 77, le programme devra afficher 1001101 ;"
   ]
  },
  {
   "cell_type": "markdown",
   "metadata": {},
   "source": [
    "**Exercice 6 : le nombre mystérieux**\n",
    "\n",
    "Ecrire un programme en Python qui tire un nombre entier aléatoire entre 1 et 100 (inclus), puis qui, tant que la réponse n'est pas correcte, demande à l’utilisateur de proposer un nombre. \n",
    "\n",
    "En cas de réponse supérieure au nombre aléatoire tiré, on fera apparaître un message : « *Plus petit !* », et inversement, « *Plus grand !* » si le nombre est inférieur. Le message « *Bravo ! Vous avez trouvé le nombre* » sera affiché à la fin de la partie. \n"
   ]
  },
  {
   "cell_type": "code",
   "execution_count": 21,
   "metadata": {},
   "outputs": [
    {
     "name": "stdout",
     "output_type": "stream",
     "text": [
      "Plus grand !\n",
      "Plus grand !\n",
      "Plus petit !\n",
      "Plus petit !\n",
      "Plus grand !\n",
      "Plus grand !\n",
      "Plus grand !\n",
      "Plus grand !\n",
      "Plus grand !\n",
      "Plus grand !\n",
      "Plus petit !\n",
      "Plus grand !\n",
      "Plus grand !\n",
      "Plus grand !\n",
      "Plus grand !\n"
     ]
    }
   ],
   "source": [
    "from random import randint\n",
    "nb_input=int(input('Saisir un nombre entre 1 et 100'))\n",
    "nb_mysterieux = randint(1,100)\n",
    "while nb_input!=nb_mysterieux:\n",
    "    if nb_input<nb_mysterieux:\n",
    "        print('Plus grand !')\n",
    "        nb_input=int(input())\n",
    "    else:\n",
    "        print('Plus petit !')\n",
    "        nb_input=int(input())"
   ]
  },
  {
   "cell_type": "markdown",
   "metadata": {},
   "source": [
    "* **Améliorations du programme :**\n",
    "\n",
    "Optimisez le programme pour que : \n",
    "\n",
    "1) Il affiche le nombre de tentatives que vous avez faites ;\n",
    "\n",
    "2) A la fin de la partie, le programme propose de rejouer."
   ]
  },
  {
   "cell_type": "code",
   "execution_count": null,
   "metadata": {},
   "outputs": [
    {
     "name": "stdout",
     "output_type": "stream",
     "text": [
      "Plus petit !\n",
      "Plus petit !\n",
      "Plus petit !\n",
      "Plus petit !\n",
      "Plus grand !\n",
      "Plus grand !\n",
      "Plus grand !\n",
      "Plus petit !\n",
      "Il vous a fallu 8 tentatives.\n"
     ]
    },
    {
     "ename": "AssertionError",
     "evalue": "Vous n'avez pas répondu par oui ou par non",
     "output_type": "error",
     "traceback": [
      "\u001b[0;31m---------------------------------------------------------------------------\u001b[0m",
      "\u001b[0;31mAssertionError\u001b[0m                            Traceback (most recent call last)",
      "Cell \u001b[0;32mIn[28], line 23\u001b[0m\n\u001b[1;32m     21\u001b[0m \u001b[38;5;28;01melif\u001b[39;00m volonté_remise_en_jeu\u001b[38;5;241m==\u001b[39m\u001b[38;5;124m'\u001b[39m\u001b[38;5;124mnon\u001b[39m\u001b[38;5;124m'\u001b[39m:\n\u001b[1;32m     22\u001b[0m     volonté_remise_en_jeu\u001b[38;5;241m==\u001b[39m\u001b[38;5;124m'\u001b[39m\u001b[38;5;124mn\u001b[39m\u001b[38;5;124m'\u001b[39m\n\u001b[0;32m---> 23\u001b[0m \u001b[38;5;28;01massert\u001b[39;00m volonté_remise_en_jeu\u001b[38;5;241m==\u001b[39m\u001b[38;5;124m'\u001b[39m\u001b[38;5;124mo\u001b[39m\u001b[38;5;124m'\u001b[39m \u001b[38;5;129;01mor\u001b[39;00m volonté_remise_en_jeu\u001b[38;5;241m==\u001b[39m\u001b[38;5;124m'\u001b[39m\u001b[38;5;124mn\u001b[39m\u001b[38;5;124m'\u001b[39m, \u001b[38;5;124m\"\u001b[39m\u001b[38;5;124mVous n\u001b[39m\u001b[38;5;124m'\u001b[39m\u001b[38;5;124mavez pas répondu par oui ou par non\u001b[39m\u001b[38;5;124m\"\u001b[39m\n",
      "\u001b[0;31mAssertionError\u001b[0m: Vous n'avez pas répondu par oui ou par non"
     ]
    }
   ],
   "source": [
    "volonté_remise_en_jeu=''\n",
    "while volonté_remise_en_jeu!='n':\n",
    "    from random import randint\n",
    "    nb_input=int(input('Saisir un nombre entre 1 et 100'))\n",
    "    nb_mysterieux = randint(1,100)\n",
    "    nb_tentatives=0\n",
    "    while nb_input!=nb_mysterieux:\n",
    "        if nb_input<nb_mysterieux:\n",
    "            print('Plus grand !')\n",
    "            nb_input=int(input())\n",
    "            nb_tentatives+=1\n",
    "        else:\n",
    "            print('Plus petit !')\n",
    "            nb_input=int(input())\n",
    "            nb_tentatives+=1\n",
    "    print('Il vous a fallu '+str(nb_tentatives)+' tentatives.')\n",
    "    volonté_remise_en_jeu=input('Voulez vous rejouez Oui/Non ?')\n",
    "    volonté_remise_en_jeu=volonté_remise_en_jeu.lower\n",
    "    if volonté_remise_en_jeu=='non':\n",
    "        volonté_remise_en_jeu=='n'"
   ]
  },
  {
   "cell_type": "markdown",
   "metadata": {},
   "source": []
  },
  {
   "cell_type": "markdown",
   "metadata": {},
   "source": [
    "**Exercice 7 : lettres découvertes**\n",
    "\n",
    "On propose à un joueur de découvrir un mot secret, par exemple **CITRONNIER**. Au début, les lettres du mot secret sont cachées par des astérisques :\n",
    "\n",
    "<img src='images/lettres_decouvertes1.jpg' >\n",
    "\n",
    "Si le joueur propose le caractère **R**, il obtient la réponse :\n",
    "\n",
    "<img src='images/lettres_decouvertes2.jpg' >\n",
    "\n",
    "S’il continue avec **N**, il obtiendra :\n",
    "\n",
    "<img src='images/lettres_decouvertes3.jpg' >\n",
    "\n",
    "S’il propose maintenant la lettre **U**, il obtiendra le même résultat que ci-dessus car **U** n’est pas dans le mot secret.  \n",
    "\n",
    "**Travail à faire :**\n",
    "\n",
    "On demande d’afficher le mot au fur et à mesure que les lettres sont proposées, et ce, tant que le joueur n'a pas trouvé le mot secret. \n",
    "\n",
    "Dans votre programme : \n",
    "* la chaîne de caractères `mot_secret` contiendra le mot à trouver, par exemple le mot **CITRONNIER**.   \n",
    "* une chaîne de caractères, nommée `essais`, sera constituées des lettres successives proposées par le joueur. Par exemple, si le mot est **CITRONNIER** et si la suite des lettres est `essais=\"RNUIB\"`, alors le programme devra afficher :\n",
    "\n",
    "<img src='images/lettres_decouvertes4.jpg' >\n"
   ]
  },
  {
   "cell_type": "code",
   "execution_count": null,
   "metadata": {},
   "outputs": [
    {
     "name": "stdout",
     "output_type": "stream",
     "text": [
      "TITS\n"
     ]
    },
    {
     "ename": "NameError",
     "evalue": "name 'a' is not defined",
     "output_type": "error",
     "traceback": [
      "\u001b[0;31m---------------------------------------------------------------------------\u001b[0m",
      "\u001b[0;31mNameError\u001b[0m                                 Traceback (most recent call last)",
      "Cell \u001b[0;32mIn[2], line 5\u001b[0m\n\u001b[1;32m      3\u001b[0m essais \u001b[38;5;241m=\u001b[39m \u001b[38;5;124m\"\u001b[39m\u001b[38;5;124m\"\u001b[39m                         \u001b[38;5;66;03m# Le joueur n'a encore pas proposé de lettre       \u001b[39;00m\n\u001b[1;32m      4\u001b[0m \u001b[38;5;28mprint\u001b[39m(mot_secret)\n\u001b[0;32m----> 5\u001b[0m \u001b[38;5;28;01mwhile\u001b[39;00m \u001b[43ma\u001b[49m\u001b[38;5;241m!=\u001b[39m\u001b[38;5;241m2\u001b[39m:\n\u001b[1;32m      6\u001b[0m     a\u001b[38;5;241m=\u001b[39m\u001b[38;5;241m1\u001b[39m\n\u001b[1;32m      7\u001b[0m     a\u001b[38;5;241m=\u001b[39m\u001b[38;5;241m+\u001b[39m\u001b[38;5;241m1\u001b[39m\n",
      "\u001b[0;31mNameError\u001b[0m: name 'a' is not defined"
     ]
    }
   ],
   "source": [
    "mot_secret = input(\"Saisissez un mot secret : \")\n",
    "mot_secret = mot_secret.upper()      # Conversion du mot secret en majuscules.\n",
    "essais = \"\"                         # Le joueur n'a encore pas proposé de lettre       \n",
    "print(mot_secret)\n",
    "\n",
    "\n"
   ]
  },
  {
   "cell_type": "markdown",
   "metadata": {},
   "source": [
    "**Exercice 8 : le jeu des allumettes**  \n",
    "\n",
    "Le *jeu des allumettes* est un jeu à deux joueurs qui se joue ainsi : \n",
    "\n",
    "* Initialement, 21 allumettes sont posées sur la table. \n",
    "* A tour de rôle, chaque joueur enlève une, deux ou trois allumettes.\n",
    "* Celui qui enlève la dernière allumette a perdu. \n",
    "\n",
    "**Question 1 :**  \n",
    "Nous allons écrire un programme qui permet de jouer contre l'ordinateur. \n",
    "\n",
    "1) A l'aide d'une boucle `while` et d'une variable `nb_allumettes` contenant le nombre d'allumettes restant sur la table, écrire un programme qui :\n",
    "* permet à l'utilisateur d'indiquer combien d'allumettes il enlève ;\n",
    "* permet ensuite à l'ordinateur d'enlever un nombre aléatoire d'allumettes (au moins une et pas plus de trois)\n",
    "\n",
    "et ce, tant qu'il reste des allumettes. \n",
    "\n",
    "Au début de chaque tour de boucle, on affichera le nombre actuel d'allumettes.  \n",
    "L'exécution doit donc ressembler à quelque chose comme ceci :   \n",
    "\n",
    "**Il y a 21 allumettes.  \n",
    "Combien en prenez-vous ?  3  \n",
    "Je prends 2 allumettes  \n",
    "Il y a 16 allumettes  \n",
    "Combien en prenez-vous ? 1  \n",
    "Je prends 3 allumettes  \n",
    "Il y a 12 allumettes  \n",
    "Combien en prenez-vous ? 3  \n",
    "...**\n",
    "\n",
    "Le pronom \"Je\" fait référence ici à l'ordinateur. \n",
    "\n",
    "Attention à ne pas faire retirer à l'ordinateur plus d'allumettes qu'il n'en reste. \n"
   ]
  },
  {
   "cell_type": "code",
   "execution_count": 1,
   "metadata": {},
   "outputs": [],
   "source": [
    "from random import randint\n",
    "\n",
    "#A compléter\n"
   ]
  },
  {
   "cell_type": "markdown",
   "metadata": {},
   "source": [
    "**Question 2 :**  \n",
    "Améliorer ce programme pour qu'il affiche `Vous avez perdu` ou `Vous avez gagné` lorsque la dernière allumette est retirée.\n",
    "\n",
    "**Question 3 :**  \n",
    "Améliorer encore ce programme pour qu'il s'assure que le nombre d'allumettes chosi par le joueur est bien au mois égal à un, au plus égal à trois et pas plus grand que le nombre d'allumettes restantes. On pourra pour cela utiliser une boucle `while` pour répéter la saisie tant que la valeur n'est pas correcte. \n",
    "\n",
    "**Question 4 :**  \n",
    "Il se trouve qu'il existe une stratégie gagnante pour le joueur qui joue en second.  \n",
    "La trouver et la programmer, de manière à ce que l'ordinateur (qui jouera donc en second) gagne systématiquement. \n"
   ]
  },
  {
   "cell_type": "code",
   "execution_count": null,
   "metadata": {},
   "outputs": [],
   "source": []
  }
 ],
 "metadata": {
  "kernelspec": {
   "display_name": "Python 3",
   "language": "python",
   "name": "python3"
  },
  "language_info": {
   "codemirror_mode": {
    "name": "ipython",
    "version": 3
   },
   "file_extension": ".py",
   "mimetype": "text/x-python",
   "name": "python",
   "nbconvert_exporter": "python",
   "pygments_lexer": "ipython3",
   "version": "3.12.7"
  }
 },
 "nbformat": 4,
 "nbformat_minor": 4
}
