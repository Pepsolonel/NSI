{
 "cells": [
  {
   "cell_type": "markdown",
   "metadata": {},
   "source": [
    "# <center> Boucles `for` imbriquées <center>\n"
   ]
  },
  {
   "cell_type": "markdown",
   "metadata": {},
   "source": [
    "Le corps de toute boucle `for` peut contenir n'importe quel type d'instructions et, en particulier, une autre boucle `for`. \n",
    "\n",
    "### Premiers exemples : \n",
    "\n",
    "Exécutez les deux cellules de code suivantes, puis comparez ces deux programmes. \n"
   ]
  },
  {
   "cell_type": "code",
   "execution_count": 1,
   "metadata": {},
   "outputs": [
    {
     "name": "stdout",
     "output_type": "stream",
     "text": [
      "Il est passé par ici\n",
      "Il est passé par ici\n",
      "Il est passé par ici\n",
      "Il est passé par ici\n",
      "Il est passé par ici\n",
      "Il repassera par là\n",
      "Il repassera par là\n",
      "Il repassera par là\n"
     ]
    }
   ],
   "source": [
    "# Programme n°1 : \n",
    "for truc in range(5):\n",
    "    print(\"Il est passé par ici\")\n",
    "    \n",
    "for trac in range(3):\n",
    "    print(\"Il repassera par là\")    \n"
   ]
  },
  {
   "cell_type": "code",
   "execution_count": 2,
   "metadata": {},
   "outputs": [
    {
     "name": "stdout",
     "output_type": "stream",
     "text": [
      "Il est passé par ici\n",
      "Il repassera par là\n",
      "Il repassera par là\n",
      "Il repassera par là\n",
      "Il est passé par ici\n",
      "Il repassera par là\n",
      "Il repassera par là\n",
      "Il repassera par là\n",
      "Il est passé par ici\n",
      "Il repassera par là\n",
      "Il repassera par là\n",
      "Il repassera par là\n",
      "Il est passé par ici\n",
      "Il repassera par là\n",
      "Il repassera par là\n",
      "Il repassera par là\n",
      "Il est passé par ici\n",
      "Il repassera par là\n",
      "Il repassera par là\n",
      "Il repassera par là\n"
     ]
    }
   ],
   "source": [
    "# Programme n°2 : \n",
    "for truc in range(5):\n",
    "    print(\"Il est passé par ici\")\n",
    "    for trac in range(3):\n",
    "        print(\"Il repassera par là\")    "
   ]
  },
  {
   "cell_type": "markdown",
   "metadata": {},
   "source": [
    "Dans le programme n°2, on constate qu'une boucle `for` est **imbriquée** dans une autre boucle `for` :  \n",
    "la boucle `for trac in range(3):` est imbriquée dans la boucle `for truc in range(5):`.  \n",
    "\n",
    "C'est grâce à la **différence d'indentation** que l'on passe du programme n°1 avec deux boucles `for` indépendantes (exécution complète de la première boucle avant d'exécuter la deuxième) au programme n°2 avec **deux boucles `for` imbriquées.**\n",
    "\n",
    "Voici deux autres exemples permettant de bien comprendre l'importance de l'indentation en Python : c'est elle qui met en évidence le niveau d'inclusion dans lequel se trouve chaque ligne de code.  \n",
    "\n",
    "Analysez l'exemple suivant pour comprendre son fonctionnement.  \n"
   ]
  },
  {
   "cell_type": "code",
   "execution_count": 2,
   "metadata": {},
   "outputs": [
    {
     "name": "stdout",
     "output_type": "stream",
     "text": [
      "#######\n",
      "#0****#\n",
      "#*1***#\n",
      "#**2**#\n",
      "#***3*#\n",
      "#****4#\n",
      "#######\n"
     ]
    }
   ],
   "source": [
    "print(\"#\" * 7)\n",
    "\n",
    "for i in range(5):    \n",
    "    ligne = \"#\"\n",
    "    for k in range(5):\n",
    "        if i == k:\n",
    "            ligne += str(k)\n",
    "        else:\n",
    "            ligne += \"*\"\n",
    "    ligne += \"#\"\n",
    "    print(ligne)\n",
    "\n",
    "print(\"#\" * 7)"
   ]
  },
  {
   "cell_type": "markdown",
   "metadata": {},
   "source": [
    "On pourra consulter le site Pythontutor en cliquant [ici](https://pythontutor.com/render.html#code=print%28%22%23%22%20*%207%29%0A%0Afor%20i%20in%20range%285%29%3A%20%20%20%20%0A%20%20%20%20ligne%20%3D%20%22%23%22%0A%20%20%20%20for%20k%20in%20range%285%29%3A%0A%20%20%20%20%20%20%20%20if%20i%20%3D%3D%20k%3A%0A%20%20%20%20%20%20%20%20%20%20%20%20ligne%20%2B%3D%20str%28k%29%0A%20%20%20%20%20%20%20%20else%3A%0A%20%20%20%20%20%20%20%20%20%20%20%20ligne%20%2B%3D%20%22*%22%0A%20%20%20%20ligne%20%2B%3D%20%22%23%22%0A%20%20%20%20print%28ligne%29%0A%0Aprint%28%22%23%22%20*%207%29&cumulative=false&curInstr=103&heapPrimitives=nevernest&mode=display&origin=opt-frontend.js&py=3&rawInputLstJSON=%5B%5D&textReferences=false)."
   ]
  },
  {
   "cell_type": "markdown",
   "metadata": {},
   "source": [
    "## Pour s'entraîner\n",
    "\n",
    "### Exercice n°1\n",
    "\n",
    "Sur une feuille de classeur, dessiner l'affichage produit par chacun des scripts Python suivants. \n",
    "\n",
    "**Programme n°1**\n",
    "\n",
    "```python\n",
    "for j in range(6):\n",
    "    for i in range(4):\n",
    "        print(10 * i + j, end = \" \")\n",
    "    print()\n",
    "```\n",
    "\n",
    "**Programme n°2**\n",
    "```python\n",
    "for lig in range(1, 10):\n",
    "    ligne = \"\"\n",
    "    for col in range(1, lig + 1):\n",
    "        ligne += str(col) + \" \"\n",
    "    print(ligne)\n",
    "```\n",
    "\n",
    "**Programme n°3 : imbrication `for/if/for`**\n",
    "\n",
    "```python\n",
    "for i in range(10):\n",
    "    if i % 2 == 0:\n",
    "        for j in range(6):\n",
    "            print(\"*\", end =\" \")\n",
    "        print()\n",
    "    else:\n",
    "        for j in range(6):\n",
    "            print(i, end = \" \")\n",
    "        print()\n",
    "```\n",
    "\n",
    "**Programme n°4 : imbrication `for/for/if`**\n",
    "\n",
    "```python\n",
    "for i in range(5):\n",
    "    for j in range(5):\n",
    "        if i != j:\n",
    "            print(10 * j + i, end = \" \")\n",
    "        else: \n",
    "            print(\"##\", end =\" \")\n",
    "    print()\n",
    "```\n",
    "\n",
    "\n"
   ]
  },
  {
   "cell_type": "markdown",
   "metadata": {},
   "source": [
    "### Exercice n°2 : damier de nombres\n",
    "\n",
    "Réaliser un programme qui affiche un damier de forme carrée, de côté de longueur $n > 0$ et\n",
    "rempli alternativement du nombre 4 et du nombre 2. La case en haut à gauche sera toujours 4.  \n",
    "\n",
    "Par exemple, pour $n = 7$, le damier aura l’allure suivante : \n",
    "\n",
    "<img src='images/damier.jpg' width='200'>\n",
    "\n",
    "\n",
    "Il est possible de coder l’exercice de plusieurs façons. On pourra imaginer que la grille est numérotée par ligne et par colonne et on remarquera que tous les 4 de la grille sont à des indices de ligne et de colonne qui ont toujours la même parité (soit les deux indices sont pairs, soit les deux indices sont impairs)."
   ]
  },
  {
   "cell_type": "code",
   "execution_count": 9,
   "metadata": {},
   "outputs": [
    {
     "name": "stdout",
     "output_type": "stream",
     "text": [
      "42424242\n",
      "24242424\n",
      "42424242\n",
      "24242424\n",
      "42424242\n",
      "24242424\n",
      "42424242\n",
      "24242424\n"
     ]
    }
   ],
   "source": [
    "coté=int(input('Saisir un nombre'))\n",
    "for i in range(coté):\n",
    "    ligne=''\n",
    "    if i%2==0:  \n",
    "        for k in range(coté):\n",
    "            if k%2==0:\n",
    "                ligne+='4'\n",
    "            else:\n",
    "                ligne+='2'\n",
    "    else:\n",
    "        for k in range(coté):\n",
    "            if k%2==1:\n",
    "                ligne+='4'\n",
    "            else:\n",
    "                ligne+='2'\n",
    "    print(ligne)"
   ]
  },
  {
   "cell_type": "markdown",
   "metadata": {},
   "source": [
    "### Exercice n°3 : motif carré et sa diagonale\n",
    "\n",
    "Étant donné un entier naturel $n \\geq 1$, on demande de construire un carré de côté $n$ et rempli de chiffres, en respectant les deux contraintes suivantes :  \n",
    "* la diagonale descendante est constituée du chiffre 0 ;\n",
    "* les autres cases du carré sont constituées du chiffre 1.\n",
    "\n",
    "Par exemple, si $n = 10$, le carré a l’allure suivante :\n",
    "\n",
    "<img src='images/motif_carre.jpg' width='200'>\n",
    "\n",
    "\n",
    "\n",
    "Deux chiffres côte à côte sur une même ligne sont séparés par exactement un espace."
   ]
  },
  {
   "cell_type": "code",
   "execution_count": null,
   "metadata": {},
   "outputs": [
    {
     "name": "stdout",
     "output_type": "stream",
     "text": [
      "10000000\n",
      "01000000\n",
      "00100000\n",
      "00010000\n",
      "00001000\n",
      "00000100\n",
      "00000010\n",
      "00000001\n"
     ]
    }
   ],
   "source": [
    "coté=int(input('Saisir un nombre supérieur ou égal à 1'))\n",
    "ligne=''\n",
    "for i in range(coté):\n",
    "    ligne='0'*(i)+'1'+'0'*(coté-(i+1))\n",
    "    print(ligne)"
   ]
  },
  {
   "cell_type": "markdown",
   "metadata": {},
   "source": [
    "### Exercice n°4 : lignes consécutives et décroissantes\n",
    "\n",
    "\n",
    "Vous devez écrire un code qui dépend d’un entier $n$ et qui affiche un motif dont un exemple est visible ci-dessous pour $n = 6$ :\n",
    "\n",
    "<img src='images/triangle.jpg' width='200'>\n",
    "\n",
    "\n",
    "\n",
    "**Explication :**  \n",
    "* il y a $n$ lignes ;\n",
    "* chaque ligne contient un nombre de plus que la précédente ;\n",
    "* la $k$-ème ligne affiche tous les entiers en décroissant de $k$ à $1$. \n",
    "\n",
    "Ecrire un code qui partant d’un entier $n$ génère le motif ci-dessus.\n",
    "\n"
   ]
  },
  {
   "cell_type": "code",
   "execution_count": 44,
   "metadata": {},
   "outputs": [
    {
     "name": "stdout",
     "output_type": "stream",
     "text": [
      "1\n",
      "21\n",
      "321\n",
      "4321\n",
      "54321\n",
      "654321\n"
     ]
    }
   ],
   "source": [
    "coté=int(input('Saisir un nombre supérieur ou égal à 1'))\n",
    "for i in range(coté):\n",
    "    ligne=''\n",
    "    for k in range(i+1,0,-1):\n",
    "        ligne+=str(k)\n",
    "    print(ligne)"
   ]
  }
 ],
 "metadata": {
  "kernelspec": {
   "display_name": "Python 3",
   "language": "python",
   "name": "python3"
  },
  "language_info": {
   "codemirror_mode": {
    "name": "ipython",
    "version": 3
   },
   "file_extension": ".py",
   "mimetype": "text/x-python",
   "name": "python",
   "nbconvert_exporter": "python",
   "pygments_lexer": "ipython3",
   "version": "3.12.7"
  }
 },
 "nbformat": 4,
 "nbformat_minor": 4
}
