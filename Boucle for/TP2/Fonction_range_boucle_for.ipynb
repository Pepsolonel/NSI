{
 "cells": [
  {
   "cell_type": "markdown",
   "metadata": {},
   "source": [
    "# <center> **La boucle FOR ou POUR** </center>\n",
    "## 1- La fonction native `range` de Python \n",
    "En Python, la fonction `range` permet de générer une séquence d'entiers.  \n",
    "Lorsqu'on la compose avec la fonction `list`, on obtient une liste d'entiers.\n",
    "\n",
    "Exécutez les cellules de code suivantes. \n",
    "\n"
   ]
  },
  {
   "cell_type": "code",
   "execution_count": 4,
   "metadata": {},
   "outputs": [
    {
     "data": {
      "text/plain": [
       "[0, 1, 2, 3, 4]"
      ]
     },
     "execution_count": 4,
     "metadata": {},
     "output_type": "execute_result"
    }
   ],
   "source": [
    "list(range(5))"
   ]
  },
  {
   "cell_type": "code",
   "execution_count": 5,
   "metadata": {},
   "outputs": [
    {
     "data": {
      "text/plain": [
       "[3, 4, 5, 6]"
      ]
     },
     "execution_count": 5,
     "metadata": {},
     "output_type": "execute_result"
    }
   ],
   "source": [
    "list(range(3,7))"
   ]
  },
  {
   "cell_type": "code",
   "execution_count": 6,
   "metadata": {},
   "outputs": [
    {
     "data": {
      "text/plain": [
       "[1, 3, 5, 7, 9]"
      ]
     },
     "execution_count": 6,
     "metadata": {},
     "output_type": "execute_result"
    }
   ],
   "source": [
    "list(range(1,10,2))"
   ]
  },
  {
   "cell_type": "code",
   "execution_count": 7,
   "metadata": {},
   "outputs": [
    {
     "data": {
      "text/plain": [
       "[5, 4, 3, 2, 1]"
      ]
     },
     "execution_count": 7,
     "metadata": {},
     "output_type": "execute_result"
    }
   ],
   "source": [
    "list(range(5,0,-1))"
   ]
  },
  {
   "cell_type": "markdown",
   "metadata": {},
   "source": [
    "* La fonction `range` peut être utilisée avec 3 paramètres `debut`, `fin` et `pas` : `range(debut, fin, pas)`. L'entier `debut` est compris, l'entier `fin` est **exclu**.\n",
    "  \n",
    "* La fonction `range` peut être utilisée avec 2 paramètres `debut` et `fin` : `range(debut, fin)`. Le `pas` est égal à 1 par défaut.\n",
    "\n",
    "* La fonction `range` peut être utilisée avec 1 seul paramètre `fin` : `range(fin)`. Par défaut, `debut` est égal à 0 et `pas` à 1.\n",
    "\n",
    "\n",
    "<span style='color:blue'>**Application 1**</span> :\n",
    "\n",
    "A l'aide de la combinaison *list(range())*, obtenir dans chacune des *cellules Code* ci-dessous, les listes suivantes :\n",
    "\n",
    "* $[2, 4, 6, 8, 10, 12]$\n",
    "* $[10, 8, 6, 4, 2]$\n",
    "* $[3, 6, 9, 12]$\n",
    "* $[0, 1, 2, 3, 4, 5]$"
   ]
  },
  {
   "cell_type": "code",
   "execution_count": null,
   "metadata": {},
   "outputs": [],
   "source": []
  },
  {
   "cell_type": "code",
   "execution_count": null,
   "metadata": {},
   "outputs": [],
   "source": []
  },
  {
   "cell_type": "code",
   "execution_count": null,
   "metadata": {},
   "outputs": [],
   "source": []
  },
  {
   "cell_type": "code",
   "execution_count": null,
   "metadata": {},
   "outputs": [],
   "source": []
  },
  {
   "cell_type": "markdown",
   "metadata": {},
   "source": [
    "## 2- La boucle `for`\n",
    "Exécuter chacune des cellules de code suivantes :"
   ]
  },
  {
   "cell_type": "code",
   "execution_count": 8,
   "metadata": {},
   "outputs": [
    {
     "name": "stdout",
     "output_type": "stream",
     "text": [
      "0\n",
      "1\n",
      "2\n",
      "3\n"
     ]
    }
   ],
   "source": [
    "for i in range(4):\n",
    "    print(i)"
   ]
  },
  {
   "cell_type": "code",
   "execution_count": null,
   "metadata": {},
   "outputs": [],
   "source": [
    "for i in range(1, 4):\n",
    "    print(i)"
   ]
  },
  {
   "cell_type": "code",
   "execution_count": null,
   "metadata": {},
   "outputs": [],
   "source": [
    "for i in range(1, 4, 2):\n",
    "    print(i)"
   ]
  },
  {
   "cell_type": "code",
   "execution_count": null,
   "metadata": {},
   "outputs": [],
   "source": [
    "for i in range(4, 0, -1):\n",
    "    print(i)"
   ]
  },
  {
   "attachments": {
    "image1.png": {
     "image/png": "[encoded data removed]"
    }
   },
   "cell_type": "markdown",
   "metadata": {},
   "source": [
    " ### La boucle `for` ou POUR sert donc à faire un COMPTEUR et à répéter un certain nombre de fois des actions\n",
    " \n",
    " <span style='color:green'>**Remarques**</span> :\n",
    " * Bien penser à terminer la ligne 1 du `for` avec un deux-points (\":\").\n",
    " * L'**indentation** (c'est-à-dire une tabulation) est obligatoire en ligne 2 pour signaler quelles sont les lignes d'instructions qui appartiennent au **corps** de la boucle `for`.\n",
    " * Après chaque instruction `print(i)`, il y a un passage à la ligne au niveau de l'affichage.\n",
    " * On dit que la boucle `for` est une **boucle bornée** car on sait à l'avance combien de fois la ligne 2 va être exécutée. En pratique, autant de fois qu'il y a d'entiers dans la liste `list(range())`.\n",
    "\n",
    "<span style='color:blue'>**Application 2**</span> :\n",
    "\n",
    "Préciser, dans chacune des cellules de code ci-après, comment on peut obtenir les affichages suivants à l'aide d'une boucle `for` :\n",
    "\n",
    "![image1.png](attachment:image1.png)\n"
   ]
  },
  {
   "cell_type": "code",
   "execution_count": null,
   "metadata": {},
   "outputs": [],
   "source": []
  },
  {
   "cell_type": "code",
   "execution_count": null,
   "metadata": {},
   "outputs": [],
   "source": []
  },
  {
   "cell_type": "code",
   "execution_count": null,
   "metadata": {},
   "outputs": [],
   "source": []
  },
  {
   "cell_type": "markdown",
   "metadata": {},
   "source": [
    "**A noter :**\n",
    "\n",
    "* En cas d'**incohérence**, la boucle est **ignorée** et on passe aux instructions suivantes : \n"
   ]
  },
  {
   "cell_type": "code",
   "execution_count": 8,
   "metadata": {},
   "outputs": [
    {
     "name": "stdout",
     "output_type": "stream",
     "text": [
      "110\n",
      "108\n",
      "106\n",
      "104\n",
      "102\n"
     ]
    }
   ],
   "source": [
    "for k in range(200, 210, -2):\n",
    "    print(k)\n",
    "    \n",
    "for k in range(110, 100, -2):\n",
    "    print(k)"
   ]
  },
  {
   "cell_type": "markdown",
   "metadata": {},
   "source": [
    "On constate que la première boucle `for` est ignorée car il n'est pas possible d'atteindre 210, en partant de 200, avec un pas de -2.  "
   ]
  }
 ],
 "metadata": {
  "kernelspec": {
   "display_name": "Python 3 (ipykernel)",
   "language": "python",
   "name": "python3"
  },
  "language_info": {
   "codemirror_mode": {
    "name": "ipython",
    "version": 3
   },
   "file_extension": ".py",
   "mimetype": "text/x-python",
   "name": "python",
   "nbconvert_exporter": "python",
   "pygments_lexer": "ipython3",
   "version": "3.12.2"
  }
 },
 "nbformat": 4,
 "nbformat_minor": 4
}
