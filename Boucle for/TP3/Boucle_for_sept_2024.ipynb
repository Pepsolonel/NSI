{
 "cells": [
  {
   "cell_type": "markdown",
   "metadata": {},
   "source": [
    "# <center> Les boucles bornées <center>\n",
    "    \n",
    "## I - Introduction : \n",
    "* **Vidéo :** [La boucle *for*](https://www.youtube.com/watch?v=zlt12RqgY44&feature=emb_logo)\n",
    "\n",
    "\n",
    "Dans un algorithme, il est souvent nécessaire de répéter plusieurs fois la même opération.\n",
    "\n",
    "\n",
    "**Lorsque le nombre de répétitions est déterminé à l’avance** (on parle d'une boucle bornée), on peut utiliser une boucle `for`.\n",
    "\n",
    "\n",
    "#### Exemple 1 : \n",
    "\n",
    "Le programme ci-dessous affiche 7 fois la phrase \"Je dois respecter le Grand Sorcier\". "
   ]
  },
  {
   "cell_type": "code",
   "execution_count": 1,
   "metadata": {},
   "outputs": [
    {
     "name": "stdout",
     "output_type": "stream",
     "text": [
      "Je dois respecter le Grand Sorcier\n",
      "Je dois respecter le Grand Sorcier\n",
      "Je dois respecter le Grand Sorcier\n",
      "Je dois respecter le Grand Sorcier\n",
      "Je dois respecter le Grand Sorcier\n",
      "Je dois respecter le Grand Sorcier\n",
      "Je dois respecter le Grand Sorcier\n"
     ]
    }
   ],
   "source": [
    "for i in range(7):\n",
    "    print(\"Je dois respecter le Grand Sorcier\")"
   ]
  },
  {
   "cell_type": "markdown",
   "metadata": {},
   "source": [
    "En Python, la syntaxe la plus utilisée est certainement :\n",
    "\n",
    "<img src='images/img1.jpg' >\n",
    "\n",
    "* Cet algorithme permet de répéter `n` fois `instruction1`, suivie de `instruction2`. \n",
    "\n",
    "\n",
    "* Bien sûr, on peut écrire autant d’instructions que nécessaire. \n",
    "\n",
    "\n",
    "* On peut également imbriquer une boucle `for` dans une autre boucle `for` comme nous le verrons plus tard.  \n",
    "\n",
    "\n",
    "* La variable `i` est une variable spéciale, appelée **indice de boucle** ou **compteur de boucle**. \n",
    "\n",
    "\n",
    "* La variable `i` peut être utilisée à l’intérieur de la boucle, comme dans l'exemple suivant.\n"
   ]
  },
  {
   "cell_type": "code",
   "execution_count": 2,
   "metadata": {},
   "outputs": [
    {
     "name": "stdout",
     "output_type": "stream",
     "text": [
      "Tour n° 0\n",
      "Tour n° 1\n",
      "Tour n° 2\n",
      "Tour n° 3\n",
      "Tour n° 4\n",
      "Tour n° 5\n",
      "Tour n° 6\n",
      "Tour n° 7\n",
      "Tour n° 8\n",
      "Tour n° 9\n"
     ]
    }
   ],
   "source": [
    "for i in range(10):\n",
    "    print(\"Tour n°\", i)"
   ]
  },
  {
   "cell_type": "markdown",
   "metadata": {},
   "source": [
    "* A l'aide de cet exemple, on constate que, contrairement à ce que l’on pourrait croire, la variable `i` prend toutes les valeurs de 0 à 9 et pas de 1 à 10 !\n",
    "\n",
    "\n",
    "* Ainsi, le « numéro » du premier tour est 0, celui de deuxième est 1, etc.\n",
    "\n",
    "\n",
    "* Il y a bien 10 tours de boucle dans cet exemple mais le « numéro » du dernier tour est un de moins que le nombre total de tours. "
   ]
  },
  {
   "cell_type": "markdown",
   "metadata": {},
   "source": [
    "#### Exemple 2 :  afficher des entiers consécutifs\n",
    "\n",
    "Afficher les uns en dessous des autres tous les entiers consécutifs entre 2020 et 2038 (bornes incluses)."
   ]
  },
  {
   "cell_type": "code",
   "execution_count": 3,
   "metadata": {},
   "outputs": [
    {
     "name": "stdout",
     "output_type": "stream",
     "text": [
      "Entier n°  1  :  2020\n",
      "Entier n°  2  :  2021\n",
      "Entier n°  3  :  2022\n",
      "Entier n°  4  :  2023\n",
      "Entier n°  5  :  2024\n",
      "Entier n°  6  :  2025\n",
      "Entier n°  7  :  2026\n",
      "Entier n°  8  :  2027\n",
      "Entier n°  9  :  2028\n",
      "Entier n°  10  :  2029\n",
      "Entier n°  11  :  2030\n",
      "Entier n°  12  :  2031\n",
      "Entier n°  13  :  2032\n",
      "Entier n°  14  :  2033\n",
      "Entier n°  15  :  2034\n",
      "Entier n°  16  :  2035\n",
      "Entier n°  17  :  2036\n",
      "Entier n°  18  :  2037\n",
      "Entier n°  19  :  2038\n"
     ]
    }
   ],
   "source": [
    "nombre = 2020\n",
    "\n",
    "for i in range(19):\n",
    "    print(\"Entier n° \", i + 1,\" : \", nombre + i)"
   ]
  },
  {
   "cell_type": "markdown",
   "metadata": {},
   "source": [
    "#### Exemple 3 : lancer d'un dé\n",
    "\n",
    "* En algorithmique et en programmation, il est fréquent que nous ayons besoin d’effectuer des tirages de nombres aléatoires. \n",
    "\n",
    "\n",
    "* Le programme suivant permet de simuler 10 lancers d’un dé équilibré à 6 faces : "
   ]
  },
  {
   "cell_type": "code",
   "execution_count": 27,
   "metadata": {},
   "outputs": [
    {
     "name": "stdout",
     "output_type": "stream",
     "text": [
      "Lancer n°  1  :  2\n",
      "Lancer n°  2  :  1\n",
      "Lancer n°  3  :  1\n",
      "Lancer n°  4  :  6\n",
      "Lancer n°  5  :  1\n",
      "Lancer n°  6  :  1\n",
      "Lancer n°  7  :  4\n",
      "Lancer n°  8  :  1\n",
      "Lancer n°  9  :  3\n",
      "Lancer n°  10  :  2\n"
     ]
    }
   ],
   "source": [
    "from random import randint\n",
    "\n",
    "for i in range(10):\n",
    "    de = randint(1, 6)\n",
    "    print(\"Lancer n° \", i + 1,\" : \", de)"
   ]
  },
  {
   "cell_type": "markdown",
   "metadata": {},
   "source": [
    "Bien sûr, si on exécute à nouveau le programme, on obtiendra une liste différente…\n",
    "\n",
    "### Un exemple d'application classique (**à connaître**) : \n",
    "\n",
    "On se donne un entier $n≥0$.\n",
    "\n",
    "On lance $n$ fois un dé bien équilibré dont les faces sont numérotés de 1 à 6 et on fait la somme des numéros lus.\n",
    "\n",
    "Par exemple, pour $n = 5$, les lancers successifs peuvent être : $6, 1, 1, 5, 6$. \n",
    "\n",
    "Dans ce cas, la somme va être : $ 6 + 1 + 1 + 5 + 6 = 19 $ .\n",
    "\n",
    "Pour effectuer ce genre de somme, il faut répéter $n$ fois :\n",
    "* le tirage du dé ;\n",
    "* l'ajout du numéro à la somme précédente. \n",
    "\n",
    "Voilà pourquoi on a besoin d’une boucle `for`. \n",
    "\n",
    "La somme à calculer est placée dans une variable `S` qui au départ, est initialisée à 0 et qui, à chaque étape de la boucle `for` augmente du numéro tiré. \n",
    "\n",
    "Voici comment évolue la variable $S$ si $ n = 5$ et si les tirages successifs sont 6, 1, 1, 5, 6 :\n",
    "\n",
    "<img src='images/img5.jpg' width='300'>\n",
    "\n",
    "D'où le code ci-dessous : \n"
   ]
  },
  {
   "cell_type": "code",
   "execution_count": 28,
   "metadata": {},
   "outputs": [
    {
     "name": "stdout",
     "output_type": "stream",
     "text": [
      "Face obtenue au lancer n°  1  :  4\n",
      "Face obtenue au lancer n°  2  :  6\n",
      "Face obtenue au lancer n°  3  :  6\n",
      "Face obtenue au lancer n°  4  :  6\n",
      "Face obtenue au lancer n°  5  :  1\n",
      "A l'issue des  5 tirages, la somme est :  23\n"
     ]
    }
   ],
   "source": [
    "from random import randint \n",
    "\n",
    "n = 5             # Initialisation de la variable n\n",
    "S = 0             # Initialisation de la variable S\n",
    "\n",
    "for i in range(n):\n",
    "    de = randint(1, 6)\n",
    "    print(\"Face obtenue au lancer n° \",i + 1,\" : \", de)\n",
    "    S = S + de\n",
    "\n",
    "print(\"A l'issue des \", n, \"tirages, la somme est : \", S)"
   ]
  },
  {
   "cell_type": "markdown",
   "metadata": {},
   "source": [
    "## II - Quelques exercices classiques avant d'aller plus loin"
   ]
  },
  {
   "cell_type": "markdown",
   "metadata": {},
   "source": [
    "#### Exercice 1 : \n",
    "\n",
    "On donne l'algorithme suivant : \n",
    "\n",
    "<img src='images/img6.jpg' width='300'>\n",
    "\n",
    "1) Programmer cet algorithme en langage Python. \n",
    "\n",
    "2) Modifier le programme de façon à ce que : \n",
    "* le joueur puisse jouer 10 fois à ce petit jeu ;\n",
    "* le programme affiche le nombre de fois où le joueur a gagné à l'issue des 10 parties. \n"
   ]
  },
  {
   "cell_type": "code",
   "execution_count": 43,
   "metadata": {},
   "outputs": [
    {
     "name": "stdout",
     "output_type": "stream",
     "text": [
      "Gagné\n"
     ]
    }
   ],
   "source": [
    "N=randint(1,6)\n",
    "rep=int(input('Choisir un nombre entre 1 et 6'))\n",
    "if N==rep:\n",
    "    print('Gagné')\n",
    "else:\n",
    "    print('Perdu')"
   ]
  },
  {
   "cell_type": "markdown",
   "metadata": {},
   "source": [
    "#### Exercice 2 : somme des $n$ premiers entiers\n",
    "\n",
    "On se donne un entier $n≥0$. \n",
    "\n",
    "Ecrire un programme en Python qui calcule et affiche la somme $1 + 2 +...+\\ n$.\n",
    "\n",
    "Vérifier sur quelques exemples que le résultat obtenu est bien $\\frac{n(n+ 1)}{2}$.\n",
    "\n",
    "*Aide : s'inspirer de l'exemple d'application de la fin du paragraphe d'introduction.*"
   ]
  },
  {
   "cell_type": "code",
   "execution_count": 49,
   "metadata": {},
   "outputs": [
    {
     "name": "stdout",
     "output_type": "stream",
     "text": [
      "6\n"
     ]
    }
   ],
   "source": [
    "n=int(input('Entrez un nombre'))\n",
    "if n>=0:\n",
    "    a=0\n",
    "    for i in range(n+1):\n",
    "        a+=i\n",
    "    print(a)\n",
    "else:\n",
    "    print(\"Erreur : le nombre choisi n'est pas un entier positif\")"
   ]
  },
  {
   "cell_type": "markdown",
   "metadata": {},
   "source": [
    "####  Exercice 3 : calcul d'une moyenne\n",
    "\n",
    "Ecrire un programme en Python qui demande à l’utilisateur un nombre de notes `n` à prendre en compte, puis chacune des `n` notes et qui enfin calcule et affiche la moyenne des notes. On considérera ici que toutes les notes ont le même coefficient. \n",
    "\n",
    "Voici un exemple d'exécution : \n",
    "\n",
    "<img src='images/img8.jpg' width='300'>\n",
    "\n",
    "Rappel : la moyenne de $n$ notes $x_1,x_2,…x_n$ ayant toutes le même coefficient s’obtient par la formule : \n",
    "<center> $ \\frac{x_1 +⋯+x_n}{n}$ \n"
   ]
  },
  {
   "cell_type": "code",
   "execution_count": null,
   "metadata": {},
   "outputs": [],
   "source": [
    "n=int(input('Nombre de notes ?'))\n",
    "b=0\n",
    "for i in range (n):\n",
    "    a=int(input('Saisir la note n°'+str(i+1)))\n",
    "    b+=a\n",
    "A=b/n\n",
    "print(A)\n",
    "\n"
   ]
  },
  {
   "cell_type": "markdown",
   "metadata": {},
   "source": [
    "#### Exercice 4 : sommes de puissances de 2 ou de 3\n",
    "\n",
    "On donne un entier $ n> 0 $ et on demande d'écrire un programme en Python qui calcule et affiche la somme suivante : <center> $ S_n= 3^1+ 2^2+ 3^3+ 2^4+···+?^n$  \n",
    " \n",
    "Si l’exposant courant $k$ est pair, on ajoute $2^k$ sinon on ajoute $3^k$. \n",
    "\n",
    "La somme s’arrête lorsqu’elle contient $n$ termes. \n",
    "\n",
    "Par exemple, $ S_4=  3^1+ 2^2+ 3^3+ 2^4=  3 + 4 + 27 + 16  =  50$ et $S_5=3^1+ 2^2+ 3^3+ 2^4+ 3^5= 50 + 243 = 293$."
   ]
  },
  {
   "cell_type": "code",
   "execution_count": 19,
   "metadata": {},
   "outputs": [
    {
     "name": "stdout",
     "output_type": "stream",
     "text": [
      "310002782785246384238637108345803705438146220495638305067032392413127476576490167610304868705427246671856611214382898874642514058559075127745968166791539934875063882202633971122503574731688875018323889903840368238729463504389910608312169732646608585415569957676424186750581578840159857961770575005692187081506319748705367719774962009661757261879901751184190651070704875641639191839978998316755629548441525284953665576671810662600919027973743834208186693504979214497625071849684572402568153147757153552479116599922092401720513596925645454530339700268618761955998293131700395752981357755725366070873792041105112120152415546729272796214307362394250581303834771868616434956443946653630607116693\n"
     ]
    }
   ],
   "source": [
    "n=int(input('Combien de termes voulez vous additionner ?'))\n",
    "b=0\n",
    "for k in range(n):\n",
    "    if (k+1)%2==0:\n",
    "        a=2**(k+1)\n",
    "    else:\n",
    "        a=3**(k+1)\n",
    "    b+=a\n",
    "print(b)"
   ]
  },
  {
   "cell_type": "markdown",
   "metadata": {},
   "source": [
    "#### Exercice 5 : moyenne pondérée\n",
    "\n",
    "Ecrire un programme en Python qui demande à l’utilisateur un nombre de notes `n` à prendre en compte, puis chacune des `n` notes et son coefficient, et qui enfin calcule et affiche la moyenne pondérée. \n",
    "\n",
    "Voici un exemple d'exécution : \n",
    "\n",
    "<img src='images/img7.jpg' width='400'>\n",
    "\n",
    "Rappel : la moyenne pondérée de $n$ notes $x_1,x_2,…x_n$ de coefficients respectifs $c_1,c_2,…,c_n$ s’obtient par la formule : \n",
    "<center> $ \\frac{x_1 \\times c_1+x_2 \\times c_2+⋯+x_n \\times c_n}{c_1+c_2+⋯+c_n}$ \n",
    "\n",
    "Dans l’exemple donné, cela donné :\n",
    "<center> $\\frac{15 \\times 3+8 \\times 3+12 \\times 4}{3+3+4}= \\frac{117}{10}=11,7$ \n"
   ]
  },
  {
   "cell_type": "code",
   "execution_count": 5,
   "metadata": {},
   "outputs": [
    {
     "name": "stdout",
     "output_type": "stream",
     "text": [
      "11.7\n",
      "la moyenne est11.7\n"
     ]
    }
   ],
   "source": [
    "n=int(input('Nombre de notes ?'))\n",
    "d=0\n",
    "e=0\n",
    "for i in range (n):\n",
    "    a=int(input('Saisir la note n°'+str(i+1)))\n",
    "    b=int(input('Saisir le coefficient de la note n°'+str(i+1)))\n",
    "    c=a*b\n",
    "    d+=c\n",
    "    e+=b\n",
    "A=d/e\n",
    "print(A)\n",
    "print('la moyenne est '+str(A))"
   ]
  },
  {
   "cell_type": "markdown",
   "metadata": {},
   "source": [
    "#### Exercice 6 : réviser ses tables\n",
    "\n",
    "1) Ecrire un programme en Python qui demande un nombre de départ à l'utilisateur et qui ensuite écrit la table de multiplication de ce nombre, présentée comme suit (cas où l'utilisateur entre le nombre 6) :\n",
    "\n",
    "<img src='images/img10.jpg' width='150'>\n",
    "\n",
    "\n",
    "2) Adapter le programme précédent pour que le nombre de départ soit choisi au hasard entre 1 et 15 (bornes incluses). Le programme écrit ensuite la table de multiplication de ce nombre.\n",
    "\n",
    "3) Adapter le programme précédent pour que la réponse ne soit plus écrite automatiquement mais que ce soit à l'utilisateur de proposer une réponse. Le programme doit vérifier l'exactitude du résultat. Il affiche alors si la réponse est juste ou fausse et indique le score à la fin des 10 multiplications. \n"
   ]
  },
  {
   "cell_type": "code",
   "execution_count": null,
   "metadata": {},
   "outputs": [],
   "source": []
  },
  {
   "cell_type": "markdown",
   "metadata": {},
   "source": [
    "## III - Itérer sur les éléments d'une séquence \n",
    "\n",
    "Parfois, on peut vouloir itérer sur une chaîne de caractères (ou parcourir une chaîne de caractères). \n",
    "Dans ce cas, on utilise également une boucle `for` :\n"
   ]
  },
  {
   "cell_type": "code",
   "execution_count": null,
   "metadata": {},
   "outputs": [],
   "source": [
    "for car in \"python\":\n",
    "    print(car)"
   ]
  },
  {
   "cell_type": "markdown",
   "metadata": {},
   "source": [
    "La variable `car` prend alors successivement les valeurs de chaque caractère de la chaîne.\n",
    "\n",
    "### De manière générale : \n",
    "\n",
    "* Une boucle `for` itère sur chaque valeur dans une séquence (suite d’éléments).\n",
    "\n",
    "* Une séquence contient plusieurs éléments de données stockés l'un après l’autre.\n",
    "\n",
    "* La syntaxe d’une boucle `for` est la suivante:\n",
    "\n",
    "<img src='images/img2.jpg' >\n",
    "\n",
    "où la variable `var` prend chaque valeur successive dans la séquence, et le corps de la boucle est exécuté une seule fois pour chaque valeur.\n",
    "\n",
    "##### Exemple : "
   ]
  },
  {
   "cell_type": "code",
   "execution_count": null,
   "metadata": {},
   "outputs": [],
   "source": [
    "for elt in [1, 4, 5, 0, 9, 1]:\n",
    "    print(elt)\n",
    "\n",
    "print(\"********************************************\")\n",
    "\n",
    "for voyelle in [\"a\", \"e\", \"i\", \"o\", \"u\", \"y\"]:\n",
    "    print(voyelle)"
   ]
  },
  {
   "cell_type": "markdown",
   "metadata": {},
   "source": [
    "La variable `elt` et la variable `voyelle` prennent successivement chacune des valeurs des deux listes parcourues.\n",
    " "
   ]
  },
  {
   "cell_type": "markdown",
   "metadata": {},
   "source": [
    "#### Exercice 1 : \n",
    "Ecrire un script Python qui demande à l'utlisateur de saisir un mot et qui affiche un nouveau mot dans lequel chaque lettre de rang pair a été remplacée par *. "
   ]
  },
  {
   "cell_type": "code",
   "execution_count": null,
   "metadata": {},
   "outputs": [],
   "source": []
  },
  {
   "cell_type": "markdown",
   "metadata": {},
   "source": [
    "#### Exercice 2 : \n",
    "\n",
    "1) Ecrire un script Python qui demande à l'utilisateur de saisir un mot et qui affiche ce mot écrit à l'envers.  \n",
    "Par exemple, si l'utilisateur saisit `'Horloge'`, alors le programme affiche `'egolroH'`. \n",
    "\n",
    "\n",
    "3) Adapter le programme précédent pour que le programme affiche `True` dans le cas où le mot saisit par l'utilisateur est un palindrome, `False` sinon.\n",
    "\n",
    "    On rappelle qu'un palindrome est un mot qui peut se lire dans les deux sens :  \n",
    "* **radar** et **kayak** sont des palindromes ;\n",
    "* **vendredi** n'est pas un palindrome. \n",
    " "
   ]
  },
  {
   "cell_type": "code",
   "execution_count": null,
   "metadata": {},
   "outputs": [],
   "source": []
  },
  {
   "cell_type": "markdown",
   "metadata": {},
   "source": [
    "#### Exercice 3 : page d'écriture\n",
    "    \n",
    "Ecrire un programme qui affiche 3 lignes, chacune contenant plusieurs fois de suite une lettre suivie du caractère « _ » (underscore en anglais) : la lettre « a » sur la première ligne, la lettre « b » sur la deuxième et la lettre « c » sur la troisième.\n",
    "\n",
    "Vous disposez déjà d'un modèle où chaque ligne contient 4 lettres : \n",
    "    \n",
    "<img src='images/modele.jpg' width='900'>\n",
    "\n",
    "\n",
    "Cependant, vous vous dites qu'il serait mieux de mettre 30 lettres par ligne. Écrivez un programme qui étend votre modèle. Bien sûr, vous utiliserez une boucle pour ne pas vous fatiguer à écrire vous-même 30 fois chaque lettre.\n",
    "\n",
    "<img src='images/Afficher_du_texte.jpg' width='900'>\n"
   ]
  },
  {
   "cell_type": "code",
   "execution_count": null,
   "metadata": {},
   "outputs": [],
   "source": [
    "# Votre script ici. \n",
    "\n",
    "\n"
   ]
  },
  {
   "cell_type": "markdown",
   "metadata": {},
   "source": [
    "Vérifiez vous-même, voilà ce que vous devriez obtenir : \n",
    "\n",
    "<img src='images/Exercice_3_Paragraphe_III.jpg' width='900'>\n"
   ]
  }
 ],
 "metadata": {
  "kernelspec": {
   "display_name": "Python 3",
   "language": "python",
   "name": "python3"
  },
  "language_info": {
   "codemirror_mode": {
    "name": "ipython",
    "version": 3
   },
   "file_extension": ".py",
   "mimetype": "text/x-python",
   "name": "python",
   "nbconvert_exporter": "python",
   "pygments_lexer": "ipython3",
   "version": "3.9.6"
  }
 },
 "nbformat": 4,
 "nbformat_minor": 4
}
