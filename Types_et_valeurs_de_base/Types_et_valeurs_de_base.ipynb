{
 "cells": [
  {
   "cell_type": "markdown",
   "metadata": {},
   "source": [
    "# <center> Les variables : types et valeurs de base <center>\n",
    "    \n",
    "## I - Introduction\n",
    "\n",
    "#### Définition du mot ordinateur d'après \"Le Petit Larousse\" : \n",
    "\n",
    "\" *Machine automatique de traitement de l'information, obéissant à des programmes formés par des suites d'opérations arithmétiques et logiques.* \" \n",
    "\n",
    "Qui dit \"*traitement de l'information*\", dit donc données à manipuler. Un programme \"passe\" donc son temps à traiter des données. Pour pouvoir traiter ces données, l'ordinateur doit les ranger dans sa mémoire (RAM - Random Access Memory). \n",
    "\n",
    "La RAM se compose de cases dans lesquelles nous allons ranger ces données (une donnée dans une case). Chaque case a une adresse (ce qui permet au processeur de savoir où sont rangées les données).\n",
    "\n",
    "#### Alors, qu'est-ce qu'une variable ? \n",
    "\n",
    "C'est une petite information (une donnée) temporaire que l'on stocke dans une case de la RAM. On dit qu'elle est \"variable\", car c'est une valeur qui peut changer pendant le déroulement du programme. \n",
    "\n",
    "Saisir dans la cellule de code ci-dessous, les 4 instructions suivantes :\n",
    "\n",
    "`a = 15`\n",
    "\n",
    "`b = 5.2`\n",
    "\n",
    "`c = \"Bonjour !\" `\n",
    "\n",
    "`d = 2048 == 2**11 ` \n"
   ]
  },
  {
   "cell_type": "code",
   "execution_count": 15,
   "metadata": {},
   "outputs": [],
   "source": [
    "a=15\n",
    "b=5.2\n",
    "c=\"Bonjour\"\n",
    "d=2048==2**11"
   ]
  },
  {
   "cell_type": "markdown",
   "metadata": {},
   "source": [
    "On vient d’**affecter des valeurs** aux variables `a`, `b`, `c` et `d `.\n",
    "\n",
    "Saisir à présent l’instruction `type(a)` dans la cellule ci-dessous et faire de même pour les variables `b `, `c` et `d` :\n"
   ]
  },
  {
   "cell_type": "code",
   "execution_count": 24,
   "metadata": {},
   "outputs": [
    {
     "data": {
      "text/plain": [
       "int"
      ]
     },
     "execution_count": 24,
     "metadata": {},
     "output_type": "execute_result"
    }
   ],
   "source": [
    "type(a)"
   ]
  },
  {
   "cell_type": "code",
   "execution_count": 18,
   "metadata": {},
   "outputs": [
    {
     "data": {
      "text/plain": [
       "float"
      ]
     },
     "execution_count": 18,
     "metadata": {},
     "output_type": "execute_result"
    }
   ],
   "source": [
    "type(b)"
   ]
  },
  {
   "cell_type": "code",
   "execution_count": 19,
   "metadata": {},
   "outputs": [
    {
     "data": {
      "text/plain": [
       "str"
      ]
     },
     "execution_count": 19,
     "metadata": {},
     "output_type": "execute_result"
    }
   ],
   "source": [
    "type(c)"
   ]
  },
  {
   "cell_type": "code",
   "execution_count": 20,
   "metadata": {},
   "outputs": [
    {
     "data": {
      "text/plain": [
       "bool"
      ]
     },
     "execution_count": 20,
     "metadata": {},
     "output_type": "execute_result"
    }
   ],
   "source": [
    "type(d)"
   ]
  },
  {
   "cell_type": "markdown",
   "metadata": {},
   "source": [
    "Les quatre variables `a`, `b`, `c` et `d` sont de quatre types différents :\n",
    "\n",
    "* La variable `a` est un entier (type `int` pour **integer** en anglais).\n",
    "\n",
    "* La variable `b` est un flottant (type `float`), c’est-à-dire un **nombre à virgule** (attention : il faut penser à remplacer la virgule par un point).\n",
    "\n",
    "* La variable `c` est une chaîne de caractères (type `str` qui est l’abréviation de « string » et qui signifie **chaîne** en anglais). \n",
    "\n",
    "* La variable `d` est un **booléen** (type `bool`). Un booléen ne peut prendre que deux valeurs : vrai ou faux (`True` ou  `False` en Python).\n",
    "\n",
    "Il existe d’autres types de variables que nous verrons par la suite. \n"
   ]
  },
  {
   "cell_type": "markdown",
   "metadata": {},
   "source": [
    "<div style=\"margin:2px;border:1px solid black;padding:10px;\">\n",
    "\n",
    "**A retenir**\n",
    "\n",
    "+ Une **variable** permet de **mémoriser une valeur**.<br><br>\n",
    "\n",
    "+ L’instruction d'**affectation** est l’action d'associer une valeur à cette variable. On la note le plus souvent avec le signe égal « = »\n",
    "```python\n",
    "    >>> b = 3\n",
    "    >>> b * 2\n",
    "    6\n",
    "```\n",
    "+ L'**initialisation** est l'action d'affecter une variable pour la première fois.\n",
    "\n",
    "\n",
    "</div>"
   ]
  },
  {
   "cell_type": "markdown",
   "metadata": {},
   "source": [
    "## II - Les variables numériques\n",
    "\n",
    "Que fait le programme suivant ? "
   ]
  },
  {
   "cell_type": "code",
   "execution_count": 8,
   "metadata": {},
   "outputs": [
    {
     "name": "stdout",
     "output_type": "stream",
     "text": [
      "8.8\n"
     ]
    }
   ],
   "source": [
    "a, b = 5, 3.8\n",
    "print(a + b) "
   ]
  },
  {
   "cell_type": "markdown",
   "metadata": {},
   "source": [
    "* La première ligne **affecte** la valeur `5` à la variable `a` et la valeur `3.8` à la variable `b`. \n",
    "\n",
    "* La seconde ligne **calcule** et **affiche** la somme des valeurs contenues dans les deux variables.\n",
    "\n",
    "### Instructions utiles sur les variables\n",
    "\n",
    "* `a += 1` : ajoute 1 à la variable `a`. On peut aussi écrire : `a = a + 1`.\n",
    "   \n",
    "   \n",
    "* `a -= 1` : enlève 1 à la variable `a`. On peut aussi écrire : `a = a - 1`.\n",
    "\n",
    "\n",
    "* `a *= 2` : multiplie par 2 la variable `a`. On peut aussi écrire : `a = a * 2`.\n",
    "\n",
    "\n",
    "* `a /= n` : diviser par `n` la variable `a `. On peut aussi écrire : `a = a / n`.\n",
    "\n",
    "\n",
    "* ` a ** n` : élève la variable `a` à l’exposant `n`. \n",
    "\n",
    "\n",
    "* ` a ** 0.5` : calcule la racine carrée de la variable `a`. \n",
    "\n",
    "   \n",
    "* `a // b` : donne le quotient de la division euclidienne de `a` par `b`.  \n",
    "\n",
    "   \n",
    "* `a % b` : donne le reste de la division euclidienne de `a` par `b`.  \n",
    "\n",
    "\n",
    "#### Quelques exemples\n",
    "\n",
    "Exécutez les cellules de code ci-dessous. "
   ]
  },
  {
   "cell_type": "code",
   "execution_count": 21,
   "metadata": {},
   "outputs": [
    {
     "data": {
      "text/plain": [
       "8"
      ]
     },
     "execution_count": 21,
     "metadata": {},
     "output_type": "execute_result"
    }
   ],
   "source": [
    "2 ** 3"
   ]
  },
  {
   "cell_type": "code",
   "execution_count": 22,
   "metadata": {},
   "outputs": [
    {
     "data": {
      "text/plain": [
       "3.0"
      ]
     },
     "execution_count": 22,
     "metadata": {},
     "output_type": "execute_result"
    }
   ],
   "source": [
    "9 ** 0.5"
   ]
  },
  {
   "cell_type": "code",
   "execution_count": 23,
   "metadata": {},
   "outputs": [
    {
     "data": {
      "text/plain": [
       "2"
      ]
     },
     "execution_count": 23,
     "metadata": {},
     "output_type": "execute_result"
    }
   ],
   "source": [
    "87 // 42 \n",
    "\n",
    "# 87 = 2 × 42 + 3. "
   ]
  },
  {
   "cell_type": "code",
   "execution_count": null,
   "metadata": {},
   "outputs": [],
   "source": [
    "87 % 42"
   ]
  },
  {
   "cell_type": "markdown",
   "metadata": {},
   "source": [
    "## III - Les chaînes de caractères\n",
    "\n",
    "On peut écrire une chaîne de caractères de différentes façons :\n",
    "\n",
    "* entre guillemets : `\"ceci est une chaîne de caractères\"` \n",
    "* entre apostrophes : `'ceci est une chaîne de caractères’ `\n",
    "* entre triples guillemets : `\"\"\"ceci est une chaîne de caractères\"\"\"`.\n",
    "\n",
    "\n",
    "On peut évidemment stocker une chaîne de caractères dans une variable. \n",
    "Par exemple, \n"
   ]
  },
  {
   "cell_type": "code",
   "execution_count": null,
   "metadata": {},
   "outputs": [],
   "source": [
    "ma_chaine = \"Bonjour ! \" \n",
    "print(ma_chaine)\n",
    "\n",
    "couleur = \"vert\"\n",
    "print(couleur)\n"
   ]
  },
  {
   "cell_type": "markdown",
   "metadata": {},
   "source": [
    "<div style=\"margin:2px;border:1px solid black;padding:10px;\">\n",
    "\n",
    "**Attention** : le nom d'une variable n'a pas de guillemets !    \n",
    "Ne pas confondre :\n",
    "+ ``couleur``, qui est le **nom d'une variable** ;\n",
    "    \n",
    "+ ``\"couleur\"``, qui est **une valeur**, de type chaine de caractères.\n",
    "\n",
    "</div>"
   ]
  },
  {
   "cell_type": "markdown",
   "metadata": {},
   "source": [
    "#### 1 - Concaténation de chaînes de caractères\n",
    "\n",
    "\n",
    "**Définition :** \n",
    "\n",
    "**La *concaténation* de deux chaînes de caractères est le fait de les mettre l’une à la suite de l’autre.**\n",
    "\n",
    "Exemple : "
   ]
  },
  {
   "cell_type": "code",
   "execution_count": null,
   "metadata": {},
   "outputs": [],
   "source": [
    "a, b = \"Ludovic\", \"Lulu\"\n",
    "ma_phrase = a + \", surnommé \" + b + \", habite Bordeaux.\"\n",
    "print(ma_phrase)"
   ]
  },
  {
   "cell_type": "markdown",
   "metadata": {},
   "source": [
    "Si on veut écrire une centaine de fois une chaîne de caractères, on peut faire ainsi :"
   ]
  },
  {
   "cell_type": "code",
   "execution_count": null,
   "metadata": {},
   "outputs": [],
   "source": [
    "lettre = \"A\"\n",
    "print(lettre * 100)"
   ]
  },
  {
   "cell_type": "markdown",
   "metadata": {},
   "source": [
    "#### 2 - Longueur d'une chaîne de caractères\n",
    "\n",
    "Dans de nombreux programmes, il est nécessaire de connaître la longueur d’une chaîne de caractères. En Python, cela est possible grâce à l’instruction `len`.\n",
    "\n",
    "Exemple : \n"
   ]
  },
  {
   "cell_type": "code",
   "execution_count": 26,
   "metadata": {},
   "outputs": [
    {
     "data": {
      "text/plain": [
       "37"
      ]
     },
     "execution_count": 26,
     "metadata": {},
     "output_type": "execute_result"
    }
   ],
   "source": [
    "ma_phrase = \"Le dormeur du val ne se réveille pas.\"\n",
    "len(ma_phrase)"
   ]
  },
  {
   "cell_type": "markdown",
   "metadata": {},
   "source": [
    "#### 3 - Instructions utiles sur les chaînes de caractères\n",
    "\n",
    "Si `ma_phrase` représente une chaîne de caractères, alors : \n",
    "\n",
    "* `ma_phrase[0]` représente le **premier** caractère ; \n",
    "\n",
    "\n",
    "* `ma_phrase[1]` représente le **deuxième** caractère ; \n",
    "\n",
    "\n",
    "* `ma_phrase[2:7]` représente la partie de la chaîne débutant au caractère de rang 2 (donc le **troisième** caractère) et se terminant au caractère de rang 6 (et pas 7 !) \n",
    "\n",
    "\n",
    "* `ma_phrase[-1]` représente le dernier caractère ; \n",
    "\n",
    "\n",
    "* `ma_phrase[-5:]` représente les cinq derniers caractères ; \n",
    "\n",
    " \n",
    "* `ma_phrase[5:]` représente la chaîne privée des 5 premiers caractères.\n",
    "\n",
    "\n",
    "Exemple : \n",
    "\n",
    "Qu’affiche chacune des instructions suivantes lorsque `ma_phrase = \"Le dormeur du val ne se réveille pas.\" ` ?  \n",
    "\n",
    "* `ma_phrase[0]`\"L\"\n",
    "\n",
    "\n",
    "* `ma_phrase[1]`\"e\"\n",
    "\n",
    "\n",
    "* `ma_phrase[3:10]`\" dormeur\"\n",
    "\n",
    "\n",
    "* `ma_phrase[-1]`\".\"\n",
    "\n",
    "\n",
    "* `ma_phrase[-4:]`\"p\"\n",
    "\n",
    "\n",
    "* `ma_phrase[3:]`\"dormeur du val de ne se réveille pas.\"\n",
    "\n",
    "*Bien sûr, il faut répondre aux questions **avant** de vérifier vos réponses en utilisant la cellule de code suivante...*\n"
   ]
  },
  {
   "cell_type": "code",
   "execution_count": 11,
   "metadata": {},
   "outputs": [
    {
     "data": {
      "text/plain": [
       "'as.'"
      ]
     },
     "execution_count": 11,
     "metadata": {},
     "output_type": "execute_result"
    }
   ],
   "source": [
    "ma_phrase[-3:]"
   ]
  },
  {
   "cell_type": "markdown",
   "metadata": {},
   "source": [
    "#### 4 - L'opérateur `in`\n",
    "\n",
    "Exécutez la cellule de code suivante : "
   ]
  },
  {
   "cell_type": "code",
   "execution_count": 33,
   "metadata": {},
   "outputs": [
    {
     "name": "stdout",
     "output_type": "stream",
     "text": [
      "True\n"
     ]
    }
   ],
   "source": [
    "ma_phrase = \"Le dormeur du val ne se réveille pas.\"\n",
    "print(\"le\" in ma_phrase)"
   ]
  },
  {
   "cell_type": "markdown",
   "metadata": {},
   "source": [
    "L’instruction `print(\"le\" in ma_phrase)` affiche `True` puisque nous pouvons trouver la chaîne de caractères \"le\" dans la phrase \"Le dormeur du val ne se réveille pas.\" (dans le mot « réveille »). \n",
    "\n",
    "A contrario, l'instruction `print(\"vallée\" in ma_phrase)` affiche `False` puisque la chaîne de caractères \"vallée\" n'est pas dans la phrase \"Le dormeur du val ne se réveille pas.\" : \n"
   ]
  },
  {
   "cell_type": "code",
   "execution_count": 34,
   "metadata": {},
   "outputs": [
    {
     "name": "stdout",
     "output_type": "stream",
     "text": [
      "False\n"
     ]
    }
   ],
   "source": [
    "print(\"vallée\" in ma_phrase)"
   ]
  },
  {
   "cell_type": "markdown",
   "metadata": {},
   "source": [
    "#### 5 - Le retour à la ligne\n",
    "\n",
    "Quand on concatène plusieurs chaînes de caractères et que l’on souhaite revenir à la ligne à chaque concaténation, on utilisera `\\n`. \n",
    "\n",
    "Exemple : \n",
    "\n",
    "Exécutez la cellule de code suivante."
   ]
  },
  {
   "cell_type": "code",
   "execution_count": 35,
   "metadata": {},
   "outputs": [
    {
     "name": "stdout",
     "output_type": "stream",
     "text": [
      "Lycée\n",
      "du\n",
      "Granier\n"
     ]
    }
   ],
   "source": [
    "identifiant = \"Lycée\\ndu\\nGranier\"\n",
    "print(identifiant)"
   ]
  },
  {
   "cell_type": "markdown",
   "metadata": {},
   "source": [
    "#### 6 - Caractère d'échappement\n",
    "\n",
    "Si une chaîne de caractères est définie entre deux apostrophes, et si elle-même contient une apostrophe, alors il est nécessaire d’« échapper » cette dernière. \n",
    "Par exemple, si la chaine de caractères est « Aujourd’hui », on la définira ainsi : "
   ]
  },
  {
   "cell_type": "code",
   "execution_count": 36,
   "metadata": {},
   "outputs": [
    {
     "name": "stdout",
     "output_type": "stream",
     "text": [
      "Aujourd'hui\n"
     ]
    }
   ],
   "source": [
    "chaine = 'Aujourd\\'hui'\n",
    "print(chaine)"
   ]
  },
  {
   "cell_type": "markdown",
   "metadata": {},
   "source": [
    "Une autre façon de procéder est d’utiliser de préférence les guillemets (et pas des apostrophes) pour déclarer une chaîne de caractères : "
   ]
  },
  {
   "cell_type": "code",
   "execution_count": 37,
   "metadata": {},
   "outputs": [
    {
     "name": "stdout",
     "output_type": "stream",
     "text": [
      "Aujourd'hui\n"
     ]
    }
   ],
   "source": [
    "chaine = \"Aujourd'hui\"\n",
    "print(chaine)"
   ]
  },
  {
   "cell_type": "markdown",
   "metadata": {},
   "source": [
    "#### 7 - Majuscules et minuscules\n",
    "\n",
    "Python est sensible à la casse d’une chaîne de caractères : cela signifie qu’il distingue les majuscules et les minuscules. \n",
    "\n",
    "Ainsi, la chaîne « Chambéry » est différente de la chaîne « chambéry ». \n",
    "\n",
    "Il sera donc parfois utile de transformer une chaîne de caractères afin qu’elle ne contienne que des minuscules ou que des majuscules. \n",
    "\n",
    "* Pour transformer une chaîne de caractères en minuscules, on utilise la méthode `lower` : "
   ]
  },
  {
   "cell_type": "code",
   "execution_count": null,
   "metadata": {},
   "outputs": [],
   "source": [
    "ville = input(\"Quelle est la capitale des Pays-Bas ?\")\n",
    "ville = ville.lower()\n",
    "print(\"Votre réponse est : \", ville)\n",
    "\n",
    "if (ville == \"amsterdam\"):\n",
    "    print(\"Bonne réponse !\")\n",
    "else:\n",
    "    print(\"Mauvaise réponse\")"
   ]
  },
  {
   "cell_type": "markdown",
   "metadata": {},
   "source": [
    "* Si on souhaite plutôt transformer une chaîne de caractères en majuscules, on utilise la méthode `upper` : "
   ]
  },
  {
   "cell_type": "code",
   "execution_count": null,
   "metadata": {},
   "outputs": [],
   "source": [
    "ville = input(\"Quelle est la préfecture de la Savoie ?\")\n",
    "ville = ville.upper()\n",
    "print(\"Votre réponse est : \", ville)\n",
    "\n",
    "if (ville == \"CHAMBÉRY\"):\n",
    "    print(\"Bonne réponse !\")\n",
    "else:\n",
    "    print(\"Mauvaise réponse\")"
   ]
  },
  {
   "cell_type": "markdown",
   "metadata": {},
   "source": [
    "Au passage, on peut remarquer que les caractères accentués sont aussi mis en majuscules  : *Chambéry* est transformé en *CHAMBÉRY* et non en *CHAMBERY*."
   ]
  },
  {
   "cell_type": "markdown",
   "metadata": {},
   "source": [
    "#### 8 - Remplacement d'un caractère\n",
    "\n",
    "La méthode `replace(a, b)` permet de remplacer toutes les occurrences de `a` par `b`.\n",
    "\n",
    "Exemple : "
   ]
  },
  {
   "cell_type": "code",
   "execution_count": 8,
   "metadata": {},
   "outputs": [
    {
     "name": "stdout",
     "output_type": "stream",
     "text": [
      "L* dorm*ur du val n* s* rév*ill* pas.\n"
     ]
    }
   ],
   "source": [
    "ma_phrase = \"Le dormeur du val ne se réveille pas.\"\n",
    "ma_phrase = ma_phrase.replace('e','*')\n",
    "print(ma_phrase)"
   ]
  },
  {
   "cell_type": "markdown",
   "metadata": {},
   "source": [
    "#### 9 - Changer le type d'une variable\n",
    "\n",
    "Exécutez la cellule de code ci-dessous. \n"
   ]
  },
  {
   "cell_type": "code",
   "execution_count": 7,
   "metadata": {},
   "outputs": [
    {
     "name": "stdout",
     "output_type": "stream",
     "text": [
      "6.7\n"
     ]
    }
   ],
   "source": [
    "chiffre = \"3\"\n",
    "chiffre=int(chiffre)\n",
    "nombre = 3.7\n",
    "print(chiffre + nombre)"
   ]
  },
  {
   "cell_type": "markdown",
   "metadata": {},
   "source": [
    "Comme vous pouvez le constater, ce programme retourne une erreur. \n",
    "\n",
    "Pour pallier ce genre d’erreur, il est nécessaire de transformer le type d’une des deux variables. \n",
    "\n",
    "Par exemple, avec l’instruction `chiffre = int(chiffre)` qui permet de convertir le type initial `str` (chaîne de caractères) de la variable `chiffre` en type `int` (entier) :\n"
   ]
  },
  {
   "cell_type": "code",
   "execution_count": null,
   "metadata": {},
   "outputs": [],
   "source": [
    "type(chiffre)"
   ]
  },
  {
   "cell_type": "code",
   "execution_count": null,
   "metadata": {},
   "outputs": [],
   "source": [
    "chiffre = int(chiffre)\n",
    "type(chiffre)"
   ]
  },
  {
   "cell_type": "markdown",
   "metadata": {},
   "source": [
    "L’instruction `print(chiffre + nombre)` ne génère alors plus d’erreur : "
   ]
  },
  {
   "cell_type": "code",
   "execution_count": null,
   "metadata": {},
   "outputs": [],
   "source": [
    "print(chiffre + nombre)"
   ]
  },
  {
   "cell_type": "markdown",
   "metadata": {},
   "source": [
    "Exécutez la cellule de code suivante : "
   ]
  },
  {
   "cell_type": "code",
   "execution_count": null,
   "metadata": {},
   "outputs": [],
   "source": [
    "chiffre = \"3\"\n",
    "nombre = 3.7\n",
    "nombre = str(nombre)\n",
    "print(chiffre + nombre)"
   ]
  },
  {
   "cell_type": "markdown",
   "metadata": {},
   "source": [
    "`33.7` est la concaténation des deux chaînes de caractères `\"3\"` et `\"3.7\"` contenues dans les variables `chiffre` et `nombre.`\n",
    "\n",
    "**A vous :**\n",
    "\n",
    "**Exercice 1**\n",
    "\n",
    "Dans la cellule de code ci-dessous, écrire un programme en Python qui : \n",
    "\t\n",
    "1) demande à l’utilisateur de saisir une phrase et stocke la saisie dans une variable ; \n",
    "    \n",
    "2) convertit la saisie en minuscules ;\n",
    "    \n",
    "3) détecte si la chaine « ui » apparaît dans la saisie ;\n",
    "    \n",
    "4) affiche la longueur de la saisie ;\n",
    "    \n",
    "5) affiche les 5 derniers caractères (en supposant que la saisie est strictement plus longue que 5 caractères...) ;\n",
    "    \n",
    "6) remplace tous les « a » par « ? » et affiche le résultat.\n"
   ]
  },
  {
   "cell_type": "code",
   "execution_count": 36,
   "metadata": {},
   "outputs": [
    {
     "name": "stdout",
     "output_type": "stream",
     "text": [
      "votre pharse est : Sexe\n",
      "sexe\n",
      "False\n",
      "4\n",
      "sexe\n",
      "s€x€\n"
     ]
    }
   ],
   "source": [
    "variable=input(\"Saisir n'importe quelle phrase\")\n",
    "print('votre pharse est :', variable)\n",
    "variable=variable.lower()\n",
    "print(variable)\n",
    "print('ui'in variable)\n",
    "print(len(variable))\n",
    "print(variable[-5:])\n",
    "variable=variable.replace(\"a\",\"?\")\n",
    "print(variable)\n"
   ]
  },
  {
   "cell_type": "markdown",
   "metadata": {},
   "source": [
    "**Exercice 2**\n",
    "\n",
    "\n",
    "Dans la cellule de code ci-dessous, écrire un programme en Python qui : \n",
    "\n",
    "1) demande à l'utilisateur de saisir un mot et stocke la saisie dans une variable `mot` ;\n",
    "\n",
    "2) affiche la première lettre et la dernière lettre du mot en majuscules et remplace les autres lettres par des _ séparés par des espaces (principe du jeu du pendu).   \n",
    "Par exemple, si l'utilisateur saisit le mot `informatique`, le programme doit afficher `I _ _ _ _ _ _ _ _ _ _ E`.\n",
    "\n",
    "**Indication :**  \n",
    "On remarque que, dans la construction du nouveau mot, il est nécessaire de répéter le motif \" _\".  \n",
    "Pour cela, il faudra s'inspirer du bloc de code suivant : testez-le et apportez des modifications au code pour comprendre ce qu'il fait avant de poursuivre.  "
   ]
  },
  {
   "cell_type": "code",
   "execution_count": 32,
   "metadata": {},
   "outputs": [
    {
     "name": "stdout",
     "output_type": "stream",
     "text": [
      " _ _ _ _ _\n"
     ]
    }
   ],
   "source": [
    "motif = \"wahou\"\n",
    "motif=\" _\"*len(motif)\n",
    "print(motif)"
   ]
  },
  {
   "cell_type": "code",
   "execution_count": 39,
   "metadata": {},
   "outputs": [
    {
     "name": "stdout",
     "output_type": "stream",
     "text": [
      "N _ _ _ T\n"
     ]
    }
   ],
   "source": [
    "motif=input(\"Saissisez un mot\")\n",
    "premiere_lettre_motif=motif[0]\n",
    "derniere_lettre_motif=motif[-1]\n",
    "centre_du_motif=motif[1:-1]\n",
    "motif=premiere_lettre_motif.upper()+\" _\"*len(centre_du_motif)+\" \"+derniere_lettre_motif.upper()\n",
    "print(motif)"
   ]
  },
  {
   "cell_type": "markdown",
   "metadata": {},
   "source": [
    "## IV - Les booléens\n",
    "\n",
    "Le mot \"booléen\" provient de George Boole (1815-1864), un mathématicien et logicien anglais qui a créé l'algèbre binaire, aujourd'hui appelée algèbre booléenne. Cette algèbre booléenne permet de traduire des raisonnements logiques par des calculs algébriques.\n",
    "\n",
    "#### 1 - Définition :\n",
    "\n",
    "**Un *booléen* est un type de variable qui ne peut être que dans deux états : ceux-ci sont généralement nommés *True* et *False* (*vrai* et *faux*), représentés respectivement par 1 et 0.** \n",
    "\n",
    "En Python, on peut déclarer un booléen directement par sa valeur :\n",
    "* `True` pour vrai (avec un `T` majuscule !) ;\n",
    "* `False` pour faux (avec un `F` majuscule !).\n",
    "\n",
    "Par exemple :"
   ]
  },
  {
   "cell_type": "code",
   "execution_count": null,
   "metadata": {},
   "outputs": [],
   "source": [
    "debut = True # Initialisation de la variable debut à la valeur True\n",
    "fin = False  # Initialisation de la variable fin à la valeur True\n",
    "\n",
    "print(fin)\n",
    "print(debut)"
   ]
  },
  {
   "cell_type": "markdown",
   "metadata": {},
   "source": [
    "#### 2 - Opérateurs de comparaison\n",
    "\n",
    "Exécuter les cellules suivantes et observer les résultats."
   ]
  },
  {
   "cell_type": "code",
   "execution_count": null,
   "metadata": {},
   "outputs": [],
   "source": [
    "a, b = 5, 7\n",
    "a, b"
   ]
  },
  {
   "cell_type": "markdown",
   "metadata": {},
   "source": [
    "La variable `a` vaut 5 et la variable `b` vaut 7."
   ]
  },
  {
   "cell_type": "code",
   "execution_count": null,
   "metadata": {},
   "outputs": [],
   "source": [
    "a == b"
   ]
  },
  {
   "cell_type": "code",
   "execution_count": null,
   "metadata": {},
   "outputs": [],
   "source": [
    "a != b"
   ]
  },
  {
   "cell_type": "code",
   "execution_count": null,
   "metadata": {},
   "outputs": [],
   "source": [
    "a > b"
   ]
  },
  {
   "cell_type": "code",
   "execution_count": null,
   "metadata": {},
   "outputs": [],
   "source": [
    "a < b"
   ]
  },
  {
   "cell_type": "markdown",
   "metadata": {},
   "source": [
    "Nous venons d'effectuer des **tests**. Le test `a == b` signifie : \"*la valeur de a est-elle la même que celle de b ?* \"\n",
    "\n",
    "<div> Voici les différents tests possibles : <br>\n",
    "<table>\n",
    "    <tr><th>Symbole</th><th>Signification</th></tr>\n",
    "    <tr><td>==</td><td>égal à</td></tr>\n",
    "    <tr><td>!=</td><td>différent de</td></tr> \n",
    "    <tr><td>$<$</td><td>strictement supérieur à</td></tr>\n",
    "    <tr><td>$>$</td><td>strictement inférieur à</td></tr>\n",
    "    <tr><td>$<=$</td><td>inférieur ou égal à</td></tr>\n",
    "    <tr><td>$>=$</td><td>supérieur ou égal à</td></tr>        \n",
    "</table></div>\n",
    "\n"
   ]
  },
  {
   "cell_type": "markdown",
   "metadata": {},
   "source": [
    "<div style=\"margin:2px;border:1px solid black;padding:10px;\">\n",
    "\n",
    "**Différence entre = et ==**\n",
    "    \n",
    "+ Le symbole `=` est réservé à l'**affectation** d'une valeur à une variable.\n",
    "+ Le symbole `==` est un l'**opérateur de comparaison** qui permet de déterminer si deux valeurs sont égales.   \n",
    "\n",
    "Cette confusion est la principale source de bug chez les débutants en programmation.\n"
   ]
  },
  {
   "cell_type": "code",
   "execution_count": null,
   "metadata": {},
   "outputs": [],
   "source": [
    "a = 2048  # Affectation\n",
    "b = 2**11 # Affectation \n",
    "a == b    # Test avec l'opérateur de comparaison =="
   ]
  },
  {
   "cell_type": "markdown",
   "metadata": {},
   "source": [
    "Le résultat affiché est `True` car 2048 est égal à $2^{11}$.\n",
    "\n",
    "#### 3 - Les opérateurs booléens\n",
    "\n",
    "On peut combiner plusieurs expressions booléennes avec les opérateurs <code>and</code>, <code>or</code>,  <code>not</code> et <code>xor</code>.  \n",
    "\n",
    "Dans le cadre des instructions conditionnelles, ces opérateurs permettent d'éviter de recourir à des conditions imbriquées.\n",
    "\n",
    "**Introduction en vidéo :** [cliquez ici](https://www.youtube.com/watch?time_continue=1&v=76BKXD3YGdo&feature=emb_logo)\n",
    "\n",
    "##### a - L'opérateur \"and\"\n",
    "\n",
    "L’opérateur ***and*** permet de tester si deux booléens (`a` et `b`) sont vrais. \n",
    "\n",
    "On a alors les **tables de vérité** suivantes :\n",
    "\n",
    "<img src='images/img3.jpg' >\n",
    "\n",
    "\n",
    "Exemple : \n"
   ]
  },
  {
   "cell_type": "code",
   "execution_count": null,
   "metadata": {},
   "outputs": [],
   "source": [
    "note = 13.5\n",
    "mention_ab = note >= 12 and note < 14\n",
    "print(mention_ab)"
   ]
  },
  {
   "cell_type": "markdown",
   "metadata": {},
   "source": [
    "Le booléen `mention_ab` est le résultat de l'évaluation de l'expression booléenne : `note >= 12` (qui vaut `True`) ET `note < 14` (qui vaut `True` aussi). Donc, d’après la table de vérité précédente, `mention_ab = True`.\n",
    "\n",
    "##### b - L'opérateur \"or\"\n",
    "\n",
    "L’opérateur ***or*** permet de tester si l’un des deux booléens au moins est vrai.\n",
    "On a alors les **tables de vérité** suivantes :\n",
    "\n",
    "<img src='images/img4.jpg' >\n",
    "\n",
    "Exemple :\n"
   ]
  },
  {
   "cell_type": "code",
   "execution_count": null,
   "metadata": {},
   "outputs": [],
   "source": [
    "note = 16.5\n",
    "extreme = note < 5 or note > 15\n",
    "print(extreme)"
   ]
  },
  {
   "cell_type": "markdown",
   "metadata": {},
   "source": [
    "Ici, on teste si l’une ou l’autre des expressions booléennes  `note < 5` et `note > 15` est vraie. \n",
    "\n",
    "C’est effectivement le cas, donc le booléen `extreme` vaut `True`.\n",
    "\n",
    "##### c - L'opérateur \"not\"\n",
    "\n",
    "L’opérateur ***not*** retourne le booléen opposé. \n",
    "\n",
    "Sa **table de vérité** est donc la suivante : \n",
    "\n",
    "<img src='images/img5.jpg' >\n",
    "\n",
    "Exemple : "
   ]
  },
  {
   "cell_type": "code",
   "execution_count": null,
   "metadata": {},
   "outputs": [],
   "source": [
    "test = True\n",
    "neg_test = not test\n",
    "print(neg_test)"
   ]
  },
  {
   "cell_type": "markdown",
   "metadata": {},
   "source": [
    "Ici, on définit le booléen `neg_test` comme étant le contraire du booléen `test`. Ainsi, `neg_test` vaut `False`.\n",
    "\n",
    "\n",
    "<img align = \"left\" src='images/img.jpg' width = 150 >\n",
    "\n",
    "Dans de nombreuses situations, les parenthèses figurant dans l’expression sont indispensables.\n"
   ]
  },
  {
   "cell_type": "code",
   "execution_count": null,
   "metadata": {},
   "outputs": [],
   "source": [
    "a = 1\n",
    "b = 2\n",
    "print((not a) == b)\n",
    "print(not a == b)\n"
   ]
  },
  {
   "cell_type": "markdown",
   "metadata": {},
   "source": [
    "##### d - L'opérateur \"xor\" (le \"ou exclusif\")\n",
    "\n",
    "L’opérateur ***xor*** retourne *vrai* quand seulement l’un des deux booléens est vrai, et *faux* sinon. \n",
    "\n",
    "Sa **table de vérité** est donc la suivante : \n",
    "\n",
    "<img src='images/img6.jpg' >\n",
    "\n",
    "***Dans un premier temps, répondre aux exercices 1 et 2 suivants sans utiliser de cellule de code !!***\n",
    "\n",
    "\n",
    "**Exercice 1 :**\n",
    "\n",
    "Si `a` et `b` sont deux booléens tels que `a = 1` et `b = 0`, que vaut l'expression booléenne suivante : `not(a or b) or (a and not(b))` ?\n",
    "\n",
    "**Votre réponse :**  ...\n",
    "\n",
    "**Exercice 2 :**  \n",
    "On donne les instructions :  \n",
    "\n",
    "`k = 42`\n",
    "\n",
    "`p = (k >= 100)`\n",
    "\n",
    "`q = (k % 2 == 1)`\n",
    "\n",
    "`r = (k % 3 == 0)`\n",
    "\n",
    "1) Evaluer l'expression booléenne suivante (c'est-à-dire déterminer si sa valeur est `True`ou `False`) : `(p and (q or r)) or (not p and q)`.\n",
    "\n",
    "**Votre réponse :**  ...\n",
    "\n",
    "2) Proposer une (autre) valeur de `k` pour laquelle l'expression booléenne précédente est `True`.\n",
    "\n",
    "**Votre réponse :**  ...\n",
    "\n"
   ]
  },
  {
   "cell_type": "markdown",
   "metadata": {},
   "source": [
    "**Exercice 3 :** \n",
    "\n",
    "On affecte la valeur 8 à la variable `n` et la valeur 15 à la variable `p`. \n",
    "\n",
    "Pour chaque condition, dire si elle est vraie ou fausse puis vérifier avec la cellule de code Python donnée ci-dessous.\n",
    "    <ol type = \"I\"> \n",
    "        <li> <code> n &gt; 8 or n == 8 </code> </li>\n",
    "        <li> <code> n &gt;= 8 </code> </li>\n",
    "        <li> <code> n == p or n &lt; p</code> </li>\n",
    "        <li> <code> n &lt;= p </code> </li>\n",
    "        <li> <code> n % 2 == 0 and p % 2 == 0</code> </li>\n",
    "        <li> <code> (p-n) % 2 == 1 and p*n % 2 == 0 </code> </li>\n",
    "    </ol>\n",
    "</div>\n"
   ]
  },
  {
   "cell_type": "markdown",
   "metadata": {},
   "source": [
    "Ecrire vos réponses.  \n",
    "1.  \n",
    "2.  \n",
    "3.  \n",
    "4.  \n",
    "5.  \n",
    "6.  \n",
    "\n",
    "Puis vérifier en saisissant les instructions ci-dessous : "
   ]
  },
  {
   "cell_type": "code",
   "execution_count": null,
   "metadata": {},
   "outputs": [],
   "source": []
  },
  {
   "cell_type": "markdown",
   "metadata": {},
   "source": [
    "**Exercice 4 :**  \n",
    "\n",
    "<img src='images/Exercice_type_1.png' width = 600 >"
   ]
  },
  {
   "cell_type": "code",
   "execution_count": 6,
   "metadata": {},
   "outputs": [
    {
     "name": "stdout",
     "output_type": "stream",
     "text": [
      "False\n"
     ]
    }
   ],
   "source": [
    "j=2\n",
    "m=11\n",
    "avant=m<7 or m==7 and j<=14\n",
    "print(avant)"
   ]
  },
  {
   "cell_type": "markdown",
   "metadata": {},
   "source": [
    "**Correction :**  \n",
    "Voir le fichier *Exercices_type_correction.pdf*"
   ]
  },
  {
   "cell_type": "markdown",
   "metadata": {},
   "source": [
    "**Exercice 5 :**  \n",
    "<img src='images/Exercice_type_2.png' width = 600 >\n"
   ]
  },
  {
   "cell_type": "code",
   "execution_count": 28,
   "metadata": {},
   "outputs": [
    {
     "name": "stdout",
     "output_type": "stream",
     "text": [
      "5\n",
      "True\n"
     ]
    }
   ],
   "source": [
    "from random import randint\n",
    "m=randint(1,12)\n",
    "print(m)\n",
    "est_mois_31=m==1 or m==3 or m==4 or m==5 or m==7 or m==8 or m==10 or m==12\n",
    "print(est_mois_31)"
   ]
  },
  {
   "cell_type": "markdown",
   "metadata": {},
   "source": [
    "**Correction :**  \n",
    "Voir le fichier *Exercices_type_correction.pdf*"
   ]
  },
  {
   "cell_type": "markdown",
   "metadata": {},
   "source": [
    "**Exercice 6 : triangle valide ou pas**\n",
    "\n",
    "Il n’existe pas de triangle de côtés de longueur 42, 81 et 32.  \n",
    "\n",
    "En effet, le côté d’un triangle a toujours une longueur valant au plus la somme des deux autres.  \n",
    "Et, inversement, si on se donne trois nombres positifs tels que chacun soit inférieur à la somme des deux autres, alors il existe bien un triangle ayant ces nombres pour longueur de côtés.   \n",
    "\n",
    "On donne trois entiers a, b et c et on demande d’écrire, en une seule ligne de code, un booléen `estValide` qui vaut `True` si et seulement s’il existe un triangle de côtés de longueurs a, b et c, et `False` sinon.  \n",
    "\n",
    "Ainsi, si a, b et c valent par exemple 42, 81 et 32 alors `estValide` vaudra `False`. Et si a, b et c valent, par exemple, 42, 81 et 50 alors `estValide` vaudra `True`.\n"
   ]
  },
  {
   "cell_type": "code",
   "execution_count": 10,
   "metadata": {},
   "outputs": [
    {
     "name": "stdout",
     "output_type": "stream",
     "text": [
      "True\n"
     ]
    }
   ],
   "source": [
    "a=42\n",
    "b=81\n",
    "c=32\n",
    "estValide=a+b>=c\n",
    "print(estValide)"
   ]
  },
  {
   "cell_type": "markdown",
   "metadata": {},
   "source": [
    "**Exercice 7 : année bissextile ?**\n",
    "\n",
    "Une année bissextile est une année multiple de 4, non multiple de 100 à moins qu’elle ne soit multiple de 400. Ainsi,\n",
    "* 2019 n’est pas bissextile puisque 2019 n’est pas un multiple de 4 ;\n",
    "* 2020 est bissextile car elle est multiple de 4 et non multiple de 100 ;\n",
    "* 3000 n’est pas bissextile car elle est multiple de 100 sans être multiple de 400;\n",
    "* 2000 était bissextile car 2000 est multiple de 400.\n",
    "\n",
    "Soit `n` une année. En considérant que les restes de `n` par 4, 100 ou 400 sont nuls ou pas, écrire un booléen `estBissext` qui vaut `True` si `n` est bissextile et `False` sinon.\n"
   ]
  },
  {
   "cell_type": "code",
   "execution_count": 30,
   "metadata": {},
   "outputs": [
    {
     "name": "stdout",
     "output_type": "stream",
     "text": [
      "2272\n",
      "True\n"
     ]
    }
   ],
   "source": [
    "from random import randint\n",
    "n=randint(1000,4000)\n",
    "print(n)\n",
    "estBissext=n%4==0 and n%100!=0 or n%400==0\n",
    "print(estBissext)"
   ]
  },
  {
   "cell_type": "markdown",
   "metadata": {},
   "source": [
    "***Sources :*** \n",
    "\n",
    "* Numérique et sciences informatiques 1re, collection Interros des lycées, aux éditions Nathan\n",
    "\n",
    "* Le [site de Pascal Ortiz](http://pascal.ortiz.free.fr/contents/python/decouverte/index.html). "
   ]
  }
 ],
 "metadata": {
  "kernelspec": {
   "display_name": "Python 3 (ipykernel)",
   "language": "python",
   "name": "python3"
  },
  "language_info": {
   "codemirror_mode": {
    "name": "ipython",
    "version": 3
   },
   "file_extension": ".py",
   "mimetype": "text/x-python",
   "name": "python",
   "nbconvert_exporter": "python",
   "pygments_lexer": "ipython3",
   "version": "3.9.6"
  }
 },
 "nbformat": 4,
 "nbformat_minor": 4
}
