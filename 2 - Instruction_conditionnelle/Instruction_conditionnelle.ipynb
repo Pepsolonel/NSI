{
 "cells": [
  {
   "cell_type": "markdown",
   "metadata": {},
   "source": [
    "# <center> Les instructions conditionnelles <center>\n",
    "    \n",
    "## 1 - Introduction \n",
    "\n",
    "Il arrive fréquemment, dans la vie courante, que notre conduite soit déterminée par l'évaluation d'une situation.\n",
    "\n",
    "Par exemple : \n",
    "\n",
    "* Je conduis mon véhicule.\n",
    "* J’aperçois un feu tricolore. \n",
    "* **Si** la couleur du feu est rouge ou orange, \n",
    "<br/> **alors :** je dois m’arrêter <br/> **sinon :** je poursuis ma route. \n",
    "\n",
    "Cette situation est courante en algorithmique et correspond à la notion d’**instruction conditionnelle** (on dit aussi **structure alternative**).\n",
    "\n",
    "C'est l'évaluation d'une **expression booléenne** qui permettra de déterminer l'instruction (ou les instructions) à exécuter.\n"
   ]
  },
  {
   "cell_type": "markdown",
   "metadata": {},
   "source": [
    "## 2 - Instruction `if`\n",
    "\n",
    "L'instruction `if` permet de coder un schéma logique du type : \n",
    "\n",
    "<center> <b> si ... alors </b> </center>\n",
    "\n",
    "Elle permet de tester une condition et, dans le cas où celle-ci est vraie, d'effectuer des instructions qui ne seraient pas exécutées dans le cas contraire.\n",
    "\n",
    "**Exemple :**\n"
   ]
  },
  {
   "cell_type": "code",
   "execution_count": null,
   "metadata": {},
   "outputs": [],
   "source": [
    "temperature = float(input(\"Quelle est la température extérieure ? \"))\n",
    "if (temperature >= 35):\n",
    "    print(\"Quelle chaleur ! \")\n",
    "    print(\"Pensez à vous hydrater régulièrement ! \")"
   ]
  },
  {
   "cell_type": "markdown",
   "metadata": {},
   "source": [
    "* <font color='red' size = 2 bold>  Attention : pour que les instructions soient considérées dans le `if`, il est nécessaire de respecter l'indentation, soit une tabulation ou 4 espaces avant chaque instruction.  \n",
    "</font>\n",
    "\n",
    "* <font color='red' size = 2 bold> Notez également l’utilisation des `:` après la condition `(temperature >=35)` : l'oubli des `:` génèrera une erreur d'exécution. \n",
    "\n"
   ]
  },
  {
   "cell_type": "markdown",
   "metadata": {},
   "source": [
    "**Instructions `if` imbriquées**\n",
    "\n",
    "Le corps d’une instruction `if` peut être n’importe quelle instruction, en particulier une nouvelle instruction `if`.\n",
    "\n",
    "Vous avez le droit de créer autant de structures imbriquées que vous voulez, mais il est indispensable de faire attention à l’indentation afin de déterminer l’ordre de priorité des conditions et de ne pas générer des erreurs lors de l'exécution du code.\n",
    "\n",
    "**Exemple :**"
   ]
  },
  {
   "cell_type": "code",
   "execution_count": null,
   "metadata": {},
   "outputs": [],
   "source": [
    "a = int(input(\"Saisir un nombre entier : \"))\n",
    "if (a < 10): \n",
    "    if (a > 0):\n",
    "        if (a % 2 != 0):\n",
    "            print (\"Le nombre est positif, inférieur à 10 et impair.\")"
   ]
  },
  {
   "attachments": {
    "img0.JPG": {
     "image/jpeg": "[encoded data removed]"
    }
   },
   "cell_type": "markdown",
   "metadata": {},
   "source": [
    "## 3 - Instruction `if/else`\n",
    "\n",
    "En plus de vouloir exécuter des instructions lorsqu'une condition est vraie, on peut aussi vouloir effectuer des instructions dans le cas où cette même condition est fausse.\n",
    "\n",
    "Il s'agit d'un schéma logique du type :\n",
    "\n",
    "<center> <b> si ... alors ... sinon ... </b> </center>\n",
    "\n",
    "Par exemple : \n",
    "\n",
    "![img0.JPG](attachment:img0.JPG) \n",
    "\n",
    "Cela correspond au pseudo-code suivant :\n",
    "<code>\n",
    "instructions A\n",
    "Si condition vraie faire :\n",
    "    instructions B\n",
    "Sinon\n",
    "    instructions C\n",
    "instructions D\n",
    "</code><br>\n",
    "En Python, les mot-clés sont <code>if</code> (si) et <code>else</code> (sinon) :\n",
    "<code>\n",
    "A\n",
    "if condition :\n",
    "    B\n",
    "else:\n",
    "    C\n",
    "D\n",
    "</code></p>\n",
    "</big></div></td></tr></table>\n",
    "\n",
    "**Exemple 1 :** "
   ]
  },
  {
   "cell_type": "code",
   "execution_count": 1,
   "metadata": {},
   "outputs": [
    {
     "name": "stdout",
     "output_type": "stream",
     "text": [
      "Vous êtes mineur.\n"
     ]
    }
   ],
   "source": [
    "#Ce programme indique si vous êtes majeur ou mineur. \n",
    "age = int(input(\"Quel âge avez-vous ? \"))\n",
    "\n",
    "if (age >= 18):\n",
    "    print(\"Vous êtes majeur.\")\n",
    "else:\n",
    "    print(\"Vous êtes mineur.\")"
   ]
  },
  {
   "cell_type": "markdown",
   "metadata": {},
   "source": [
    "* <font color='red' size = 2 bold>  Attention : pour que les instructions soient considérées dans le `if` ou dans le `else`, il est, là aussi, nécessaire de respecter l'indentation : une tabulation ou 4 espaces avant chaque instruction.  \n",
    "</font>\n",
    "\n",
    "\n",
    "* <font color='red' size = 2 bold> Notez également l’utilisation des `:` après la condition `(age >=18)` et après le `else` .</font> \n"
   ]
  },
  {
   "cell_type": "markdown",
   "metadata": {},
   "source": [
    "**Exemple 2 :**"
   ]
  },
  {
   "cell_type": "code",
   "execution_count": 2,
   "metadata": {},
   "outputs": [
    {
     "name": "stdout",
     "output_type": "stream",
     "text": [
      "Pour des raisons de sécurité, une taille minimale est réquise pour entrer au Parc d'attraction.\n",
      "Vous pouvez accèder au Parc.\n",
      "Merci d'avoir fait le test.\n"
     ]
    }
   ],
   "source": [
    "print(\"Pour des raisons de sécurité, une taille minimale est réquise pour entrer au Parc d'attraction.\")\n",
    "taille = int(input(\"Entrer votre taille en cm : \"))\n",
    "\n",
    "if taille >= 130 :\n",
    "    print(\"Vous pouvez accèder au Parc.\")\n",
    "else:\n",
    "    print(\"Pour le moment, vous ne pouvez pas accéder au Parc.\")\n",
    "print(\"Merci d'avoir fait le test.\")"
   ]
  },
  {
   "cell_type": "markdown",
   "metadata": {},
   "source": [
    "**Exercice :**\n",
    "\n",
    "Écrire un programme qui demande à l'utilisateur de saisir le mot de passe qui permet de se connecter au serveur de la NASA, et qui lui indique si l'accès est autorisé ou pas.   \n",
    "    Le mot de passe est <code>azerty</code>.  "
   ]
  },
  {
   "cell_type": "code",
   "execution_count": 8,
   "metadata": {},
   "outputs": [
    {
     "name": "stdout",
     "output_type": "stream",
     "text": [
      "Assistant de connexion à la NASA\n",
      "Identification réussie, veuillez changer votre mot de passe à la première connexion\n",
      "Première connexion réussie, bienvenue sur le serveur de la NASA\n"
     ]
    }
   ],
   "source": [
    "print(\"Assistant de connexion à la NASA\")\n",
    "mdp=input(\"Entrez votre mot de passe\")\n",
    "if mdp==\"azerty\":\n",
    "    print(\"Identification réussie, veuillez changer votre mot de passe à la première connexion\")\n",
    "    mdp=input(\"Veuillez saisir un nouveau mot de passe\")\n",
    "    mdp2=input(\"Confirmez votre mot de passe en le saisissant à nouveau\")\n",
    "    if mdp==mdp2:\n",
    "        print(\"Première connexion réussie, bienvenue sur le serveur de la NASA\")\n",
    "    else:\n",
    "        print(\"Echec, veuillez recommancer la procédure de connexion\")\n",
    "else:\n",
    "    print(\"Mot de passe incorrect\")"
   ]
  },
  {
   "cell_type": "markdown",
   "metadata": {},
   "source": [
    "## 4 - Conditions imbriquées Instruction `if/elif/else` \n",
    "\n",
    "On a parfois besoin d'imbriquer plusieurs conditions. \n",
    "\n",
    "L'instruction `if/elif/else` permet de coder un schéma logique du type : \n",
    "\n",
    "<center> <b> si ... alors ... sinon si ... alors sinon ... </b> </center>\n",
    "\n",
    "**Exemple :**"
   ]
  },
  {
   "cell_type": "code",
   "execution_count": null,
   "metadata": {},
   "outputs": [],
   "source": [
    "m = 5\n",
    "if m == 1:\n",
    "    print(\"Or\")\n",
    "elif m == 2:\n",
    "    print(\"Argent\")\n",
    "elif m == 3:\n",
    "    print(\"Bronze\")\n",
    "else:\n",
    "    print(\"Sans médaille\")"
   ]
  },
  {
   "cell_type": "markdown",
   "metadata": {},
   "source": [
    "`elif` est la contraction de `else if` (c'est-à-dire de \"sinon si\"). \n",
    "\n",
    "Un programme équivalent au précédent est : "
   ]
  },
  {
   "cell_type": "code",
   "execution_count": null,
   "metadata": {},
   "outputs": [],
   "source": [
    "m = 2\n",
    "if m == 1:\n",
    "    print(\"Or\")\n",
    "else:\n",
    "    if m == 2:\n",
    "        print(\"Argent\")\n",
    "    else:\n",
    "        if m == 3:\n",
    "            print(\"Bronze\")\n",
    "        else:\n",
    "            print(\"Sans médaille\")"
   ]
  },
  {
   "cell_type": "markdown",
   "metadata": {},
   "source": [
    "**Exemple 2 :** "
   ]
  },
  {
   "cell_type": "code",
   "execution_count": null,
   "metadata": {},
   "outputs": [],
   "source": [
    "age1 = input(\"Donnez votre âge : \")\n",
    "age2 = input(\"Donnez l'âge de votre voisin : \")\n",
    "\n",
    "if age1 > age2:\n",
    "    print(\"Vous êtes le plus vieux\")\n",
    "elif age1 < age2:\n",
    "    print(\"Vous êtes le plus jeune\")\n",
    "else:\n",
    "    print(\"Vous avez le même âge\")\n"
   ]
  },
  {
   "cell_type": "markdown",
   "metadata": {},
   "source": [
    "**Exemple 3 : les états de l'eau**"
   ]
  },
  {
   "cell_type": "code",
   "execution_count": null,
   "metadata": {},
   "outputs": [],
   "source": [
    "temperature_eau = 89     #Initialisation de la variable temperature_eau\n",
    "\n",
    "if temperature_eau == 0:\n",
    "    print (\"C'est de la glace !\")\n",
    "elif temperature_eau > 0 and temperature_eau < 100:\n",
    "    print (\"L'eau est à l'état liquide\")\n",
    "else:\n",
    "    print (\"C'est de la vapeur !\")"
   ]
  },
  {
   "cell_type": "markdown",
   "metadata": {},
   "source": [
    "**Exercice :**   \n",
    "\n",
    "<p> &#x270E; Prenons l'accès à une publication sur un réseau social. Une publication avec le statut  :</p>\n",
    "\n",
    "* \"privée\" n'est visible que par un \"ami\" ;\n",
    "* \"publique\" est visible par n'importe quel \"membre\" du réseau social.  \n",
    "\n",
    "**1.** Compléter le tableau ci-dessous.\n",
    "\n",
    "| Statut de l'utilisateur | Statut de la publication | La publication est-elle visible ? |\n",
    "| :-: | :-: | :-: |\n",
    "| ami | publique | oui |\n",
    "| ami | privée | oui |\n",
    "| membre | publique | oui |\n",
    "| membre | privée | non |"
   ]
  },
  {
   "cell_type": "markdown",
   "metadata": {},
   "source": [
    "**2.** Compléter le code suivant :\n",
    "* la variable **utilisateur** contient le statut de l'utilisateur : soit _ami_ soit _membre_ ,\n",
    "* la variable **publication** contient le statut de la publication : soit _publique_ soit _privée_ .\n",
    "    \n",
    "Le programme affiche 1 si la publication est visible par l'utilisateur et 0 sinon."
   ]
  },
  {
   "cell_type": "code",
   "execution_count": null,
   "metadata": {},
   "outputs": [],
   "source": [
    "#Version sans utiliser elif\n",
    "from random import choice\n",
    "\n",
    "# Choix au hasard de la valeur de la variable utilisateur entre \"ami\" et \"membre\".\n",
    "utilisateur = choice([\"ami\",\"membre\"]) \n",
    "\n",
    "#Choix au hasard de la valeur de la variable publication entre \"privée\" et \"publique\".\n",
    "publication = choice([\"privée\",\"publique\"]) \n",
    "\n",
    "if utilisateur == \"ami\":\n",
    "    resultat = 1\n",
    "else:\n",
    "    if publication == \"publique\":\n",
    "        resultat = 1\n",
    "    else:\n",
    "        resultat = 0\n",
    "            \n",
    "print(\"utilisateur : \", utilisateur)\n",
    "print(\"publication : \", publication)\n",
    "print(\"resultat : \", resultat)    "
   ]
  },
  {
   "cell_type": "code",
   "execution_count": null,
   "metadata": {},
   "outputs": [],
   "source": [
    "#Version en utilisant elif\n",
    "from random import choice\n",
    "\n",
    "# Choix au hasard de la valeur de la variable utilisateur entre \"ami\" et \"membre\".\n",
    "utilisateur = choice([\"ami\",\"membre\"]) \n",
    "\n",
    "#Choix au hasard de la valeur de la variable publication entre \"privée\" et \"publique\".\n",
    "publication = choice([\"privée\",\"publique\"]) \n",
    "\n",
    "if utilisateur == \"ami\":\n",
    "    resultat = 1\n",
    "elif publication == \"publique\":\n",
    "    resultat = 1\n",
    "else:\n",
    "    resultat = 0\n",
    "            \n",
    "print(\"utilisateur : \", utilisateur)\n",
    "print(\"publication : \", publication)\n",
    "print(\"resultat : \", resultat)"
   ]
  },
  {
   "cell_type": "markdown",
   "metadata": {},
   "source": [
    "L'utilisation de `elif` (au lieu de `else if`) permet de limiter les indentations (décalages vers la droite)."
   ]
  },
  {
   "cell_type": "markdown",
   "metadata": {},
   "source": [
    "## 5 - Exercices\n",
    "\n",
    "Pensez à tester vos codes sur de**s** exemple**s**. "
   ]
  },
  {
   "cell_type": "markdown",
   "metadata": {},
   "source": [
    "**Exercice 1 :**\n",
    "\n",
    "<img src='images/Exercice_type_1.jpg' width = '600' >\n",
    "\n"
   ]
  },
  {
   "cell_type": "code",
   "execution_count": 12,
   "metadata": {},
   "outputs": [
    {
     "name": "stdout",
     "output_type": "stream",
     "text": [
      "Le maximum est 5\n",
      "Le minimum est 2\n",
      "La variable b est plus grande que la variable a\n"
     ]
    }
   ],
   "source": [
    "a=input(\"Entrez une première valeure\")\n",
    "b=input(\"Entre une seconde valeure\")\n",
    "if a==b:\n",
    "    print(str(a)+\"=\"+str(b))\n",
    "    print(\"Les deux valeurs sont égales\")\n",
    "elif a>b:\n",
    "    maxi=a\n",
    "    mini=b\n",
    "    print(\"Le maximum est \"+str(maxi))\n",
    "    print(\"Le minimum est \"+str(mini))\n",
    "    print(\"La variable a est plus grande que la variable b\")\n",
    "else:\n",
    "    maxi=b\n",
    "    mini=a\n",
    "    print(\"Le maximum est \"+str(maxi))\n",
    "    print(\"Le minimum est \"+str(mini))\n",
    "    print(\"La variable b est plus grande que la variable a\")"
   ]
  },
  {
   "cell_type": "code",
   "execution_count": null,
   "metadata": {},
   "outputs": [],
   "source": []
  },
  {
   "cell_type": "markdown",
   "metadata": {},
   "source": [
    "**Correction :**  \n",
    "Voir le fichier *Exercices_type_correction.pdf*"
   ]
  },
  {
   "cell_type": "markdown",
   "metadata": {},
   "source": [
    "**Exercice 2 :**\n",
    "\n",
    "<img src='images/Exercice_type_2.jpg' width = '600' >\n"
   ]
  },
  {
   "cell_type": "code",
   "execution_count": null,
   "metadata": {},
   "outputs": [],
   "source": []
  },
  {
   "cell_type": "markdown",
   "metadata": {},
   "source": [
    "**Correction :**  \n",
    "Voir le fichier *Exercices_type_correction.pdf*"
   ]
  },
  {
   "cell_type": "markdown",
   "metadata": {},
   "source": [
    "**Exercice 3 : Abonnement payant sur Internet**\n",
    "\n",
    "Un abonnement payant &laquo; premium &raquo; sur un réseau social de vidéo coûte :\n",
    "    <ul>\n",
    "        <li> en individuel, 9€90 par mois avec 3 mois d'essai gratuit ;</li>\n",
    "        <li> pour une famille, 15€90 par mois avec 1 mois d'essai gratuit. </li>\n",
    "    </ul>\n",
    "    L'abonnement doit être d'une durée minimale de 1 an.\n",
    "    </div><br>\n",
    "    <div>\n",
    "    <ol type = \"1\">\n",
    "        <li> Donner le prix de l'abonnement dans les situations suivantes :\n",
    "            <ul style = \"style-list-type:circ;\">\n",
    "            <li> abonnement individuel d'une durée de 1 an ;</li>\n",
    "            <li> abonnement familial d'une durée de 1 an ;</li>\n",
    "            <li> abonnement individuel d'une durée de 18 mois ;</li>\n",
    "            <li> abonnement familial d'une durée de 18 mois.</li>\n",
    "            </ul>\n",
    "        </li><br>\n",
    "        <li> Donner les prix de l'abonnement individuel et de l'abonnement familial pour une durée de $n$ mois avec $n$ supérieur ou égal à 12. </li><br>\n",
    "        <li> Écrire un programme en Python dans lequel :             <ul style = \"style-list-type:circ;\">\n",
    "                <li> la variable <i>abonnement</i> vaut soit la chaîne de caractère \"individuel\", soit la chaîne de caractère \"familial\", </li> \n",
    "            <li> la variable <i> mois</i> est un entier représentant le nombre de mois d'abonnement souhaité. </li>\n",
    "            </ul><br>\n",
    "            Le programme affiche \n",
    "            <ul style = \"style-list-type:circ;\">\n",
    "            <li> \"Abonnement minimal de 1 an requis\" si la durée de l'abonnement est strictement inférieur à 1 an ;</li>\n",
    "            <li> le montant de l'abonnement dans le cas contraire. </li>\n",
    "            </ul><br>\n",
    "         <li> Tester votre programme, sans oublier le cas d'une demande d'abonnement strictement inférieure à 12 mois. </li>\n",
    "    </ol>\n",
    "    </div>\n"
   ]
  },
  {
   "cell_type": "markdown",
   "metadata": {},
   "source": [
    "**Vos réponses aux questions 1 et 2 :**  \n",
    "**1.**   \n",
    "* \n",
    "* \n",
    "* \n",
    "* \n",
    "\n",
    "**2.**  \n",
    "\n"
   ]
  },
  {
   "cell_type": "code",
   "execution_count": null,
   "metadata": {},
   "outputs": [],
   "source": [
    "#Votre script Python ici\n",
    "\n"
   ]
  },
  {
   "cell_type": "markdown",
   "metadata": {},
   "source": [
    "**Exercice 4 : transport en bus**\n",
    "\n",
    "Un bus peut contenir`p` passagers. Ecrire un programme en Python qui détermine le nombre `k` de bus nécessaires au transport de `n` passagers. Par exemple, \n",
    "* si `p = 100` et si `n = 2024`, on aura `k = 203` ;\n",
    "* si `p = 100` et si `n = 2100`, on aura `k = 210`."
   ]
  },
  {
   "cell_type": "code",
   "execution_count": null,
   "metadata": {},
   "outputs": [],
   "source": []
  },
  {
   "cell_type": "markdown",
   "metadata": {},
   "source": [
    "**Exercice 5 : excédent payé**\n",
    "\n",
    "Soit à régler un montant de `m` euros avec des billets de 20 euros. \n",
    "\n",
    "Par exemple, \n",
    "* si `m = 85`, alors il faut 5 billets de 20 euros ;\n",
    "* si `m = 120`, alors il faut 6 billets de 20 euros. \n",
    "\n",
    "Ecrire un programme en Python qui calcule  le  nombre `exc` représentant  l’excédent  payé  en  fonction de `m`.  \n",
    "\n",
    "Par exemple,  \n",
    "* si `m = 85`, alors `exc = 15`.\n",
    "* si `m = 120`, alors `exc = 0`."
   ]
  },
  {
   "cell_type": "code",
   "execution_count": null,
   "metadata": {},
   "outputs": [],
   "source": []
  },
  {
   "cell_type": "markdown",
   "metadata": {},
   "source": [
    "**Exercice 6 : Jeu à deux nombres**\n",
    "\n",
    "Dans cet exercice, on appellera *combinaison* la donnée de deux entiers $a$ et $b$. Ainsi , on peut parler de :\n",
    "* la combinaison 42, 17 ;\n",
    "* la combinaison 81, 81.\n",
    "\n",
    "À partir d’une combinaison, on a les règles suivantes :\n",
    "* Si $a = b$, la combinaison rapporte 10 points.\n",
    "* Si $a$ et $b$ sont consécutifs (comme ($ a = 5$ et $ b = 4$), ou ($ a = 4$ et $ b = 5$)), alors la combinaison rapporte 3 points.\n",
    "* Sinon la combinaison ne rapporte rien.\n",
    "\n",
    "Écrire un programme Python qui, étant donné une combinaison de deux entiers $a$ et $b$, affiche le nombre de points que rapporte la combinaison.\n"
   ]
  },
  {
   "cell_type": "code",
   "execution_count": null,
   "metadata": {},
   "outputs": [],
   "source": []
  },
  {
   "cell_type": "markdown",
   "metadata": {},
   "source": [
    "**Exercice 7 : date valide**\n",
    "\n",
    "On donne une date en utilisant deux variables `jour` et `mois`, deux entiers strictement positifs, et on demande d’écrire un booléen `estDateValide` qui dise si la date `jour/mois` définit une date valide du calendrier. \n",
    "\n",
    "Par exemple :\n",
    "\n",
    "<img src='images/img3.jpg' >\n",
    "\n",
    "\n",
    "\n",
    "Pour simplifier, on supposera que le mois de février a 28 jours.\n",
    "\n",
    "Indication : utiliser une condition testant si le mois est en 31, 30 ou 28 jours.\n",
    "\n",
    "\n"
   ]
  },
  {
   "cell_type": "markdown",
   "metadata": {},
   "source": [
    "**Exercice 8 : club de sport**\n",
    "\n",
    "Ecrire un programme en Python qui demande l’âge d’un enfant à l’utilisateur et qui l’informe ensuite de sa catégorie :\n",
    "* \"Poussin\" de 6 à 7 ans\n",
    "* \"Pupille\" de 8 à 9 ans\n",
    "* \"Minime\" de 10 à 11 ans\n",
    "* \"Cadet\" après 12 ans\n",
    "\n",
    "Vous veillerez à écrire un programme utilisant des instructions du type `elif ... :`"
   ]
  },
  {
   "cell_type": "code",
   "execution_count": null,
   "metadata": {},
   "outputs": [],
   "source": []
  },
  {
   "cell_type": "markdown",
   "metadata": {},
   "source": [
    "**Exercice 9 : les prix de l'électricité**\n",
    "\n",
    "<img src='images/img1.jpg' >\n",
    "\n",
    "Ecrire un programme en Python qui demande à l’utilisateur la puissance souscrite dans son contrat et le nombre de kWh consommés. \n",
    "\n",
    "Le programme devra afficher le prix de l’abonnement, celui du kWh et le montant de la facture.\n",
    "\n",
    "Obligation : utilisation de `elif`.\n"
   ]
  },
  {
   "cell_type": "code",
   "execution_count": null,
   "metadata": {},
   "outputs": [],
   "source": []
  },
  {
   "cell_type": "markdown",
   "metadata": {},
   "source": [
    "**Exercice 10 : Prix des places de ciné**\n",
    "* Moins de 14 ans :\t\t5,00 €\n",
    "* Moins de 18 ans : \t\t7,70 €\n",
    "* Etudiant : \t\t\t8,70 €\n",
    "* Adulte : \t\t\t12,10 €\n",
    "\n",
    "* Film 3D :\t\t\t+ 2 €\n",
    "* Lunettes :\t\t\t+ 1 €\n",
    "\n",
    "Ecrire un programme en Python qui affiche le prix de la place de ciné en tenant compte des informations ci-dessus.\n",
    "\n",
    "Obligation : utilisation de `elif`."
   ]
  },
  {
   "cell_type": "code",
   "execution_count": null,
   "metadata": {},
   "outputs": [],
   "source": []
  },
  {
   "attachments": {
    "img5.jpg": {
     "image/jpeg": "[encoded data removed]"
    }
   },
   "cell_type": "markdown",
   "metadata": {},
   "source": [
    "**Exercice 11 :**  \n",
    "Le tableau ci-dessous donne les dates de début des quatre saisons : \n",
    "\n",
    "<table>\n",
    "        <tr><th>Saison</th><th>Début</th></tr>\n",
    "    <tr><td>printemps</td><td>20 mars</td></tr>\n",
    "    <tr><td>été</td><td>21 juin</td></tr> \n",
    "    <tr><td>automne</td><td>22 septembre</td></tr>\n",
    "    <tr><td>hiver</td><td>21 décembre</td></tr>      \n",
    "</table>\n",
    "\n",
    "Une date est donnée par deux variables `j`, le jour du mois et `m`, le numéro de mois entre 1 et 12. On donne une date et on demande de déterminer la saison correspondant à cette date. On définira une variable nommée `saison`.\n",
    "\n",
    "Voici quelques exemples de comportement :\n",
    "![img5.jpg](attachment:img5.jpg)"
   ]
  },
  {
   "cell_type": "code",
   "execution_count": null,
   "metadata": {},
   "outputs": [],
   "source": []
  },
  {
   "attachments": {
    "img7.jpg": {
     "image/jpeg": "[encoded data removed]"
    }
   },
   "cell_type": "markdown",
   "metadata": {},
   "source": [
    "**Exercice 12 : catégoriser un triangle**   \n",
    "On donne un triplet de nombres entiers positifs, `A`, `B`,`C`, représentant les angles en degrés d’un éventuel triangle.  \n",
    "Par exemple, \n",
    "`A = 42`, `B = 68`, `C = 70`  \n",
    "\n",
    "On rappelle que la somme des angles d’un triangle vaut 180°.   \n",
    "\n",
    "Un triangle est dit *isocèle* s’il admet deux angles égaux et on dit qu’il est *équilatéral* si ses trois angles sont égaux. Un triangle est *rectangle* si un de ses angles vaut 90°.    \n",
    "\n",
    "Ecrire une variable `natureTriangle` qui, à partir des angles aux sommets A, B et C d’un éventuel triangle, s’évalue en la chaîne suivante :  \n",
    "* \"invalide\" s’il n'existe aucun tel triangle,\n",
    "* \"équilatéral\" si le triangle ABC est équilatéral,\n",
    "* \"isocèle\" si le triangle ABC est isocèle,\n",
    "* \"rectangle\" si le triangle ABC est rectangle,\n",
    "* \"rectangle-isocèle\" si le triangle ABC est rectangle-isocèle,\n",
    "* \"quelconque\" sinon.  \n",
    "Voici quelques exemples de comportement :\n",
    "\n",
    "![img7.jpg](attachment:img7.jpg)"
   ]
  },
  {
   "cell_type": "code",
   "execution_count": null,
   "metadata": {},
   "outputs": [],
   "source": []
  }
 ],
 "metadata": {
  "kernelspec": {
   "display_name": "Python 3",
   "language": "python",
   "name": "python3"
  },
  "language_info": {
   "codemirror_mode": {
    "name": "ipython",
    "version": 3
   },
   "file_extension": ".py",
   "mimetype": "text/x-python",
   "name": "python",
   "nbconvert_exporter": "python",
   "pygments_lexer": "ipython3",
   "version": "3.11.9"
  }
 },
 "nbformat": 4,
 "nbformat_minor": 2
}
