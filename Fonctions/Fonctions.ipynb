{
 "cells": [
  {
   "cell_type": "markdown",
   "metadata": {},
   "source": [
    "# <center> Les fonctions </center>"
   ]
  },
  {
   "cell_type": "markdown",
   "metadata": {},
   "source": [
    "La notion de fonction est essentielle en programmation.  \n",
    "Elle permet de construire des codes plus faciles à lire et à modifier. \n",
    "\n",
    "## I - Qu’est-ce qu’une fonction ?\n",
    "\n",
    "**En informatique, une fonction est une portion de programme réalisant une tâche bien précise et qui pourra être appelée une ou plusieurs fois dans la suite du programme pour effectuer cette tâche.**\n",
    "\n",
    "\n",
    "* En fait, certaines fonctions sont préprogrammées et nous les avons déjà utilisées. Il s’agit, par exemple, des fonctions `print`, `type`, `len`, ou encore `randint`. \n",
    "\n",
    "\n",
    "* L’objectif est maintenant d’apprendre à écrire ses propres fonctions. \n",
    "\n",
    "\n"
   ]
  },
  {
   "cell_type": "markdown",
   "metadata": {},
   "source": [
    "## II - Un premier problème : dessiner une face d'un dé\n",
    "\n",
    "On souhaite dessiner, à l'aide de la bibliothèque `Turtle`, les faces d'un dé. \n",
    "Prenons par exemple la face 3.\n"
   ]
  },
  {
   "cell_type": "code",
   "execution_count": 2,
   "metadata": {},
   "outputs": [],
   "source": [
    "from turtle import *\n",
    "\n",
    "try:\n",
    "    reset()\n",
    "except Terminator:\n",
    "    pass\n",
    "\n",
    "#Dessin du carré extérieur\n",
    "up()\n",
    "goto(50, -50)\n",
    "down()\n",
    "for _ in range(4):\n",
    "    left(90)\n",
    "    forward(100)\n",
    "    \n",
    "#Dessin du point central\n",
    "up()\n",
    "goto(10, -10)\n",
    "down()\n",
    "begin_fill()\n",
    "for _ in range(4):\n",
    "    left(90)\n",
    "    forward(20)\n",
    "end_fill()\n",
    "\n",
    "#Dessin du point inférieur droit\n",
    "up()\n",
    "goto(40, -40)\n",
    "down()\n",
    "begin_fill()\n",
    "for _ in range(4):\n",
    "    left(90)\n",
    "    forward(20)\n",
    "end_fill()\n",
    "\n",
    "#Dessin du point supérieur gauche\n",
    "up()\n",
    "goto(-20, 20)\n",
    "down()\n",
    "begin_fill()\n",
    "for _ in range(4):\n",
    "    left(90)\n",
    "    forward(20)\n",
    "end_fill()\n",
    "\n",
    "exitonclick()\n"
   ]
  },
  {
   "cell_type": "markdown",
   "metadata": {},
   "source": [
    "Cette solution est peu satisfaisante car on se retrouve avec plusieurs fragments de code très similaires l'un à l'autre : ici quatre, mais si nous devions dessiner la face 6, nous en aurions sept et le code serait donc bien plus long. \n",
    "\n",
    "Or, ces quatre fragments diffèrent essentiellement par :\n",
    "* la **position** du carré ; \n",
    "\n",
    "* la **longueur d'un côté** du carré ;\n",
    "\n",
    "* la **couleur** du carré.\n",
    "\n",
    "Le code proposé ci-dessous est plus élégant : il définit puis fait appel à des **fonctions** (`dessine_carre` et `dessine_carre_plein`), c'est-à-dire des fragments de code réutilisables réalisant une tâche donnée pouvant dépendre d'un certain nombre de **paramètres**. \n",
    "\n",
    "Par exemple, la fonction `dessine_carre` a trois **paramètres** : \n",
    "* `x` : abscisse du point inférieur droit du carré ;\n",
    "* `y` : ordonnée du point inférieur droit du carré ;\n",
    "* `c` : longueur du côté du carré.\n",
    "\n",
    "La fonction `dessine_carre_plein` a un paramètre supplémentaire : `couleur` qui correspond à la couleur des points du dé. \n",
    "\n",
    "En Python, une fonction se crée avec le mot-clé `def`.\n"
   ]
  },
  {
   "cell_type": "code",
   "execution_count": 43,
   "metadata": {},
   "outputs": [],
   "source": [
    "from turtle import *\n",
    "\n",
    "def dessine_carre(x, y, c):\n",
    "    \"\"\"Cette fonction dessine un carré vide, de côté c, dont le point inférieur droit a pour coordonnées (x,y)\"\"\"\n",
    "    up()\n",
    "    goto(x, y)\n",
    "    down()\n",
    "    for _ in range(4):\n",
    "        left(90)\n",
    "        forward(c)\n",
    "    \n",
    "def dessine_carre_plein(x, y, c, couleur):\n",
    "    \"\"\"Cette fonction dessine un carré plein, de côté c, dont le point inférieur droit a pour coordonnées (x,y)\"\"\"\n",
    "    up()\n",
    "    goto(x, y)\n",
    "    down()\n",
    "    color(couleur)\n",
    "    begin_fill()\n",
    "    dessine_carre(x, y, c)\n",
    "    end_fill()\n",
    "\n",
    "\n",
    "def face3():\n",
    "    \"\"\"Cette fonction dessine la face 3 d'un dé, avec des points de couleur noire\"\"\"\n",
    "    coul = \"black\"\n",
    "    dessine_carre(50, -50, 100)            # Appel de la fonction dessine_carre() pour dessiner le carré extérieur\n",
    "    dessine_carre_plein(10, -10, 20, coul)  # Appel de la fonction dessine_carre_plein() : dessine le point central\n",
    "    dessine_carre_plein(40, -40, 20, coul)  # Appel de la fonction dessine_carre_plein() : dessine le point inférieur droit\n",
    "    dessine_carre_plein(-20, 20, 20, coul)  # Appel de la fonction dessine_carre_plein() : dessine le point supérieur gauche\n"
   ]
  },
  {
   "cell_type": "code",
   "execution_count": 5,
   "metadata": {},
   "outputs": [],
   "source": [
    "try:\n",
    "    reset()\n",
    "except Terminator:\n",
    "    pass\n",
    "\n",
    "# Appel de la fonction face3()\n",
    "face3()\n",
    "\n",
    "exitonclick()"
   ]
  },
  {
   "cell_type": "markdown",
   "metadata": {},
   "source": [
    "**Exercice :**\n",
    "\n",
    "Ecrire les scripts Python des fonctions `face1`, `face2`,`face4`,`face5` et `face6`.  \n",
    "Supprimer le mot-clé `pass`. \n",
    "\n",
    "Appelez ensuite ces fonctions pour dessiner les faces du dé."
   ]
  },
  {
   "cell_type": "code",
   "execution_count": 7,
   "metadata": {},
   "outputs": [],
   "source": [
    "def face1():\n",
    "    coul=\"black\"\n",
    "    dessine_carre(50,-50,100)\n",
    "    dessine_carre_plein(10,-10,20,coul)\n",
    "\n",
    "def face2():\n",
    "    coul=\"black\"\n",
    "    dessine_carre(50,-50,100)\n",
    "    dessine_carre_plein(40,-40,20,coul)\n",
    "    dessine_carre_plein(-20,20,20,coul)\n",
    "\n",
    "def face4():\n",
    "    coul=\"black\"\n",
    "    dessine_carre(50,-50,100)\n",
    "    dessine_carre_plein(40,-40,20,coul)\n",
    "    dessine_carre_plein(-20,-40,20,coul)\n",
    "    dessine_carre_plein(-20,20,20,coul)\n",
    "    dessine_carre_plein(40,20,20,coul)\n",
    "\n",
    "def face5():\n",
    "    coul=\"black\"\n",
    "    dessine_carre(50,-50,100)\n",
    "    dessine_carre_plein(40,-40,20,coul)\n",
    "    dessine_carre_plein(-20,-40,20,coul)\n",
    "    dessine_carre_plein(-20,20,20,coul)\n",
    "    dessine_carre_plein(40,20,20,coul)\n",
    "    dessine_carre_plein(10,-10,20,coul)\n",
    "\n",
    "def face6():\n",
    "    coul=\"black\"\n",
    "    dessine_carre(50,-50,100)\n",
    "    dessine_carre_plein(40,-40,20,coul)\n",
    "    dessine_carre_plein(-20,-40,20,coul)\n",
    "    dessine_carre_plein(-20,20,20,coul)\n",
    "    dessine_carre_plein(40,20,20,coul)\n",
    "    dessine_carre_plein(-20,-10,20,coul)\n",
    "    dessine_carre_plein(40,-10,20,coul)"
   ]
  },
  {
   "cell_type": "code",
   "execution_count": 10,
   "metadata": {},
   "outputs": [],
   "source": [
    "face1()\n",
    "reset()\n",
    "\n",
    "face2()\n",
    "reset()\n",
    "\n",
    "face3()\n",
    "reset()\n",
    "\n",
    "face4()\n",
    "reset()\n",
    "\n",
    "face5()\n",
    "reset()\n",
    "\n",
    "face6()\n",
    "reset()\n",
    "\n",
    "exitonclick()"
   ]
  },
  {
   "cell_type": "markdown",
   "metadata": {},
   "source": [
    "## III - Fonctions sans paramètre, sans valeur renvoyée\n",
    "\n",
    "**Syntaxe générale :**\n",
    "<img src='images/img1.jpg' width='400'>\n",
    "\n",
    "* La première ligne de la fonction `def ma_fonction():` est appelée sa **signature** ou son **en-tête**.\n",
    "\n",
    "\n",
    "* Cet en-tête contient le nom de la fonction (ici, le nom est `ma_fonction`). \n",
    "\n",
    "\n",
    "* Les instructions (`instruction_1`, `instruction_2`) sont regroupées dans un **bloc indenté**. \n",
    "\n",
    "\n",
    "\n",
    "* Cette fonction **ne possède aucun paramètre** et **ne renvoie aucune valeur**, elle se contente de faire des affichages : le mot-clé `return` est ici optionnel.\n",
    "\n",
    "\n",
    "Voici deux exemples de telles fonctions : la fonction `accueil` et la fonction `affiche_carres`."
   ]
  },
  {
   "cell_type": "code",
   "execution_count": 12,
   "metadata": {},
   "outputs": [],
   "source": [
    "def accueil():\n",
    "    print(\"bonjour\")\n",
    "    print(\"comment allez-vous ?\")\n",
    "    return None"
   ]
  },
  {
   "cell_type": "code",
   "execution_count": 13,
   "metadata": {},
   "outputs": [],
   "source": [
    "def affiche_carres():\n",
    "    for i in range(20):\n",
    "        print(i ** 2)\n",
    "    return None"
   ]
  },
  {
   "cell_type": "markdown",
   "metadata": {},
   "source": [
    "Vous aurez remarqué, en exécutant ces cellules, que **rien** ne s'affiche : les fonctions ont été définies, elles sont maintenant prêtes à être appelées lorsque l'utilisateur le demandera explicitement.\n",
    "\n",
    "Appelons-donc explicitement ces fonctions. "
   ]
  },
  {
   "cell_type": "code",
   "execution_count": 14,
   "metadata": {},
   "outputs": [
    {
     "name": "stdout",
     "output_type": "stream",
     "text": [
      "bonjour\n",
      "comment allez-vous ?\n"
     ]
    }
   ],
   "source": [
    "accueil()"
   ]
  },
  {
   "cell_type": "code",
   "execution_count": 15,
   "metadata": {},
   "outputs": [
    {
     "name": "stdout",
     "output_type": "stream",
     "text": [
      "0\n",
      "1\n",
      "4\n",
      "9\n",
      "16\n",
      "25\n",
      "36\n",
      "49\n",
      "64\n",
      "81\n",
      "100\n",
      "121\n",
      "144\n",
      "169\n",
      "196\n",
      "225\n",
      "256\n",
      "289\n",
      "324\n",
      "361\n"
     ]
    }
   ],
   "source": [
    "affiche_carres()"
   ]
  },
  {
   "cell_type": "markdown",
   "metadata": {},
   "source": [
    "Contrairement aux fonctions que nous définirons dans le paragraphe IV, ces deux fonctions affichent des messages à l’écran mais ne renvoient rien : suite à l'appel de ces fonctions, aucune valeur ne peut être affectée à une variable. "
   ]
  },
  {
   "cell_type": "code",
   "execution_count": 16,
   "metadata": {},
   "outputs": [
    {
     "name": "stdout",
     "output_type": "stream",
     "text": [
      "0\n",
      "1\n",
      "4\n",
      "9\n",
      "16\n",
      "25\n",
      "36\n",
      "49\n",
      "64\n",
      "81\n",
      "100\n",
      "121\n",
      "144\n",
      "169\n",
      "196\n",
      "225\n",
      "256\n",
      "289\n",
      "324\n",
      "361\n",
      "None\n"
     ]
    }
   ],
   "source": [
    "carres = affiche_carres()\n",
    "print(carres)"
   ]
  },
  {
   "cell_type": "markdown",
   "metadata": {},
   "source": [
    "La variable `carres` contient la valeur `None` (qui signifie \"rien\"). "
   ]
  },
  {
   "cell_type": "markdown",
   "metadata": {},
   "source": [
    "## IV - Fonction avec paramètre(s), sans valeur renvoyée\n",
    "\n",
    "Les fonctions informatiques acquièrent tout leur potentiel avec notamment des **paramètres** en entrée.\n",
    "\n",
    "### Paramètre simple"
   ]
  },
  {
   "cell_type": "markdown",
   "metadata": {},
   "source": [
    "#### Exemple"
   ]
  },
  {
   "cell_type": "code",
   "execution_count": 17,
   "metadata": {},
   "outputs": [],
   "source": [
    "def chat_penible(n):\n",
    "    for k in range(n):\n",
    "        print(\"meoww\")\n",
    "    return None"
   ]
  },
  {
   "cell_type": "markdown",
   "metadata": {},
   "source": [
    "`n` est un **paramètre** de la fonction `chat_penible`.\n",
    "\n",
    "Voilà ce que produit l'appel `chat_penible(3)` :"
   ]
  },
  {
   "cell_type": "code",
   "execution_count": 18,
   "metadata": {},
   "outputs": [
    {
     "name": "stdout",
     "output_type": "stream",
     "text": [
      "meoww\n",
      "meoww\n",
      "meoww\n"
     ]
    }
   ],
   "source": [
    "chat_penible(3)\n"
   ]
  },
  {
   "cell_type": "markdown",
   "metadata": {},
   "source": [
    "Dans l'exemple ci-dessus, on dit qu'on a appelé la fonction `chat_penible` avec l'**argument** 3."
   ]
  },
  {
   "cell_type": "markdown",
   "metadata": {},
   "source": [
    "**Remarque :** \n",
    "\n",
    "La bien connue fonction `print` est une fonction à paramètre, qui affiche dans la console le contenu du paramètre."
   ]
  },
  {
   "cell_type": "markdown",
   "metadata": {},
   "source": [
    " ### Paramètres multiples"
   ]
  },
  {
   "cell_type": "markdown",
   "metadata": {},
   "source": [
    "Une fonction peut avoir de multiples paramètres :"
   ]
  },
  {
   "cell_type": "code",
   "execution_count": 19,
   "metadata": {},
   "outputs": [],
   "source": [
    "def repete(mot, k) :\n",
    "    for i in range(k):\n",
    "        print(mot)\n",
    "    return None"
   ]
  },
  {
   "cell_type": "markdown",
   "metadata": {},
   "source": [
    "Effectuons l'appel à la fonction `repete` avec les arguments `\"NSI\"` et  `3` : "
   ]
  },
  {
   "cell_type": "code",
   "execution_count": 20,
   "metadata": {},
   "outputs": [
    {
     "name": "stdout",
     "output_type": "stream",
     "text": [
      "NSI\n",
      "NSI\n",
      "NSI\n"
     ]
    }
   ],
   "source": [
    "repete(\"NSI\", 3)"
   ]
  },
  {
   "cell_type": "markdown",
   "metadata": {},
   "source": [
    "L'ordre des paramètres passés est alors important ! Le code ci-dessous est incorrect."
   ]
  },
  {
   "cell_type": "code",
   "execution_count": 21,
   "metadata": {},
   "outputs": [
    {
     "ename": "TypeError",
     "evalue": "'str' object cannot be interpreted as an integer",
     "output_type": "error",
     "traceback": [
      "\u001b[0;31m---------------------------------------------------------------------------\u001b[0m",
      "\u001b[0;31mTypeError\u001b[0m                                 Traceback (most recent call last)",
      "Cell \u001b[0;32mIn[21], line 1\u001b[0m\n\u001b[0;32m----> 1\u001b[0m \u001b[43mrepete\u001b[49m\u001b[43m(\u001b[49m\u001b[38;5;241;43m3\u001b[39;49m\u001b[43m,\u001b[49m\u001b[43m \u001b[49m\u001b[38;5;124;43m\"\u001b[39;49m\u001b[38;5;124;43mtest\u001b[39;49m\u001b[38;5;124;43m\"\u001b[39;49m\u001b[43m)\u001b[49m\n",
      "Cell \u001b[0;32mIn[19], line 2\u001b[0m, in \u001b[0;36mrepete\u001b[0;34m(mot, k)\u001b[0m\n\u001b[1;32m      1\u001b[0m \u001b[38;5;28;01mdef\u001b[39;00m \u001b[38;5;21mrepete\u001b[39m(mot, k) :\n\u001b[0;32m----> 2\u001b[0m     \u001b[38;5;28;01mfor\u001b[39;00m i \u001b[38;5;129;01min\u001b[39;00m \u001b[38;5;28;43mrange\u001b[39;49m\u001b[43m(\u001b[49m\u001b[43mk\u001b[49m\u001b[43m)\u001b[49m:\n\u001b[1;32m      3\u001b[0m         \u001b[38;5;28mprint\u001b[39m(mot)\n\u001b[1;32m      4\u001b[0m     \u001b[38;5;28;01mreturn\u001b[39;00m \u001b[38;5;28;01mNone\u001b[39;00m\n",
      "\u001b[0;31mTypeError\u001b[0m: 'str' object cannot be interpreted as an integer"
     ]
    }
   ],
   "source": [
    "repete(3, \"test\")"
   ]
  },
  {
   "cell_type": "markdown",
   "metadata": {},
   "source": [
    "## V - Fonction avec paramètre(s) et  avec valeur(s) renvoyée(s)\n",
    "\n",
    "### Une seule valeur renvoyée\n",
    "\n",
    "On retrouve ici la notion classique de fonction rencontrée en mathématiques : un procédé qui prend un nombre et en renvoie un autre. \n",
    "\n",
    "En informatique, l'objet renvoyé ne sera pas forcément un nombre : cela pourra être aussi une liste, un tableau, une image....\n",
    "\n",
    "Le renvoi d'une valeur se fait alors grâce au mot-clé `return`."
   ]
  },
  {
   "cell_type": "markdown",
   "metadata": {},
   "source": [
    "#### Exemple 1\n",
    "la fonction mathématique $f : x \\longmapsto 2x+3$ se codera par :"
   ]
  },
  {
   "cell_type": "code",
   "execution_count": 22,
   "metadata": {},
   "outputs": [],
   "source": [
    "def f(x):\n",
    "    return 2*x+3"
   ]
  },
  {
   "cell_type": "code",
   "execution_count": 23,
   "metadata": {},
   "outputs": [
    {
     "data": {
      "text/plain": [
       "23"
      ]
     },
     "execution_count": 23,
     "metadata": {},
     "output_type": "execute_result"
    }
   ],
   "source": [
    "f(10)"
   ]
  },
  {
   "cell_type": "markdown",
   "metadata": {},
   "source": [
    "La valeur renvoyée par la fonction pourra être stockée dans une variable et utilisée ailleurs dans le programme. \n",
    "\n",
    "Par exemple :"
   ]
  },
  {
   "cell_type": "code",
   "execution_count": 24,
   "metadata": {},
   "outputs": [
    {
     "name": "stdout",
     "output_type": "stream",
     "text": [
      "9\n",
      "11\n",
      "20\n"
     ]
    }
   ],
   "source": [
    "x = 3\n",
    "y = 4\n",
    "image_x = f(x)\n",
    "image_y = f(y)\n",
    "z = image_x + image_y\n",
    "\n",
    "print(image_x)\n",
    "print(image_y)\n",
    "print(z)"
   ]
  },
  {
   "cell_type": "markdown",
   "metadata": {},
   "source": [
    "#### Exemple 2\n",
    "Dans l'exemple ci-dessous, le paramètre est une liste (de codes ASCII), et la sortie est une chaîne de caractères."
   ]
  },
  {
   "cell_type": "code",
   "execution_count": 25,
   "metadata": {},
   "outputs": [],
   "source": [
    "def conversion_ascii_texte(listecodes):\n",
    "    s = \"\"\n",
    "    for k in listecodes :\n",
    "        s = s + chr(k)\n",
    "    return s"
   ]
  },
  {
   "cell_type": "code",
   "execution_count": 26,
   "metadata": {},
   "outputs": [
    {
     "data": {
      "text/plain": [
       "'USB'"
      ]
     },
     "execution_count": 26,
     "metadata": {},
     "output_type": "execute_result"
    }
   ],
   "source": [
    "conversion_ascii_texte([85, 83, 66])"
   ]
  },
  {
   "cell_type": "markdown",
   "metadata": {},
   "source": [
    "#### Syntaxe générale\n",
    "\n",
    "<img src='images/img2.jpg' width='400'>\n",
    "\n",
    "Ici, le résultat renvoyé par la fonction `ma_fonction` est stocké dans la variable `val` que l'on pourra utiliser dans la suite du programme. \n"
   ]
  },
  {
   "cell_type": "markdown",
   "metadata": {},
   "source": [
    "### Plusieurs valeurs renvoyées\n",
    "\n",
    "Tout comme une fonction peut avoir plusieurs paramètres en entrée, elle peut aussi renvoyer plusieurs résultats. \n",
    "\n",
    "*Exemple :*"
   ]
  },
  {
   "cell_type": "code",
   "execution_count": 28,
   "metadata": {},
   "outputs": [],
   "source": [
    "#Définition de la fonction somme_produit()\n",
    "def somme_produit(a, b):\n",
    "    \"\"\"Cette fonction calcule et renvoie la somme et le produit des deux nombres a et b\"\"\"\n",
    "    somme = a + b\n",
    "    produit = a * b\n",
    "    return somme, produit"
   ]
  },
  {
   "cell_type": "markdown",
   "metadata": {},
   "source": [
    "Appel de la fonction `somme_produit` avec les arguments 6 (pour le paramètre `a`) et 7 (pour le paramètre `b`). "
   ]
  },
  {
   "cell_type": "code",
   "execution_count": 29,
   "metadata": {},
   "outputs": [
    {
     "name": "stdout",
     "output_type": "stream",
     "text": [
      "13\n",
      "42\n"
     ]
    }
   ],
   "source": [
    "som, prod = somme_produit(6, 7)\n",
    "print(som)\n",
    "print(prod)"
   ]
  },
  {
   "cell_type": "markdown",
   "metadata": {},
   "source": [
    "Cette fonction renvoie deux valeurs : \n",
    "* la première est affectée à `som` (qui vaut donc ici 13) ;\n",
    "\n",
    "\n",
    "* la seconde à `prod` (qui vaut donc ici 42). \n",
    "\n",
    "### Syntaxe générale \n",
    "\n",
    "<img src='images/img3.jpg' width='500'>\n",
    "\n"
   ]
  },
  {
   "cell_type": "markdown",
   "metadata": {},
   "source": [
    " ## VI - Remarques générales\n"
   ]
  },
  {
   "cell_type": "markdown",
   "metadata": {},
   "source": [
    "**Remarque 1 :** \n",
    "\n",
    "Le mot-clé `return` provoque une **interruption** du code : tout ce qui est situé après le `return` ne sera pas exécuté.  \n",
    "Observez la différence entre les fonctions $g$ et $h$."
   ]
  },
  {
   "cell_type": "code",
   "execution_count": 30,
   "metadata": {},
   "outputs": [],
   "source": [
    "def g(x):\n",
    "    print(\"ce texte sera bien affiché\")\n",
    "    return 2*x+3"
   ]
  },
  {
   "cell_type": "code",
   "execution_count": 31,
   "metadata": {},
   "outputs": [
    {
     "name": "stdout",
     "output_type": "stream",
     "text": [
      "ce texte sera bien affiché\n"
     ]
    },
    {
     "data": {
      "text/plain": [
       "11"
      ]
     },
     "execution_count": 31,
     "metadata": {},
     "output_type": "execute_result"
    }
   ],
   "source": [
    "g(4)"
   ]
  },
  {
   "cell_type": "code",
   "execution_count": 32,
   "metadata": {},
   "outputs": [],
   "source": [
    "def h(x):\n",
    "    return 2*x+3\n",
    "    print(\"ceci ne sera jamais affiché\")"
   ]
  },
  {
   "cell_type": "code",
   "execution_count": 33,
   "metadata": {},
   "outputs": [
    {
     "data": {
      "text/plain": [
       "13"
      ]
     },
     "execution_count": 33,
     "metadata": {},
     "output_type": "execute_result"
    }
   ],
   "source": [
    "h(5)"
   ]
  },
  {
   "cell_type": "markdown",
   "metadata": {},
   "source": [
    "**Remarque 2 :** \n",
    "\n",
    "Une fonction qui ne renvoie pas de valeur est appelée **procédure** (c'est le cas des fonctions qui se contentent d'afficher des messages à l'écran, comme celles définies dans les paragraphes II - III et IV). \n",
    "\n",
    "Le mot **fonction** étant réservé aux fonctions qui ont effectivement un `return`, différent de `return None`.\n"
   ]
  },
  {
   "cell_type": "markdown",
   "metadata": {},
   "source": [
    "**Remarque 3 :** \n",
    "\n",
    "Dans un code amené à être partagé ou à beaucoup évoluer, on prendra l'habitude de **documenter** la fonction grâce à une **docstring**, située en début de fonction et encadrée par des triples quotes. \n",
    "\n",
    "Une **docstring** permet notamment à un utilisateur qui n'aurait pas écrit le code de la fonction de comprendre ce qu'elle fait. \n",
    "\n",
    "*Exemple 1 :*"
   ]
  },
  {
   "cell_type": "code",
   "execution_count": 38,
   "metadata": {},
   "outputs": [],
   "source": [
    "def conversion_ascii_texte(listecodes):\n",
    "    \"\"\" Paramètres\n",
    "    ---------\n",
    "    listecodes : (list)\n",
    "    une liste de codes ASCII\n",
    "    \n",
    "    Résultat\n",
    "    --------\n",
    "    s : (str)\n",
    "    Cette fonction convertit une liste de codes Ascii (ex [69, 78, 72]) en une chaîne de caractères (ex 'ENH')\n",
    "    \"\"\"\n",
    "    s = \"\"\n",
    "    for k in listecodes :\n",
    "        s = s + chr(k)\n",
    "    return s"
   ]
  },
  {
   "cell_type": "markdown",
   "metadata": {},
   "source": [
    "Cette docstring est une sorte de manuel de la fonction, qu'on appelle avec le mot-clé `help`."
   ]
  },
  {
   "cell_type": "code",
   "execution_count": 34,
   "metadata": {},
   "outputs": [
    {
     "name": "stdout",
     "output_type": "stream",
     "text": [
      "Help on function conversion_ascii_texte in module __main__:\n",
      "\n",
      "conversion_ascii_texte(listecodes)\n",
      "\n"
     ]
    }
   ],
   "source": [
    "help(conversion_ascii_texte)"
   ]
  },
  {
   "cell_type": "markdown",
   "metadata": {},
   "source": [
    "*Exemple 2 :*"
   ]
  },
  {
   "cell_type": "code",
   "execution_count": 35,
   "metadata": {},
   "outputs": [],
   "source": [
    "from turtle import *\n",
    "\n",
    "try:\n",
    "    reset()\n",
    "except Terminator:\n",
    "    pass\n",
    "\n",
    "def dessine_carre(x, y, c):\n",
    "    \"\"\" Paramètres\n",
    "    ---------\n",
    "    x, y : (int)\n",
    "    x et y sont respectivement l'abscisse et l'ordonnée du coin supérieur gauche du carré\n",
    "\n",
    "    c : (int) \n",
    "    c est la longueur d'un côté du carré\n",
    "    \n",
    "    Résultat\n",
    "    --------\n",
    "    None\n",
    "    Cette fonction dessine un carré vide, mais ne renvoie rien : il s'agit donc d'une procédure.\n",
    "    \"\"\"\n",
    "    up()\n",
    "    goto(x, y)\n",
    "    down()\n",
    "    for _ in range(4):\n",
    "        left(90)\n",
    "        forward(c)\n",
    "    \n",
    "def dessine_carre_plein(x, y, c, couleur):\n",
    "    \"\"\" Paramètres\n",
    "    ---------\n",
    "    x, y : (int)\n",
    "    x et y sont respectivement l'abscisse et l'ordonnée du coin supérieur gauche du carré\n",
    "\n",
    "    c : (int) \n",
    "    c est la longueur d'un côté du carré\n",
    "\n",
    "    couleur : (str)\n",
    "    couleur du carré, de type string.\n",
    "    \n",
    "    Résultat\n",
    "    --------\n",
    "    None\n",
    "    Cette fonction dessine un carré plein, mais ne renvoie rien : il s'agit donc d'une procédure.\n",
    "    \"\"\"\n",
    "    up()\n",
    "    goto(x, y)\n",
    "    down()\n",
    "    color(couleur)\n",
    "    begin_fill()\n",
    "    dessine_carre(x, y, c)\n",
    "    end_fill()\n"
   ]
  },
  {
   "cell_type": "code",
   "execution_count": 36,
   "metadata": {},
   "outputs": [
    {
     "name": "stdout",
     "output_type": "stream",
     "text": [
      "Help on function goto in module turtle:\n",
      "\n",
      "goto(x, y=None)\n",
      "    Move turtle to an absolute position.\n",
      "    \n",
      "    Aliases: setpos | setposition | goto:\n",
      "    \n",
      "    Arguments:\n",
      "    x -- a number      or     a pair/vector of numbers\n",
      "    y -- a number             None\n",
      "    \n",
      "    call: goto(x, y)         # two coordinates\n",
      "    --or: goto((x, y))       # a pair (tuple) of coordinates\n",
      "    --or: goto(vec)          # e.g. as returned by pos()\n",
      "    \n",
      "    Move turtle to an absolute position. If the pen is down,\n",
      "    a line will be drawn. The turtle's orientation does not change.\n",
      "    \n",
      "    Example:\n",
      "    >>> tp = pos()\n",
      "    >>> tp\n",
      "    (0.00, 0.00)\n",
      "    >>> setpos(60,30)\n",
      "    >>> pos()\n",
      "    (60.00,30.00)\n",
      "    >>> setpos((20,80))\n",
      "    >>> pos()\n",
      "    (20.00,80.00)\n",
      "    >>> setpos(tp)\n",
      "    >>> pos()\n",
      "    (0.00,0.00)\n",
      "\n"
     ]
    }
   ],
   "source": [
    "help(goto)"
   ]
  },
  {
   "cell_type": "code",
   "execution_count": 45,
   "metadata": {},
   "outputs": [
    {
     "name": "stdout",
     "output_type": "stream",
     "text": [
      "Help on function dessine_carre_plein in module __main__:\n",
      "\n",
      "dessine_carre_plein(x, y, c, couleur)\n",
      "    Cette fonction dessine un carré plein, de côté c, dont le point inférieur droit a pour coordonnées (x,y)\n",
      "\n"
     ]
    }
   ],
   "source": [
    "help(dessine_carre_plein)"
   ]
  },
  {
   "cell_type": "markdown",
   "metadata": {},
   "source": [
    "Les fonctions pré-programmées sont documentée et possède une docstring. \n",
    "\n",
    "Prenons, par exemple, la fonction `randint` de la bibliothèque `random` :"
   ]
  },
  {
   "cell_type": "markdown",
   "metadata": {},
   "source": [
    "## VII - Bilan : pourquoi utiliser des fonctions ?\n",
    "\n",
    "Les avantages de la programmation utilisant des fonctions sont les suivants :\n",
    "\n",
    "* on n'écrit le code d’une fonction qu'une seule fois, mais on peut **appeler la fonction plusieurs fois**, avec des **arguments (valeurs des paramètres) différents**.\n",
    "\n",
    "\n",
    "* en divisant notre programme en petits blocs ayant chacun leur utilité propre, le programme est plus facile à écrire, à lire, à corriger et à modifier ;\n",
    "\n",
    "\n",
    "* facilite le travail à plusieurs sur un même projet : chaque programmeur développe ses propres fonctions, sans risquer de perturber le travail de ses collaborateurs. \n",
    "\n",
    "\n",
    "* on peut utiliser une fonction écrite par quelqu’un d’autre, sans connaître tous les détails internes de sa programmation (c’est le cas des fonctions pré-programmées et que nous avons déjà utilisées, comme la fonction `len` ou encore la fonction `randint` de la bibliothèque `random`). \n",
    "    "
   ]
  },
  {
   "cell_type": "markdown",
   "metadata": {},
   "source": [
    "## Exercices"
   ]
  },
  {
   "cell_type": "markdown",
   "metadata": {},
   "source": [
    "**Exercice corrigé :**\n",
    "\n",
    "Ecrire une fonction `avoirMoyenne` qui prend en paramètres deux notes, `note1` et `note2`, et qui renvoie `True` si la moyenne de ces deux notes est supérieure à 10, `False` sinon.\n",
    "\n",
    "Pour cela, la fonction doit calculer la moyenne `moyenne = (a+b)/2` et examiner si, oui ou non, le booléen `m ≥ 10` est vrai ou pas.  \n",
    "\n",
    "Voici un code possible en Python d’une telle fonction :\n"
   ]
  },
  {
   "cell_type": "code",
   "execution_count": 55,
   "metadata": {},
   "outputs": [
    {
     "name": "stdout",
     "output_type": "stream",
     "text": [
      "True False\n"
     ]
    }
   ],
   "source": [
    "def avoirMoyenne(note1, note2):\n",
    "    \"\"\" Paramètres\n",
    "    ---------\n",
    "    note1, note2 : (float)\n",
    "    note1 et note2 sont deux nombres flottants représentant des notes. \n",
    "    \n",
    "    Résultat\n",
    "    --------\n",
    "    ok : (bool)\n",
    "    Cette fonction renvoie True si la moyenne de note1 et note2 est supérieure à 10, False sinon.\n",
    "    \"\"\"\n",
    "    moyenne = (note1+note2)/2\n",
    "    ok = moyenne >= 10\n",
    "    return ok\n",
    "\n",
    "r1 = avoirMoyenne(8, 15)\n",
    "r2 = avoirMoyenne(8, 11)\n",
    "print(r1, r2)"
   ]
  },
  {
   "cell_type": "markdown",
   "metadata": {},
   "source": [
    "**Travail à faire :**\n",
    "\n",
    "Rendez-vous sur [Pythontutor](http://pythontutor.com/visualize.html#code=def%20avoirMoyenne%28note1,%20note2%29%3A%0A%20%20%20%20moyenne%20%3D%20%28note1%20%2B%20note2%29/2%0A%20%20%20%20ok%20%3D%20moyenne%20%3E%3D%2010%0A%20%20%20%20return%20ok%0A%0Ar1%20%3D%20avoirMoyenne%288,%2015%29%0Ar2%20%3D%20avoirMoyenne%288,%2011%29%0Aprint%28r1,r2%29&cumulative=false&curInstr=0&heapPrimitives=nevernest&mode=display&origin=opt-frontend.js&py=3&rawInputLstJSON=%5B%5D&textReferences=false) et visualiser l'exécution de ce programme pas à pas. "
   ]
  },
  {
   "cell_type": "markdown",
   "metadata": {},
   "source": [
    "### Exercice 1\n",
    "Définir une fonction `maxi` qui prend pour paramètres deux nombres flottants `n1` et `n2`, et qui renvoie le plus grand élément entre `n1` et `n2`."
   ]
  },
  {
   "cell_type": "code",
   "execution_count": 5,
   "metadata": {},
   "outputs": [],
   "source": [
    "def maxi(n1, n2):\n",
    "    \"\"\" Paramètres\n",
    "    ---------\n",
    "    n1, n2 : (float)\n",
    "    n1 et n2 sont deux nombres flottants\n",
    "    \n",
    "    Résultat\n",
    "    --------\n",
    "    (float)\n",
    "    Cette fonction renvoie la plus grande valeur entre n1 et n2. \n",
    "    \"\"\"\n",
    "    if n1>n2:\n",
    "        return(n1)\n",
    "    else:\n",
    "        return(n2)\n"
   ]
  },
  {
   "cell_type": "code",
   "execution_count": 6,
   "metadata": {},
   "outputs": [
    {
     "name": "stdout",
     "output_type": "stream",
     "text": [
      "Si aucun message d'erreur ne s'est affiché, alors tous les tests précédents sont corrects\n"
     ]
    }
   ],
   "source": [
    "#Appels de la fonction max(n1,n2)#\n",
    "\n",
    "def tests():\n",
    "    \"\"\"Cette fonction propose un jeu de tests permettant de vérifier que la fonction maxi retourne bien le résultat attendu\"\"\"\n",
    "    assert maxi(12,15) == 15\n",
    "    assert maxi(5,-4) == 5 \n",
    "    assert maxi(-15,2) == 2\n",
    "    assert maxi(-30,-10) == -10\n",
    "\n",
    "tests()       #Appel de la fonction tests()\n",
    "print(\"Si aucun message d'erreur ne s'est affiché, alors tous les tests précédents sont corrects\")"
   ]
  },
  {
   "cell_type": "markdown",
   "metadata": {},
   "source": [
    "### Exercice 2\n",
    "\n",
    "**A lire avant de poursuivre :** \n",
    "\n",
    "*La mémoire d'un ordinateur conserve toutes les données sous forme numérique. Il n'existe pas de méthode pour stocker directement les caractères. Chaque caractère possède donc son équivalent en code numérique : c'est le code ASCII (American Standard Code for Information Interchange).*\n",
    "\n",
    "\n",
    "*Vous pouvez visualiser la table des codes ASCII et leur correspondance en cliquant [ici](https://www.purebasic.com/french/documentation/reference/ascii.html).*\n",
    "\n",
    "En Python, l'obtention du code ASCII d'un caractère s'obtient par la fonction `ord`.\n",
    "\n",
    "Par exemple, \n"
   ]
  },
  {
   "cell_type": "code",
   "execution_count": 2,
   "metadata": {},
   "outputs": [
    {
     "data": {
      "text/plain": [
       "65"
      ]
     },
     "execution_count": 2,
     "metadata": {},
     "output_type": "execute_result"
    }
   ],
   "source": [
    "ord(\"A\")"
   ]
  },
  {
   "cell_type": "markdown",
   "metadata": {},
   "source": [
    "Réciproquement, la fonction `chr` permet d'obtenir un caractère à partir de son code ASCII. \n",
    "\n",
    "Par exemple, "
   ]
  },
  {
   "cell_type": "code",
   "execution_count": 3,
   "metadata": {},
   "outputs": [
    {
     "data": {
      "text/plain": [
       "'K'"
      ]
     },
     "execution_count": 3,
     "metadata": {},
     "output_type": "execute_result"
    }
   ],
   "source": [
    "chr(75)"
   ]
  },
  {
   "cell_type": "markdown",
   "metadata": {},
   "source": [
    "**Travail à faire :**\n",
    "\n",
    "Définir une **fonction** `decale` qui prend en paramètre `lettre`, un caractère correspondant à une lettre de l'alphabet écrite en majuscule, et qui renvoie une nouvelle lettre correspondant au décalage de `lettre` de 3 rangs dans l'alphabet (après Z, on recommencera à A)."
   ]
  },
  {
   "cell_type": "code",
   "execution_count": 23,
   "metadata": {},
   "outputs": [],
   "source": [
    "def decale(lettre):\n",
    "    \"\"\" Paramètre\n",
    "    ---------\n",
    "    lettre : (str)\n",
    "    une lettre de l'alphabet, écrite en majuscule. \n",
    "    \n",
    "    Résultat\n",
    "    --------\n",
    "    (str)\n",
    "    Cette fonction renvoie la lettre après décalage de lettre de 3 rangs.\n",
    "    Après Z l'on revient à A\n",
    "    \"\"\"\n",
    "    code_ascii_ancienne_lettre = ord(lettre)\n",
    "    code_ascii_nouvelle_lettre = code_ascii_ancienne_lettre+3\n",
    "    if code_ascii_nouvelle_lettre>90:\n",
    "        code_ascii_nouvelle_lettre-=26\n",
    "    else:\n",
    "        pass\n",
    "    \n",
    "    return chr(code_ascii_nouvelle_lettre)\n"
   ]
  },
  {
   "cell_type": "markdown",
   "metadata": {},
   "source": [
    "Si votre script ne contient pas d'erreur, l'exécution des deux cellules de code suivantes ne générera pas d'erreur. "
   ]
  },
  {
   "cell_type": "code",
   "execution_count": 21,
   "metadata": {},
   "outputs": [],
   "source": [
    "assert decale(\"M\") == \"P\""
   ]
  },
  {
   "cell_type": "code",
   "execution_count": null,
   "metadata": {},
   "outputs": [
    {
     "data": {
      "text/plain": [
       "'C'"
      ]
     },
     "execution_count": 20,
     "metadata": {},
     "output_type": "execute_result"
    }
   ],
   "source": [
    "assert decale(\"Z\") == \"C\""
   ]
  },
  {
   "cell_type": "markdown",
   "metadata": {},
   "source": [
    "### Exercice 3\n",
    "Ajouter un paramètre `n` à la fonction précédente pour pouvoir décaler la lettre de `n` rangs, au lieu de 3.\n"
   ]
  },
  {
   "cell_type": "code",
   "execution_count": null,
   "metadata": {},
   "outputs": [],
   "source": [
    "def decale(lettre, n):\n",
    "    \"\"\" Paramètre\n",
    "    ---------\n",
    "    lettre : (str)\n",
    "    une lettre de l'alphabet, écrite en majuscule.\n",
    "    n : (int)\n",
    "    Un nombre entier\n",
    "    \n",
    "    Résultat\n",
    "    --------\n",
    "    (str)\n",
    "    Cette fonction renvoie la lettre après décalage de lettre de n rangs.\n",
    "    Après Z l'on revient à A\n",
    "    \"\"\"\n",
    "    code_ascii_ancienne_lettre = ord(lettre)\n",
    "    code_ascii_nouvelle_lettre = code_ascii_ancienne_lettre+n\n",
    "    if code_ascii_nouvelle_lettre>90:\n",
    "        while code_ascii_nouvelle_lettre>90:\n",
    "            code_ascii_nouvelle_lettre-=26\n",
    "    elif code_ascii_nouvelle_lettre<65:\n",
    "        while code_ascii_nouvelle_lettre<65:\n",
    "            code_ascii_ancienne_lettre+=26\n",
    "    else:\n",
    "        pass\n",
    "    \n",
    "    return chr(code_ascii_nouvelle_lettre)\n"
   ]
  },
  {
   "cell_type": "markdown",
   "metadata": {},
   "source": [
    "### Exercice 4\n",
    "Utiliser la fonction précédente pour créer la fonction `decale_phrase` : cette fonction prend en paramètres `phrase`, une chaîne de caractères, et `n`, un nombre entier, elle renvoie une nouvelle phrase dans laquelle toutes les lettres de `phrase` ont été décalées de `n` rangs."
   ]
  },
  {
   "cell_type": "code",
   "execution_count": null,
   "metadata": {},
   "outputs": [
    {
     "data": {
      "text/plain": [
       "'BBBCCCDDD'"
      ]
     },
     "execution_count": 28,
     "metadata": {},
     "output_type": "execute_result"
    }
   ],
   "source": [
    "def decale_phrase(chaine,n):\n",
    "    \"\"\" \n",
    "    Paramètre\n",
    "    chaine : (str)\n",
    "    Une chaine de charactère en majuscules\n",
    "    n : (int)\n",
    "    Un nombre entier\n",
    "    \n",
    "    Résultat\n",
    "    (string)\n",
    "    La chaine de charactère renvoyé mais chaque lettre est décalée de n rangs et si l'on dépasse le Z on revient au A\n",
    "    \"\"\"\n",
    "    assert type(chaine) is str, \"La variable chaine ne correspond pas à une chaîne de charactère.\"\n",
    "    assert type(n) is int, \"La variable n ne correspond pas à un nombre entier\"\n",
    "    nouvelle_chaine=\"\"\n",
    "    for i in range(len(chaine)):\n",
    "        x=ord(chaine[i])\n",
    "        if x>=65 and x<=90:\n",
    "            x+=n\n",
    "            if x<65:\n",
    "                while x<65:\n",
    "                    x+=26\n",
    "            elif x>90:\n",
    "                while x>90:\n",
    "                    x-=26\n",
    "            else:\n",
    "                pass\n",
    "        else:\n",
    "            pass\n",
    "        nouvelle_chaine+=chr(x)\n",
    "    return nouvelle_chaine\n"
   ]
  },
  {
   "cell_type": "markdown",
   "metadata": {},
   "source": [
    "### Exercice 5\n",
    "Décodez la phrase `PRZRFFNTRARPBAGVRAGEVRAQVAGRERFFNAG`"
   ]
  },
  {
   "cell_type": "code",
   "execution_count": 30,
   "metadata": {},
   "outputs": [
    {
     "name": "stdout",
     "output_type": "stream",
     "text": [
      "0\n",
      "PRZRFFNTRARPBAGVRAGEVRAQVAGRERFFNAG\n",
      "1\n",
      "QSASGGOUSBSQCBHWSBHFWSBRWBHSFSGGOBH\n",
      "2\n",
      "RTBTHHPVTCTRDCIXTCIGXTCSXCITGTHHPCI\n",
      "3\n",
      "SUCUIIQWUDUSEDJYUDJHYUDTYDJUHUIIQDJ\n",
      "4\n",
      "TVDVJJRXVEVTFEKZVEKIZVEUZEKVIVJJREK\n",
      "5\n",
      "UWEWKKSYWFWUGFLAWFLJAWFVAFLWJWKKSFL\n",
      "6\n",
      "VXFXLLTZXGXVHGMBXGMKBXGWBGMXKXLLTGM\n",
      "7\n",
      "WYGYMMUAYHYWIHNCYHNLCYHXCHNYLYMMUHN\n",
      "8\n",
      "XZHZNNVBZIZXJIODZIOMDZIYDIOZMZNNVIO\n",
      "9\n",
      "YAIAOOWCAJAYKJPEAJPNEAJZEJPANAOOWJP\n",
      "10\n",
      "ZBJBPPXDBKBZLKQFBKQOFBKAFKQBOBPPXKQ\n",
      "11\n",
      "ACKCQQYECLCAMLRGCLRPGCLBGLRCPCQQYLR\n",
      "12\n",
      "BDLDRRZFDMDBNMSHDMSQHDMCHMSDQDRRZMS\n",
      "13\n",
      "CEMESSAGENECONTIENTRIENDINTERESSANT\n",
      "14\n",
      "DFNFTTBHFOFDPOUJFOUSJFOEJOUFSFTTBOU\n",
      "15\n",
      "EGOGUUCIGPGEQPVKGPVTKGPFKPVGTGUUCPV\n",
      "16\n",
      "FHPHVVDJHQHFRQWLHQWULHQGLQWHUHVVDQW\n",
      "17\n",
      "GIQIWWEKIRIGSRXMIRXVMIRHMRXIVIWWERX\n",
      "18\n",
      "HJRJXXFLJSJHTSYNJSYWNJSINSYJWJXXFSY\n",
      "19\n",
      "IKSKYYGMKTKIUTZOKTZXOKTJOTZKXKYYGTZ\n",
      "20\n",
      "JLTLZZHNLULJVUAPLUAYPLUKPUALYLZZHUA\n",
      "21\n",
      "KMUMAAIOMVMKWVBQMVBZQMVLQVBMZMAAIVB\n",
      "22\n",
      "LNVNBBJPNWNLXWCRNWCARNWMRWCNANBBJWC\n",
      "23\n",
      "MOWOCCKQOXOMYXDSOXDBSOXNSXDOBOCCKXD\n",
      "24\n",
      "NPXPDDLRPYPNZYETPYECTPYOTYEPCPDDLYE\n",
      "25\n",
      "OQYQEEMSQZQOAZFUQZFDUQZPUZFQDQEEMZF\n"
     ]
    }
   ],
   "source": [
    "for i in range(26):\n",
    "    print(i)\n",
    "    print(decale_phrase('PRZRFFNTRARPBAGVRAGEVRAQVAGRERFFNAG',i))"
   ]
  },
  {
   "cell_type": "code",
   "execution_count": null,
   "metadata": {},
   "outputs": [],
   "source": [
    "L1 = [\"bijou\", \"caillou\", \"chou\", \"genou\", \"hibou\", \"joujou\", \"pou\"]              # pluriel en -oux\n",
    "L2 = [\"bal\", \"carnaval\", \"festival\", \"chacal\", \"régal\", \"cal\"]                    # pluriel en -als    \n",
    "L3 = [\"bail\", \"corail\", \"émail\", \"soupirail\", \"travail\", \"ventail\", \"vitrail\"]    # pluriel en -aux"
   ]
  },
  {
   "cell_type": "code",
   "execution_count": null,
   "metadata": {},
   "outputs": [],
   "source": [
    "# Définir la fonction met_au_pluriel dans cette cellule de code.\n",
    "\n"
   ]
  },
  {
   "cell_type": "code",
   "execution_count": null,
   "metadata": {},
   "outputs": [],
   "source": [
    "def tests():\n",
    "    assert met_au_pluriel(\"chat\") == \"chats\"\n",
    "    assert met_au_pluriel(\"souris\") == \"souris\"\n",
    "    assert met_au_pluriel(\"nez\") == \"nez\"\n",
    "    assert met_au_pluriel(\"clou\") == \"clous\"\n",
    "    assert met_au_pluriel(\"genou\") == \"genoux\"\n",
    "    assert met_au_pluriel(\"journal\") == \"journaux\"\n",
    "    assert met_au_pluriel(\"carnaval\") == \"carnavals\"\n",
    "    assert met_au_pluriel(\"rail\") == \"rails\"\n",
    "    assert met_au_pluriel(\"vitrail\") == \"vitraux\"\n",
    "\n",
    "tests()\n",
    "print(\"Si aucun message d'erreur ne s'est affiché, alors tous les tests précédents sont corrects\")\n",
    "\n"
   ]
  },
  {
   "cell_type": "markdown",
   "metadata": {},
   "source": [
    "### Exercice 7 : la formule de Keith et Craver\n",
    "\n",
    "La formule de Keith et Craver permet de déterminer le jour de la semaine (c'est-à-dire lundi, mardi, etc) correspondant à une date donnée (par exemple, le 14 juillet 1789 était un **mardi**). Ci-dessous, en voici une implémentation sous forme de fonction Python. \n",
    "\n",
    "La fonction `kc` renvoie, sous forme d’entier (1 : lundi, 2 : mardi, ..., 7 : dimanche), le jour de la semaine correspondant à une date passée en paramètre avec `j` le numéro du jour, `m` le numéro du mois et `a` l'année.  "
   ]
  },
  {
   "cell_type": "code",
   "execution_count": 1,
   "metadata": {},
   "outputs": [
    {
     "data": {
      "text/plain": [
       "'mardi'"
      ]
     },
     "execution_count": 1,
     "metadata": {},
     "output_type": "execute_result"
    }
   ],
   "source": [
    "def kc(j, m, a):\n",
    "    \"\"\" Paramètres\n",
    "    ---------\n",
    "    j, m, a : (int)\n",
    "    j, m, a représentent une date avec : j le numéro du jour, m le numéro du mois et a l'année.  \n",
    "    \n",
    "    Résultat\n",
    "    --------\n",
    "    (int)\n",
    "    Cette fonction renvoie un entier, compris au sens large entre 1 et 7, représentant le jour de la semaine de la date j - m - a.  \n",
    "    \"\"\"\n",
    "    L = [\"lundi\", \"mardi\", \"mercredi\", \"jeudi\", \"vendredi\", \"samedi\", \"dimanche\"]\n",
    "    z = a - (m<3)\n",
    "    result = (j + 23*m//9 + 3 -2*(m>=3) + a + z//4 - z//100 + z//400)%7 +1\n",
    "    return L[result - 1]\n",
    "\n",
    "kc(14, 7, 1789)"
   ]
  },
  {
   "cell_type": "markdown",
   "metadata": {},
   "source": [
    "**Cette fonction doit être utilisée telle quelle, sans chercher à comprendre comment elle fonctionne.**\n",
    "\n",
    "**Questions :**\n",
    "\n",
    "1) Vérifier la validité des dates suivantes en effectuant un appel à la fonction `kc`.\n",
    "* dimanche 13 janvier 2019 ;\n",
    "* lundi 11 mai 1981 ;\n",
    "* jeudi 16 juillet 1998 ; \n",
    "* mardi 19 janvier 2038. \n",
    "\n",
    "\n",
    "2) En utilisant un appel à la fonction `kc`, écrire une fonction `est_vendredi13` : cette fonction prend en paramètre `m` et `a`, deux nombres entiers représentant respectivement le numéro d'un mois et une année, et renvoie `True` si le 13 du mois `m` et de l’année `a` est un vendredi, `False` sinon.   Combien y-aura-t-il de vendredis 13 en 2025 ?\n",
    " "
   ]
  },
  {
   "cell_type": "code",
   "execution_count": null,
   "metadata": {},
   "outputs": [],
   "source": []
  },
  {
   "cell_type": "markdown",
   "metadata": {},
   "source": [
    "### Exercice 8 : date du jour de Pâques (défi)\n",
    "\n",
    "L'algorithme de  [Butcher-Meeus](https://fr.wikipedia.org/wiki/Calcul_de_la_date_de_P%C3%A2ques#M%C3%A9thode_moderne_de_calcul_de_la_date_de_P%C3%A2ques) permet de calculer le jour et le mois du dimanche de Pâques d’une année donnée, à partir de l’an 1583.\n",
    "\n",
    "Ecrire une fonction `jourPaques` : cette fonction prend en paramètre `année` et renvoie deux entiers, l'un représentant le `jour` et l'autre le `mois` du dimanche de Pâques de l’année `annee`.\n",
    "\n",
    "Par exemple, `jourPaques(2042)` doit renvoyer les valeurs 6 (pour `jour`) et 4 (pour `avril`).\n",
    "\n",
    "On appliquera pas à pas l’algorithme tel qu’expliqué sur la page Wikipedia.\n"
   ]
  },
  {
   "cell_type": "code",
   "execution_count": null,
   "metadata": {},
   "outputs": [],
   "source": []
  },
  {
   "cell_type": "markdown",
   "metadata": {},
   "source": [
    "### Exercice 9 : le jeu de craps\n",
    "\n",
    "Le jeu de craps se joue avec deux dés à 6 faces. \n",
    "\n",
    "Le joueur jette une première fois les deux dés : on appelle `t` la somme des résultats des deux faces sorties.\n",
    "\n",
    "* Si `t` vaut 7 ou 11, alors le joueur a gagné.\n",
    "\n",
    "\n",
    "* Si `t` vaut 2, 3 ou 12, alors le joueur a perdu.\n",
    "\n",
    "\n",
    "* Sinon, le joueur relance les deux dés, dont le total des faces est notés `s`, jusqu’à ce que `s = t` ou que `s = 7` : \n",
    "    * lorsque `s = t`, alors le joueur est gagnant,\n",
    "\n",
    "    * lorsque `s = 7`, alors le joueur est perdant.\n",
    "\n",
    "\n",
    "1) Ecrire une fonction `lancer_un_de()` qui simule un lancer de dé. Cette fonction n'a aucun paramètre en entrée mais retourne le numéro de la face du dé. \n",
    "\n",
    "\n",
    "2) Ecrire une fonction `craps()` qui simule une partie de craps et retourne `True` si le joueur a gagné et `False` sinon.\n",
    "\n",
    "3) En générant un million de parties de craps, déterminer la probabilité de gagner au craps.\n"
   ]
  },
  {
   "cell_type": "code",
   "execution_count": null,
   "metadata": {},
   "outputs": [],
   "source": []
  }
 ],
 "metadata": {
  "kernelspec": {
   "display_name": "base",
   "language": "python",
   "name": "python3"
  },
  "language_info": {
   "codemirror_mode": {
    "name": "ipython",
    "version": 3
   },
   "file_extension": ".py",
   "mimetype": "text/x-python",
   "name": "python",
   "nbconvert_exporter": "python",
   "pygments_lexer": "ipython3",
   "version": "3.9.20"
  },
  "toc": {
   "base_numbering": 1,
   "nav_menu": {},
   "number_sections": false,
   "sideBar": true,
   "skip_h1_title": true,
   "title_cell": "Table of Contents",
   "title_sidebar": "Contents",
   "toc_cell": false,
   "toc_position": {
    "height": "calc(100% - 180px)",
    "left": "10px",
    "top": "150px",
    "width": "308.333px"
   },
   "toc_section_display": true,
   "toc_window_display": true
  }
 },
 "nbformat": 4,
 "nbformat_minor": 4
}
