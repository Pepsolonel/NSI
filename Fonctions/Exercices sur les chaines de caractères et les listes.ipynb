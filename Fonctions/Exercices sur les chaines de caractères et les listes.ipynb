{
 "cells": [
  {
   "cell_type": "markdown",
   "metadata": {},
   "source": [
    "# Etude d'une population en Python"
   ]
  },
  {
   "cell_type": "markdown",
   "metadata": {},
   "source": [
    "La zone suivante contient deux listes déjà initialisées :\n",
    "- communes est la liste des villes d'Indre-et-Loire\n",
    "- nbHabitants est la liste des nombres d'habitants respectifs.\n",
    "\n",
    "Pour charger en mémoire ces deux listes, placer votre curseur n'importe où dans la liste et pressez CTRL + Entrée "
   ]
  },
  {
   "cell_type": "code",
   "execution_count": 3,
   "metadata": {
    "trusted": false
   },
   "outputs": [],
   "source": [
    "communes = [\"Abilly\",\"Ambillou\",\"Amboise\",\"Anché\",\"Antogny-le-Tillac\",\"Artannes-sur-Indre\",\"Assay\",\n",
    "           \"Athée-sur-Cher\",\"Autrèche\",\"Auzouer-en-Touraine\",\"Avoine\",\"Avon-les-Roches\",\n",
    "           \"Avrillé-les-Ponceaux\",\"Azay-le-Rideau\",\"Azay-sur-Cher\",\"Azay-sur-Indre\",\"Ballan-Miré\",\n",
    "           \"Barrou\",\"Beaulieu-lès-Loches\",\"Beaumont-en-Véron\",\"Beaumont-Louestault\",\n",
    "           \"Beaumont-Village\",\"Benais\",\"Berthenay\",\"Betz-le-Château\",\"Bléré\",\"Bossay-sur-Claise\",\n",
    "           \"Bossée\",\"Bourgueil\",\"Bournan\",\"Boussay\",\"Braslou\",\"Braye-sous-Faye\",\"Braye-sur-Maulne\",\n",
    "           \"Brèches\",\"Bréhémont\",\"Bridoré\",\"Brizay\",\"Bueil-en-Touraine\",\"Candes-Saint-Martin\",\n",
    "           \"Cangey\",\"Céré-la-Ronde\",\"Cerelles\",\"Chambon\",\"Chambourg-sur-Indre\",\"Chambray-lès-Tours\",\n",
    "           \"Champigny-sur-Veude\",\"Chançay\",\"Chanceaux-près-Loches\",\"Chanceaux-sur-Choisille\",\n",
    "           \"Channay-sur-Lathan\",\"Charentilly\",\"Chargé\",\"Charnizay\",\"Château-la-Vallière\",\n",
    "           \"Château-Renault\",\"Chaumussay\",\"Chaveignes\",\"Chédigny\",\"Cheillé\",\"Chemillé-sur-Dême\",\n",
    "           \"Chemillé-sur-Indrois\",\"Chenonceaux\",\"Chezelles\",\"Chinon\",\"Chisseaux\",\"Chouzé-sur-Loire\",\n",
    "           \"Cigogné\",\"Cinais\",\"Cinq-Mars-la-Pile\",\"Ciran\",\"Civray-de-Touraine\",\"Civray-sur-Esves\",\n",
    "           \"Cléré-les-Pins\",\"Continvoir\",\"Cormery\",\"Coteaux-sur-Loire\",\"Couesmes\",\"Courçay\",\n",
    "           \"Courcelles-de-Touraine\",\"Courcoué\",\"Couziers\",\"Cravant-les-Côteaux\",\"Crissay-sur-Manse\",\n",
    "           \"Crotelles\",\"Crouzilles\",\"Cussay\",\"Dame-Marie-les-Bois\",\"Descartes\",\"Dierre\",\n",
    "           \"Dolus-le-Sec\",\"Draché\",\"Druye\",\"Épeigné-les-Bois\",\"Épeigné-sur-Dême\",\"Esves-le-Moutier\",\n",
    "           \"Esvres\",\"Faye-la-Vineuse\",\"Ferrière-Larçon\",\"Ferrière-sur-Beaulieu\",\"Fondettes\",\n",
    "           \"Francueil\",\"Genillé\",\"Gizeux\",\"Hommes\",\"Huismes\",\"Jaulnay\",\"Joué-lès-Tours\",\n",
    "           \"L'Île-Bouchard\",\"La Celle-Guenand\",\"La Celle-Saint-Avant\",\"La Chapelle-aux-Naux\",\n",
    "           \"La Chapelle-Blanche-Saint-Martin\",\"La Chapelle-sur-Loire\",\"La Croix-en-Touraine\",\n",
    "           \"La Ferrière\",\"La Guerche\",\"La Membrolle-sur-Choisille\",\"La Riche\",\"La Roche-Clermault\",\n",
    "           \"La Tour-Saint-Gelin\",\"La Ville-aux-Dames\",\"Langeais\",\"Larçay\",\"Le Boulay\",\n",
    "           \"Le Grand-Pressigny\",\"Le Liège\",\"Le Louroux\",\"Le Petit-Pressigny\",\"Lémeré\",\"Lerné\",\n",
    "           \"Les Hermites\",\"Lignières-de-Touraine\",\"Ligré\",\"Ligueil\",\"Limeray\",\"Loché-sur-Indrois\",\n",
    "           \"Loches\",\"Louans\",\"Lublé\",\"Lussault-sur-Loire\",\"Luynes\",\"Luzé\",\"Luzillé\",\"Maillé\",\n",
    "           \"Manthelan\",\"Marçay\",\"Marcé-sur-Esves\",\"Marcilly-sur-Maulne\",\"Marcilly-sur-Vienne\",\n",
    "           \"Marigny-Marmande\",\"Marray\",\"Mazières-de-Touraine\",\"Mettray\",\"Monnaie\",\"Montbazon\",\n",
    "           \"Monthodon\",\"Montlouis-sur-Loire\",\"Montrésor\",\"Montreuil-en-Touraine\",\"Monts\",\"Morand\",\n",
    "           \"Mosnes\",\"Mouzay\",\"Nazelles-Négron\",\"Neuil\",\"Neuillé-le-Lierre\",\"Neuillé-Pont-Pierre\",\n",
    "           \"Neuilly-le-Brignon\",\"Neuville-sur-Brenne\",\"Neuvy-le-Roi\",\"Noizay\",\"Notre-Dame-d'Oé\",\n",
    "           \"Nouans-les-Fontaines\",\"Nouâtre\",\"Nouzilly\",\"Noyant-de-Touraine\",\"Orbigny\",\"Panzoult\",\n",
    "           \"Parçay-Meslay\",\"Parçay-sur-Vienne\",\"Paulmy\",\"Pernay\",\"Perrusson\",\"Pocé-sur-Cisse\",\n",
    "           \"Pont-de-Ruan\",\"Ports-sur-Vienne\",\"Pouzay\",\"Preuilly-sur-Claise\",\"Pussigny\",\"Razines\",\n",
    "           \"Reignac-sur-Indre\",\"Restigné\",\"Reugny\",\"Richelieu\",\"Rigny-Ussé\",\"Rillé\",\n",
    "           \"Rilly-sur-Vienne\",\"Rivarennes\",\"Rivière\",\"Rochecorbon\",\"Rouziers-de-Touraine\",\"Saché\",\n",
    "           \"Saint-Antoine-du-Rocher\",\"Saint-Aubin-le-Dépeint\",\"Saint-Avertin\",\n",
    "           \"Saint-Benoît-la-Forêt\",\"Saint-Branchs\",\"Saint-Christophe-sur-le-Nais\",\n",
    "           \"Saint-Cyr-sur-Loire\",\"Saint-Épain\",\"Saint-Étienne-de-Chigny\",\"Saint-Flovier\",\n",
    "           \"Saint-Genouph\",\"Saint-Germain-sur-Vienne\",\"Saint-Hippolyte\",\"Saint-Jean-Saint-Germain\",\n",
    "           \"Saint-Laurent-de-Lin\",\"Saint-Laurent-en-Gâtines\",\"Saint-Martin-le-Beau\",\n",
    "           \"Saint-Nicolas-de-Bourgueil\",\"Saint-Nicolas-des-Motets\",\"Saint-Ouen-les-Vignes\",\n",
    "           \"Saint-Paterne-Racan\",\"Saint-Pierre-des-Corps\",\"Saint-Quentin-sur-Indrois\",\"Saint-Règle\",\n",
    "           \"Saint-Roch\",\"Saint-Senoch\",\"Sainte-Catherine-de-Fierbois\",\"Sainte-Maure-de-Touraine\",\n",
    "           \"Saunay\",\"Savigné-sur-Lathan\",\"Savigny-en-Véron\",\"Savonnières\",\"Sazilly\",\"Semblançay\",\n",
    "           \"Sennevières\",\"Sepmes\",\"Seuilly\",\"Sonzay\",\"Sorigny\",\"Souvigné\",\"Souvigny-de-Touraine\",\n",
    "           \"Sublaines\",\"Tauxigny-Saint-Bauld\",\"Tavant\",\"Theneuil\",\"Thilouze\",\"Thizay\",\n",
    "           \"Tournon-Saint-Pierre\",\"Tours\",\"Trogues\",\"Truyes\",\"Vallères\",\"Varennes\",\"Veigné\",\"Véretz\",\n",
    "           \"Verneuil-le-Château\",\"Verneuil-sur-Indre\",\"Vernou-sur-Brenne\",\"Villaines-les-Rochers\",\n",
    "           \"Villandry\",\"Villebourg\",\"Villedômain\",\"Villedômer\",\"Villeloin-Coulangé\",\"Villeperdue\",\n",
    "           \"Villiers-au-Bouin\",\"Vou\",\"Yzeures-sur-Creuse\"]\n",
    "\n",
    "nbHabitants = [1152,1750,12693,418,509,2639,166,2686,432,2218,1804,554,474,3493,3090,376,8052,464,\n",
    "              1764,1712,247,2692,911,700,554,5250,752,329,3906,272,215,303,296,181,221,759,505,271,\n",
    "              321,185,1057,448,1207,320,1257,11738,839,1140,124,3513,827,1282,1307,501,4944,1751,226,\n",
    "              551,557,1799,727,228,350,134,8145,584,2083,452,411,3621,410,1801,203,1405,437,1784,\n",
    "              1913,519,804,496,249,111,662,104,678,522,565,350,3427,615,671,745,940,410,158,144,\n",
    "              6057,254,244,725,10357,1380,1515,381,881,1440,255,38250,1541,371,1069,683,570,1440,\n",
    "              2348,315,177,3312,10331,522,520,5542,4560,2486,794,896,351,528,338,523,311,561,\n",
    "              1287,1061,2159,1293,479,6232,663,143,815,5099,245,974,573,1348,520,241,225,560,599,478,\n",
    "              1363,2068,4473,4428,634,10825,332,786,7835,342,812,471,3490,442,2022,801,295,913,1084,\n",
    "              1137,4165,741,818,1247,1199,716,605,2422,643,233,1364,1474,1657,1202,363,892,1004,168,\n",
    "              234,1265,1187,1708,1678,506,309,480,996,709,3129,1320,1396,1717,327,14968,850,2614,1119,\n",
    "              15991,1577,1632,569,1047,369,635,760,321,944,3169,1098,254,1003,1657,15766,504,608,1252,\n",
    "              555,768,4142,705,1347,1567,3153,243,2172,208,623,367,1379,2683,872,392,185,1706,263,295,\n",
    "              1753,281,460,136463,303,2440,1279,243,6372,4551,127,478,2710,1058,1124,298,117,1334,594,1049,\n",
    "              755,212,1370]"
   ]
  },
  {
   "cell_type": "markdown",
   "metadata": {},
   "source": [
    "Répondre aux questions suivantes **en écrivant une ou plusieurs instructions en Python**, ou bien **en créant une fonction**.   \n",
    "Tout ce qui est à savoir est dans le notebook sur les listes."
   ]
  },
  {
   "cell_type": "markdown",
   "metadata": {},
   "source": [
    "**Question 1 :**  \n",
    "Combien y-a-t-il de villes dans la liste `communes` ?"
   ]
  },
  {
   "cell_type": "code",
   "execution_count": 4,
   "metadata": {
    "trusted": false
   },
   "outputs": [
    {
     "name": "stdout",
     "output_type": "stream",
     "text": [
      "271\n"
     ]
    }
   ],
   "source": [
    "print(len(communes))"
   ]
  },
  {
   "cell_type": "markdown",
   "metadata": {},
   "source": [
    "**Question 2 :**  \n",
    "Compléter le code suivant et vérifier que le résultat est correct :"
   ]
  },
  {
   "cell_type": "code",
   "execution_count": 6,
   "metadata": {
    "trusted": false
   },
   "outputs": [
    {
     "name": "stdout",
     "output_type": "stream",
     "text": [
      "Les listes communes et nbHabitants ont bien le même effectif\n"
     ]
    }
   ],
   "source": [
    "if len(communes)==len(nbHabitants):\n",
    "    print(\"Les listes communes et nbHabitants ont bien le même effectif\")\n",
    "else:\n",
    "    print(\"Il y a un problème.\")"
   ]
  },
  {
   "cell_type": "markdown",
   "metadata": {},
   "source": [
    "**Question 3 :**  \n",
    "Sachant qu'Amboise est la 3ème ville de la liste, faire afficher son nombre d'habitants. Penser à vérifier. "
   ]
  },
  {
   "cell_type": "code",
   "execution_count": 11,
   "metadata": {
    "trusted": false
   },
   "outputs": [
    {
     "name": "stdout",
     "output_type": "stream",
     "text": [
      "12693\n"
     ]
    }
   ],
   "source": [
    "print(nbHabitants[2])\n",
    "assert communes[2]=='Amboise', 'Il y a un problème'"
   ]
  },
  {
   "cell_type": "markdown",
   "metadata": {},
   "source": [
    "**Question 4 :**  \n",
    "La ville de \"Vouvray\", qui compte 3246 habitants, a été oubliée.  \n",
    "Ecrire les deux instructions qui permettront d'ajouter en fin de listes les informations manquantes."
   ]
  },
  {
   "cell_type": "code",
   "execution_count": 12,
   "metadata": {
    "trusted": false
   },
   "outputs": [],
   "source": [
    "communes.append('Vouvray')\n",
    "nbHabitants.append(3246)"
   ]
  },
  {
   "cell_type": "markdown",
   "metadata": {},
   "source": [
    "**Question 5 :**  \n",
    "Ecrire un script Python permettant de calculer le nombre total d'habitants en Indre-et-Loire.  \n",
    "Contrainte : l'utilisation de la fonction `sum` de Python n'est pas autorisée, il faudra donc écrire une boucle pour calculer cette somme."
   ]
  },
  {
   "cell_type": "code",
   "execution_count": 14,
   "metadata": {
    "trusted": false
   },
   "outputs": [
    {
     "name": "stdout",
     "output_type": "stream",
     "text": [
      "607760\n"
     ]
    }
   ],
   "source": [
    "a=0\n",
    "for i in nbHabitants:\n",
    "    a+=i\n",
    "print(a)"
   ]
  },
  {
   "cell_type": "markdown",
   "metadata": {},
   "source": [
    "**Question 6 :**  \n",
    "Ecrire le script Python d'une fonction `existeVille` qui prend pour paramètre `nomVille`, une chaîne de caractères, et qui renvoie `True` si `nomVille` est une ville d'Indre-et-Loire, `False` sinon."
   ]
  },
  {
   "cell_type": "code",
   "execution_count": null,
   "metadata": {
    "trusted": false
   },
   "outputs": [],
   "source": [
    "def existeVille(nomVille):\n",
    "    \"\"\"\n",
    "    Paramètre\n",
    "    ---------\n",
    "    (int)\n",
    "    Le nom de la commune dont on veut vérifier la présence en Indre et Loire\n",
    "\n",
    "    Résultat\n",
    "    --------\n",
    "    (bool)\n",
    "    Cette fonction renvoie True si la ville est en Indre et Loire et False si elle ne l'est pas\n",
    "    \"\"\"\n",
    "    if nomVille in communes:\n",
    "        return True\n",
    "    else:\n",
    "        return False"
   ]
  },
  {
   "cell_type": "markdown",
   "metadata": {},
   "source": [
    "En exécutant les codes suivants, vérifier que votre fonction ne génère pas d'erreur. "
   ]
  },
  {
   "cell_type": "code",
   "execution_count": 16,
   "metadata": {
    "trusted": false
   },
   "outputs": [],
   "source": [
    "assert existeVille('Vou') == True, \"Erreur, Vou n'a pas été trouvée, revoir le code de la fonction existeVille\"\n",
    "assert existeVille('VILLEPERDUE') == False, \"Erreur, revoir votre fonction\"    "
   ]
  },
  {
   "cell_type": "markdown",
   "metadata": {},
   "source": [
    "**Question 7 :**  \n",
    "En Python, il existe une fonction qui renvoie la position (c'est-à-dire le rang) d'une valeur dans une liste.  \n",
    "Par exemple, si `L = ['a', 'b', 'c', 'd']`, alors `L.index('b')` renvoie `1` car `L[1] = 'b'`.  \n",
    "\n",
    "Dans la question suivante, écrire le script d'une fonction Python `donneIndice` qui prend pour paramètre une chaîne de caractères `nomVille`, et qui renvoie l'indice de `nomVille` si `nomVille` est dans la liste `commune`, `-1` sinon.\n",
    "\n",
    "Par exemple : `donneIndice('Antogny-le-Tillac')` doit renvoyer `4` puisque `commune[4] = 'Antogny-le-Tillac'`, alors que \n",
    "`donneIndice('La Ravoire')` doit renvoyer `-1`. "
   ]
  },
  {
   "cell_type": "code",
   "execution_count": 23,
   "metadata": {
    "trusted": false
   },
   "outputs": [],
   "source": [
    "def donneIndice(nomVille):\n",
    "    \"\"\"\n",
    "    Paramètre\n",
    "    ---------\n",
    "    (int)\n",
    "    le nom de la commune dont on veut l'index dans la liste des communes d'Indre et Loire\n",
    "    \n",
    "    Résultat\n",
    "    --------\n",
    "    (int)\n",
    "    Cette fonction renvoie l'index de la commune dans la liste des communes d'Indre et Loire et -1 si il n'y figure pas\n",
    "    \"\"\"\n",
    "    if nomVille in communes:\n",
    "        return communes.index(nomVille)\n",
    "    else:\n",
    "        return -1\n"
   ]
  },
  {
   "cell_type": "code",
   "execution_count": 24,
   "metadata": {
    "trusted": false
   },
   "outputs": [],
   "source": [
    "assert donneIndice('Antogny-le-Tillac') == 4\n",
    "assert donneIndice('La Ravoire') == -1"
   ]
  },
  {
   "cell_type": "markdown",
   "metadata": {},
   "source": [
    "A l'aide de la fonction `donneIndice` précédente, écrire une fonction Python `effectif` qui prend pour paramètre une chaîne de caractères `nomVille` et qui renvoie le nombre d'habitants de `nomVille` s'il s'agit d'une ville d'Indre-et-Loire, `0` sinon."
   ]
  },
  {
   "cell_type": "code",
   "execution_count": 25,
   "metadata": {
    "trusted": false
   },
   "outputs": [],
   "source": [
    "def effectif(nomVille):\n",
    "    \"\"\"\n",
    "    Paramètre\n",
    "    ---------\n",
    "    (int)\n",
    "    Le nom de la commune d'Indre et Loire dont on veut le nombre d'habitants\n",
    "\n",
    "    Résultat\n",
    "    --------\n",
    "    (int)\n",
    "    Cette fonction le nombre d'habitants de la commune en Indre et Loire et 0 si ce n'est pas une commune d'Indre et Loire\n",
    "    \"\"\"\n",
    "    a=donneIndice(nomVille)\n",
    "    if a>=0:\n",
    "        return nbHabitants.index(a)\n",
    "    else:\n",
    "        return 0"
   ]
  },
  {
   "cell_type": "markdown",
   "metadata": {},
   "source": [
    "**Question 8 :**  \n",
    "Ecrire une fonction `villesDePremLettre` qui prend pour paramètre `initiale`, une chaîne de 1 caractère, et qui renvoie la liste de tous les noms de villes dont la première lettre est `initiale`. \n"
   ]
  },
  {
   "cell_type": "code",
   "execution_count": 29,
   "metadata": {
    "trusted": false
   },
   "outputs": [],
   "source": [
    "def villesDePremLettre(initiale):\n",
    "    l=[]\n",
    "    initiale=initiale.upper()\n",
    "    for i in communes:\n",
    "        a=i[0]\n",
    "        if a==initiale:\n",
    "            l.append(i)\n",
    "    return l\n"
   ]
  },
  {
   "cell_type": "code",
   "execution_count": 30,
   "metadata": {
    "trusted": false
   },
   "outputs": [],
   "source": [
    "assert villesDePremLettre('E') == [\"Esves-le-Moutier\", \"Esvres\"]"
   ]
  },
  {
   "cell_type": "markdown",
   "metadata": {},
   "source": [
    "**Question 9 :**  \n",
    "Ecrire quelques lignes de code permettant d'afficher la moyenne des nombres d'habitants des villes de l'Indre-et-Loire."
   ]
  },
  {
   "cell_type": "code",
   "execution_count": 43,
   "metadata": {
    "trusted": false
   },
   "outputs": [
    {
     "name": "stdout",
     "output_type": "stream",
     "text": [
      "2234.4117647058824\n"
     ]
    }
   ],
   "source": [
    "a=0\n",
    "for i in range(len(communes)):\n",
    "    a+=nbHabitants[i]\n",
    "a/=len(communes)\n",
    "print(a)"
   ]
  },
  {
   "cell_type": "markdown",
   "metadata": {},
   "source": [
    "**FIN**  \n",
    "Vous avez terminé ! Vérifier cependant que :\n",
    "- lorsque la consigne est \"afficher...\", vous avez bien utilisé l'instruction `print`, et que lorsque la consigne est du genre \"écrire le script d'une fonction Python qui renvoie ...\", vous avez bien utilisé l'instruction `return`.  \n",
    "\n",
    "- Si vous avez dû choisir des noms de variables, vérifier que ces noms soient bien significatifs de ce qu'ils représentent.\n",
    "\n",
    "N'oubliez pas de sauvegarder puis de cliquer sur \"Rendre le travail\" tout en haut de la fenêtre"
   ]
  },
  {
   "cell_type": "code",
   "execution_count": null,
   "metadata": {
    "trusted": false
   },
   "outputs": [],
   "source": []
  }
 ],
 "metadata": {
  "kernelspec": {
   "display_name": "Python 3",
   "language": "python",
   "name": "python3"
  },
  "language_info": {
   "codemirror_mode": {
    "name": "ipython",
    "version": 3
   },
   "file_extension": ".py",
   "mimetype": "text/x-python",
   "name": "python",
   "nbconvert_exporter": "python",
   "pygments_lexer": "ipython3",
   "version": "3.12.7"
  }
 },
 "nbformat": 4,
 "nbformat_minor": 2
}
